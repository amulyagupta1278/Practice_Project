{
  "nbformat": 4,
  "nbformat_minor": 0,
  "metadata": {
    "colab": {
      "name": "Lab1+2.ipynb",
      "provenance": [],
      "include_colab_link": true
    },
    "kernelspec": {
      "name": "python3",
      "display_name": "Python 3"
    },
    "language_info": {
      "name": "python"
    }
  },
  "cells": [
    {
      "cell_type": "markdown",
      "metadata": {
        "id": "view-in-github",
        "colab_type": "text"
      },
      "source": [
        "<a href=\"https://colab.research.google.com/github/amulyagupta1278/Coding-Projects/blob/Deep-Learning/Lab1%2B2.ipynb\" target=\"_parent\"><img src=\"https://colab.research.google.com/assets/colab-badge.svg\" alt=\"Open In Colab\"/></a>"
      ]
    },
    {
      "cell_type": "markdown",
      "source": [
        "# ML Models and deployment"
      ],
      "metadata": {
        "id": "m_s9QWzITGmI"
      }
    },
    {
      "cell_type": "markdown",
      "source": [
        "## Linear Models\n",
        "\n",
        "\n",
        "### Linear Regression, \n",
        "### Linear Classifier"
      ],
      "metadata": {
        "id": "cVviOFg6Tc-a"
      }
    },
    {
      "cell_type": "markdown",
      "source": [
        "y = mx+c\n",
        "\n",
        "\n",
        "y=m1.x1 + m2.x2 + ..... + c"
      ],
      "metadata": {
        "id": "xsURMpEhUW92"
      }
    },
    {
      "cell_type": "markdown",
      "source": [
        "Stock Market\n",
        "\n",
        "I wish to predict the price a stock few years down the line"
      ],
      "metadata": {
        "id": "MoK64_DpVIbc"
      }
    },
    {
      "cell_type": "code",
      "execution_count": null,
      "metadata": {
        "colab": {
          "base_uri": "https://localhost:8080/",
          "resources": {
            "http://localhost:8080/nbextensions/google.colab/files.js": {
              "data": "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",
              "ok": true,
              "headers": [
                [
                  "content-type",
                  "application/javascript"
                ]
              ],
              "status": 200,
              "status_text": ""
            }
          },
          "height": 56
        },
        "id": "XkdV7uGbS1oJ",
        "outputId": "23468dbc-e3ce-43ad-805c-7c973f48121a"
      },
      "outputs": [
        {
          "output_type": "display_data",
          "data": {
            "text/html": [
              "\n",
              "     <input type=\"file\" id=\"files-6e6dc4dc-c85b-42c2-956a-9492084d74e1\" name=\"files[]\" multiple disabled\n",
              "        style=\"border:none\" />\n",
              "     <output id=\"result-6e6dc4dc-c85b-42c2-956a-9492084d74e1\">\n",
              "      Upload widget is only available when the cell has been executed in the\n",
              "      current browser session. Please rerun this cell to enable.\n",
              "      </output>\n",
              "      <script src=\"/nbextensions/google.colab/files.js\"></script> "
            ],
            "text/plain": [
              "<IPython.core.display.HTML object>"
            ]
          },
          "metadata": {}
        },
        {
          "output_type": "stream",
          "name": "stdout",
          "text": [
            "Saving kaggle.json to kaggle.json\n"
          ]
        }
      ],
      "source": [
        "from google.colab import files\n",
        "uploaded=files.upload()"
      ]
    },
    {
      "cell_type": "code",
      "source": [
        "!mkdir -p ~/.kaggle/ && mv kaggle.json ~/.kaggle/"
      ],
      "metadata": {
        "id": "h9IrhkAeV-1_"
      },
      "execution_count": null,
      "outputs": []
    },
    {
      "cell_type": "code",
      "source": [
        "!kaggle datasets download -d dgawlik/nyse"
      ],
      "metadata": {
        "id": "gBU5TUfoW8bT",
        "colab": {
          "base_uri": "https://localhost:8080/"
        },
        "outputId": "99c9ba47-d522-4e33-8cea-4db3804b0395"
      },
      "execution_count": null,
      "outputs": [
        {
          "output_type": "stream",
          "name": "stdout",
          "text": [
            "Warning: Your Kaggle API key is readable by other users on this system! To fix this, you can run 'chmod 600 /root/.kaggle/kaggle.json'\n",
            "Downloading nyse.zip to /content/titanic/titanic\n",
            " 72% 22.0M/30.7M [00:00<00:00, 103MB/s] \n",
            "100% 30.7M/30.7M [00:00<00:00, 116MB/s]\n"
          ]
        }
      ]
    },
    {
      "cell_type": "code",
      "source": [
        "!ls"
      ],
      "metadata": {
        "id": "gzn-cvPcXgK0",
        "colab": {
          "base_uri": "https://localhost:8080/"
        },
        "outputId": "f0dce249-efbe-436c-f036-d9a706a47cbe"
      },
      "execution_count": null,
      "outputs": [
        {
          "output_type": "stream",
          "name": "stdout",
          "text": [
            "gender_submission.csv  nyse.zip  test.csv  train.csv\n"
          ]
        }
      ]
    },
    {
      "cell_type": "code",
      "source": [
        "!unzip nyse.zip"
      ],
      "metadata": {
        "id": "F1RMmBi9XkIB",
        "colab": {
          "base_uri": "https://localhost:8080/"
        },
        "outputId": "ab8a82e1-0460-4669-a5b1-5e25e496791b"
      },
      "execution_count": null,
      "outputs": [
        {
          "output_type": "stream",
          "name": "stdout",
          "text": [
            "Archive:  nyse.zip\n",
            "  inflating: fundamentals.csv        \n",
            "  inflating: prices-split-adjusted.csv  \n",
            "  inflating: prices.csv              \n",
            "  inflating: securities.csv          \n"
          ]
        }
      ]
    },
    {
      "cell_type": "code",
      "source": [
        "import pandas as pd\n",
        "dataframe = pd.read_csv('prices-split-adjusted.csv',parse_dates=['date'])#date will be used as an object to another library\n",
        "dataframe.head()"
      ],
      "metadata": {
        "id": "PGOeBqNQXphC",
        "colab": {
          "base_uri": "https://localhost:8080/",
          "height": 206
        },
        "outputId": "5888fd3d-27fd-4702-f98a-b571a430ddf6"
      },
      "execution_count": null,
      "outputs": [
        {
          "output_type": "execute_result",
          "data": {
            "text/html": [
              "\n",
              "  <div id=\"df-2f9fab4a-b45f-437f-b209-afa29a4a6072\">\n",
              "    <div class=\"colab-df-container\">\n",
              "      <div>\n",
              "<style scoped>\n",
              "    .dataframe tbody tr th:only-of-type {\n",
              "        vertical-align: middle;\n",
              "    }\n",
              "\n",
              "    .dataframe tbody tr th {\n",
              "        vertical-align: top;\n",
              "    }\n",
              "\n",
              "    .dataframe thead th {\n",
              "        text-align: right;\n",
              "    }\n",
              "</style>\n",
              "<table border=\"1\" class=\"dataframe\">\n",
              "  <thead>\n",
              "    <tr style=\"text-align: right;\">\n",
              "      <th></th>\n",
              "      <th>date</th>\n",
              "      <th>symbol</th>\n",
              "      <th>open</th>\n",
              "      <th>close</th>\n",
              "      <th>low</th>\n",
              "      <th>high</th>\n",
              "      <th>volume</th>\n",
              "    </tr>\n",
              "  </thead>\n",
              "  <tbody>\n",
              "    <tr>\n",
              "      <th>0</th>\n",
              "      <td>2016-01-05</td>\n",
              "      <td>WLTW</td>\n",
              "      <td>123.430000</td>\n",
              "      <td>125.839996</td>\n",
              "      <td>122.309998</td>\n",
              "      <td>126.250000</td>\n",
              "      <td>2163600.0</td>\n",
              "    </tr>\n",
              "    <tr>\n",
              "      <th>1</th>\n",
              "      <td>2016-01-06</td>\n",
              "      <td>WLTW</td>\n",
              "      <td>125.239998</td>\n",
              "      <td>119.980003</td>\n",
              "      <td>119.940002</td>\n",
              "      <td>125.540001</td>\n",
              "      <td>2386400.0</td>\n",
              "    </tr>\n",
              "    <tr>\n",
              "      <th>2</th>\n",
              "      <td>2016-01-07</td>\n",
              "      <td>WLTW</td>\n",
              "      <td>116.379997</td>\n",
              "      <td>114.949997</td>\n",
              "      <td>114.930000</td>\n",
              "      <td>119.739998</td>\n",
              "      <td>2489500.0</td>\n",
              "    </tr>\n",
              "    <tr>\n",
              "      <th>3</th>\n",
              "      <td>2016-01-08</td>\n",
              "      <td>WLTW</td>\n",
              "      <td>115.480003</td>\n",
              "      <td>116.620003</td>\n",
              "      <td>113.500000</td>\n",
              "      <td>117.440002</td>\n",
              "      <td>2006300.0</td>\n",
              "    </tr>\n",
              "    <tr>\n",
              "      <th>4</th>\n",
              "      <td>2016-01-11</td>\n",
              "      <td>WLTW</td>\n",
              "      <td>117.010002</td>\n",
              "      <td>114.970001</td>\n",
              "      <td>114.089996</td>\n",
              "      <td>117.330002</td>\n",
              "      <td>1408600.0</td>\n",
              "    </tr>\n",
              "  </tbody>\n",
              "</table>\n",
              "</div>\n",
              "      <button class=\"colab-df-convert\" onclick=\"convertToInteractive('df-2f9fab4a-b45f-437f-b209-afa29a4a6072')\"\n",
              "              title=\"Convert this dataframe to an interactive table.\"\n",
              "              style=\"display:none;\">\n",
              "        \n",
              "  <svg xmlns=\"http://www.w3.org/2000/svg\" height=\"24px\"viewBox=\"0 0 24 24\"\n",
              "       width=\"24px\">\n",
              "    <path d=\"M0 0h24v24H0V0z\" fill=\"none\"/>\n",
              "    <path d=\"M18.56 5.44l.94 2.06.94-2.06 2.06-.94-2.06-.94-.94-2.06-.94 2.06-2.06.94zm-11 1L8.5 8.5l.94-2.06 2.06-.94-2.06-.94L8.5 2.5l-.94 2.06-2.06.94zm10 10l.94 2.06.94-2.06 2.06-.94-2.06-.94-.94-2.06-.94 2.06-2.06.94z\"/><path d=\"M17.41 7.96l-1.37-1.37c-.4-.4-.92-.59-1.43-.59-.52 0-1.04.2-1.43.59L10.3 9.45l-7.72 7.72c-.78.78-.78 2.05 0 2.83L4 21.41c.39.39.9.59 1.41.59.51 0 1.02-.2 1.41-.59l7.78-7.78 2.81-2.81c.8-.78.8-2.07 0-2.86zM5.41 20L4 18.59l7.72-7.72 1.47 1.35L5.41 20z\"/>\n",
              "  </svg>\n",
              "      </button>\n",
              "      \n",
              "  <style>\n",
              "    .colab-df-container {\n",
              "      display:flex;\n",
              "      flex-wrap:wrap;\n",
              "      gap: 12px;\n",
              "    }\n",
              "\n",
              "    .colab-df-convert {\n",
              "      background-color: #E8F0FE;\n",
              "      border: none;\n",
              "      border-radius: 50%;\n",
              "      cursor: pointer;\n",
              "      display: none;\n",
              "      fill: #1967D2;\n",
              "      height: 32px;\n",
              "      padding: 0 0 0 0;\n",
              "      width: 32px;\n",
              "    }\n",
              "\n",
              "    .colab-df-convert:hover {\n",
              "      background-color: #E2EBFA;\n",
              "      box-shadow: 0px 1px 2px rgba(60, 64, 67, 0.3), 0px 1px 3px 1px rgba(60, 64, 67, 0.15);\n",
              "      fill: #174EA6;\n",
              "    }\n",
              "\n",
              "    [theme=dark] .colab-df-convert {\n",
              "      background-color: #3B4455;\n",
              "      fill: #D2E3FC;\n",
              "    }\n",
              "\n",
              "    [theme=dark] .colab-df-convert:hover {\n",
              "      background-color: #434B5C;\n",
              "      box-shadow: 0px 1px 3px 1px rgba(0, 0, 0, 0.15);\n",
              "      filter: drop-shadow(0px 1px 2px rgba(0, 0, 0, 0.3));\n",
              "      fill: #FFFFFF;\n",
              "    }\n",
              "  </style>\n",
              "\n",
              "      <script>\n",
              "        const buttonEl =\n",
              "          document.querySelector('#df-2f9fab4a-b45f-437f-b209-afa29a4a6072 button.colab-df-convert');\n",
              "        buttonEl.style.display =\n",
              "          google.colab.kernel.accessAllowed ? 'block' : 'none';\n",
              "\n",
              "        async function convertToInteractive(key) {\n",
              "          const element = document.querySelector('#df-2f9fab4a-b45f-437f-b209-afa29a4a6072');\n",
              "          const dataTable =\n",
              "            await google.colab.kernel.invokeFunction('convertToInteractive',\n",
              "                                                     [key], {});\n",
              "          if (!dataTable) return;\n",
              "\n",
              "          const docLinkHtml = 'Like what you see? Visit the ' +\n",
              "            '<a target=\"_blank\" href=https://colab.research.google.com/notebooks/data_table.ipynb>data table notebook</a>'\n",
              "            + ' to learn more about interactive tables.';\n",
              "          element.innerHTML = '';\n",
              "          dataTable['output_type'] = 'display_data';\n",
              "          await google.colab.output.renderOutput(dataTable, element);\n",
              "          const docLink = document.createElement('div');\n",
              "          docLink.innerHTML = docLinkHtml;\n",
              "          element.appendChild(docLink);\n",
              "        }\n",
              "      </script>\n",
              "    </div>\n",
              "  </div>\n",
              "  "
            ],
            "text/plain": [
              "        date symbol        open       close         low        high     volume\n",
              "0 2016-01-05   WLTW  123.430000  125.839996  122.309998  126.250000  2163600.0\n",
              "1 2016-01-06   WLTW  125.239998  119.980003  119.940002  125.540001  2386400.0\n",
              "2 2016-01-07   WLTW  116.379997  114.949997  114.930000  119.739998  2489500.0\n",
              "3 2016-01-08   WLTW  115.480003  116.620003  113.500000  117.440002  2006300.0\n",
              "4 2016-01-11   WLTW  117.010002  114.970001  114.089996  117.330002  1408600.0"
            ]
          },
          "metadata": {},
          "execution_count": 147
        }
      ]
    },
    {
      "cell_type": "code",
      "source": [
        "google_df = dataframe[dataframe['symbol']=='GOOG'].set_index('date')\n",
        "google_df.head()"
      ],
      "metadata": {
        "id": "lKUAPVeuYJRp",
        "colab": {
          "base_uri": "https://localhost:8080/",
          "height": 237
        },
        "outputId": "91248231-ea99-419b-9968-c37ae7d57710"
      },
      "execution_count": null,
      "outputs": [
        {
          "output_type": "execute_result",
          "data": {
            "text/html": [
              "\n",
              "  <div id=\"df-c7f15c10-3e59-4475-8f26-c646b3c4c13d\">\n",
              "    <div class=\"colab-df-container\">\n",
              "      <div>\n",
              "<style scoped>\n",
              "    .dataframe tbody tr th:only-of-type {\n",
              "        vertical-align: middle;\n",
              "    }\n",
              "\n",
              "    .dataframe tbody tr th {\n",
              "        vertical-align: top;\n",
              "    }\n",
              "\n",
              "    .dataframe thead th {\n",
              "        text-align: right;\n",
              "    }\n",
              "</style>\n",
              "<table border=\"1\" class=\"dataframe\">\n",
              "  <thead>\n",
              "    <tr style=\"text-align: right;\">\n",
              "      <th></th>\n",
              "      <th>symbol</th>\n",
              "      <th>open</th>\n",
              "      <th>close</th>\n",
              "      <th>low</th>\n",
              "      <th>high</th>\n",
              "      <th>volume</th>\n",
              "    </tr>\n",
              "    <tr>\n",
              "      <th>date</th>\n",
              "      <th></th>\n",
              "      <th></th>\n",
              "      <th></th>\n",
              "      <th></th>\n",
              "      <th></th>\n",
              "      <th></th>\n",
              "    </tr>\n",
              "  </thead>\n",
              "  <tbody>\n",
              "    <tr>\n",
              "      <th>2010-01-04</th>\n",
              "      <td>GOOG</td>\n",
              "      <td>312.304948</td>\n",
              "      <td>312.205308</td>\n",
              "      <td>310.955001</td>\n",
              "      <td>313.580158</td>\n",
              "      <td>3927000.0</td>\n",
              "    </tr>\n",
              "    <tr>\n",
              "      <th>2010-01-05</th>\n",
              "      <td>GOOG</td>\n",
              "      <td>312.419511</td>\n",
              "      <td>310.830459</td>\n",
              "      <td>309.610028</td>\n",
              "      <td>312.748278</td>\n",
              "      <td>6031900.0</td>\n",
              "    </tr>\n",
              "    <tr>\n",
              "      <th>2010-01-06</th>\n",
              "      <td>GOOG</td>\n",
              "      <td>311.761979</td>\n",
              "      <td>302.994813</td>\n",
              "      <td>302.048370</td>\n",
              "      <td>311.761979</td>\n",
              "      <td>7987100.0</td>\n",
              "    </tr>\n",
              "    <tr>\n",
              "      <th>2010-01-07</th>\n",
              "      <td>GOOG</td>\n",
              "      <td>303.562685</td>\n",
              "      <td>295.941242</td>\n",
              "      <td>295.218951</td>\n",
              "      <td>303.861575</td>\n",
              "      <td>12876600.0</td>\n",
              "    </tr>\n",
              "    <tr>\n",
              "      <th>2010-01-08</th>\n",
              "      <td>GOOG</td>\n",
              "      <td>294.895159</td>\n",
              "      <td>299.886470</td>\n",
              "      <td>293.455551</td>\n",
              "      <td>300.499172</td>\n",
              "      <td>9483900.0</td>\n",
              "    </tr>\n",
              "  </tbody>\n",
              "</table>\n",
              "</div>\n",
              "      <button class=\"colab-df-convert\" onclick=\"convertToInteractive('df-c7f15c10-3e59-4475-8f26-c646b3c4c13d')\"\n",
              "              title=\"Convert this dataframe to an interactive table.\"\n",
              "              style=\"display:none;\">\n",
              "        \n",
              "  <svg xmlns=\"http://www.w3.org/2000/svg\" height=\"24px\"viewBox=\"0 0 24 24\"\n",
              "       width=\"24px\">\n",
              "    <path d=\"M0 0h24v24H0V0z\" fill=\"none\"/>\n",
              "    <path d=\"M18.56 5.44l.94 2.06.94-2.06 2.06-.94-2.06-.94-.94-2.06-.94 2.06-2.06.94zm-11 1L8.5 8.5l.94-2.06 2.06-.94-2.06-.94L8.5 2.5l-.94 2.06-2.06.94zm10 10l.94 2.06.94-2.06 2.06-.94-2.06-.94-.94-2.06-.94 2.06-2.06.94z\"/><path d=\"M17.41 7.96l-1.37-1.37c-.4-.4-.92-.59-1.43-.59-.52 0-1.04.2-1.43.59L10.3 9.45l-7.72 7.72c-.78.78-.78 2.05 0 2.83L4 21.41c.39.39.9.59 1.41.59.51 0 1.02-.2 1.41-.59l7.78-7.78 2.81-2.81c.8-.78.8-2.07 0-2.86zM5.41 20L4 18.59l7.72-7.72 1.47 1.35L5.41 20z\"/>\n",
              "  </svg>\n",
              "      </button>\n",
              "      \n",
              "  <style>\n",
              "    .colab-df-container {\n",
              "      display:flex;\n",
              "      flex-wrap:wrap;\n",
              "      gap: 12px;\n",
              "    }\n",
              "\n",
              "    .colab-df-convert {\n",
              "      background-color: #E8F0FE;\n",
              "      border: none;\n",
              "      border-radius: 50%;\n",
              "      cursor: pointer;\n",
              "      display: none;\n",
              "      fill: #1967D2;\n",
              "      height: 32px;\n",
              "      padding: 0 0 0 0;\n",
              "      width: 32px;\n",
              "    }\n",
              "\n",
              "    .colab-df-convert:hover {\n",
              "      background-color: #E2EBFA;\n",
              "      box-shadow: 0px 1px 2px rgba(60, 64, 67, 0.3), 0px 1px 3px 1px rgba(60, 64, 67, 0.15);\n",
              "      fill: #174EA6;\n",
              "    }\n",
              "\n",
              "    [theme=dark] .colab-df-convert {\n",
              "      background-color: #3B4455;\n",
              "      fill: #D2E3FC;\n",
              "    }\n",
              "\n",
              "    [theme=dark] .colab-df-convert:hover {\n",
              "      background-color: #434B5C;\n",
              "      box-shadow: 0px 1px 3px 1px rgba(0, 0, 0, 0.15);\n",
              "      filter: drop-shadow(0px 1px 2px rgba(0, 0, 0, 0.3));\n",
              "      fill: #FFFFFF;\n",
              "    }\n",
              "  </style>\n",
              "\n",
              "      <script>\n",
              "        const buttonEl =\n",
              "          document.querySelector('#df-c7f15c10-3e59-4475-8f26-c646b3c4c13d button.colab-df-convert');\n",
              "        buttonEl.style.display =\n",
              "          google.colab.kernel.accessAllowed ? 'block' : 'none';\n",
              "\n",
              "        async function convertToInteractive(key) {\n",
              "          const element = document.querySelector('#df-c7f15c10-3e59-4475-8f26-c646b3c4c13d');\n",
              "          const dataTable =\n",
              "            await google.colab.kernel.invokeFunction('convertToInteractive',\n",
              "                                                     [key], {});\n",
              "          if (!dataTable) return;\n",
              "\n",
              "          const docLinkHtml = 'Like what you see? Visit the ' +\n",
              "            '<a target=\"_blank\" href=https://colab.research.google.com/notebooks/data_table.ipynb>data table notebook</a>'\n",
              "            + ' to learn more about interactive tables.';\n",
              "          element.innerHTML = '';\n",
              "          dataTable['output_type'] = 'display_data';\n",
              "          await google.colab.output.renderOutput(dataTable, element);\n",
              "          const docLink = document.createElement('div');\n",
              "          docLink.innerHTML = docLinkHtml;\n",
              "          element.appendChild(docLink);\n",
              "        }\n",
              "      </script>\n",
              "    </div>\n",
              "  </div>\n",
              "  "
            ],
            "text/plain": [
              "           symbol        open       close         low        high      volume\n",
              "date                                                                         \n",
              "2010-01-04   GOOG  312.304948  312.205308  310.955001  313.580158   3927000.0\n",
              "2010-01-05   GOOG  312.419511  310.830459  309.610028  312.748278   6031900.0\n",
              "2010-01-06   GOOG  311.761979  302.994813  302.048370  311.761979   7987100.0\n",
              "2010-01-07   GOOG  303.562685  295.941242  295.218951  303.861575  12876600.0\n",
              "2010-01-08   GOOG  294.895159  299.886470  293.455551  300.499172   9483900.0"
            ]
          },
          "metadata": {},
          "execution_count": 148
        }
      ]
    },
    {
      "cell_type": "code",
      "source": [
        "len(google_df)"
      ],
      "metadata": {
        "id": "Mc6QZEBNZn5N",
        "colab": {
          "base_uri": "https://localhost:8080/"
        },
        "outputId": "bd8c0e2d-3b59-4187-8373-c02259f5705b"
      },
      "execution_count": null,
      "outputs": [
        {
          "output_type": "execute_result",
          "data": {
            "text/plain": [
              "1762"
            ]
          },
          "metadata": {},
          "execution_count": 149
        }
      ]
    },
    {
      "cell_type": "code",
      "source": [
        "google_df.loc['2010-01-04']"
      ],
      "metadata": {
        "id": "PrnRVEo9ZrST",
        "colab": {
          "base_uri": "https://localhost:8080/"
        },
        "outputId": "04ce6909-0f7c-46e4-8c46-a8f24daa3cb4"
      },
      "execution_count": null,
      "outputs": [
        {
          "output_type": "execute_result",
          "data": {
            "text/plain": [
              "symbol         GOOG\n",
              "open        312.305\n",
              "close       312.205\n",
              "low         310.955\n",
              "high         313.58\n",
              "volume    3.927e+06\n",
              "Name: 2010-01-04 00:00:00, dtype: object"
            ]
          },
          "metadata": {},
          "execution_count": 150
        }
      ]
    },
    {
      "cell_type": "code",
      "source": [
        "import matplotlib.pyplot as plt\n",
        "plt.figure(figsize=(15,7))\n",
        "plt.plot(google_df.close)"
      ],
      "metadata": {
        "id": "2xlVTTZ2Z6Ze",
        "colab": {
          "base_uri": "https://localhost:8080/",
          "height": 445
        },
        "outputId": "7000a2c6-e072-4fe3-de48-a8366eba6cd1"
      },
      "execution_count": null,
      "outputs": [
        {
          "output_type": "execute_result",
          "data": {
            "text/plain": [
              "[<matplotlib.lines.Line2D at 0x7f776cd24950>]"
            ]
          },
          "metadata": {},
          "execution_count": 151
        },
        {
          "output_type": "display_data",
          "data": {
            "image/png": "[encoded data removed]",
            "text/plain": [
              "<Figure size 1080x504 with 1 Axes>"
            ]
          },
          "metadata": {
            "needs_background": "light"
          }
        }
      ]
    },
    {
      "cell_type": "markdown",
      "source": [
        "I want to predict, approximately the price of this stock on some date, using whatever data I have. So, if I fit a straight line to this, and extrapolate to a few years down the line, i would get an answer that may be a prediction."
      ],
      "metadata": {
        "id": "6cytBuvPaTbN"
      }
    },
    {
      "cell_type": "code",
      "source": [
        "first_day = google_df.index.min()\n",
        "first_day"
      ],
      "metadata": {
        "id": "bz49DaePaIvM",
        "colab": {
          "base_uri": "https://localhost:8080/"
        },
        "outputId": "18b087bd-3776-4088-8279-e5d461cd881f"
      },
      "execution_count": null,
      "outputs": [
        {
          "output_type": "execute_result",
          "data": {
            "text/plain": [
              "Timestamp('2010-01-04 00:00:00')"
            ]
          },
          "metadata": {},
          "execution_count": 152
        }
      ]
    },
    {
      "cell_type": "code",
      "source": [
        "def calculate_day_since(date, reference=first_day): return (date-reference).days"
      ],
      "metadata": {
        "id": "bUUoQ613bB2c"
      },
      "execution_count": null,
      "outputs": []
    },
    {
      "cell_type": "code",
      "source": [
        "from datetime import datetime\n",
        "calculate_day_since(datetime(2022,1,22))\n"
      ],
      "metadata": {
        "id": "EqgJE3SlbegI",
        "colab": {
          "base_uri": "https://localhost:8080/"
        },
        "outputId": "4016b35b-aed5-44c4-ee48-71a6064ebdca"
      },
      "execution_count": null,
      "outputs": [
        {
          "output_type": "execute_result",
          "data": {
            "text/plain": [
              "4401"
            ]
          },
          "metadata": {},
          "execution_count": 154
        }
      ]
    },
    {
      "cell_type": "code",
      "source": [
        "x=list(map(calculate_day_since,google_df.index))\n",
        "x[:10]"
      ],
      "metadata": {
        "id": "ZT4XMVqjb1ke",
        "colab": {
          "base_uri": "https://localhost:8080/"
        },
        "outputId": "ba2aee6d-d595-46e6-e5fc-f39e7d68ba89"
      },
      "execution_count": null,
      "outputs": [
        {
          "output_type": "execute_result",
          "data": {
            "text/plain": [
              "[0, 1, 2, 3, 4, 7, 8, 9, 10, 11]"
            ]
          },
          "metadata": {},
          "execution_count": 155
        }
      ]
    },
    {
      "cell_type": "code",
      "source": [
        "y=list(google_df.close)\n",
        "y[:10]"
      ],
      "metadata": {
        "id": "-8Z8I5docLIK",
        "colab": {
          "base_uri": "https://localhost:8080/"
        },
        "outputId": "a523c98a-7d8a-4f53-c2b9-5239f5145dde"
      },
      "execution_count": null,
      "outputs": [
        {
          "output_type": "execute_result",
          "data": {
            "text/plain": [
              "[312.20530835799997,\n",
              " 310.830458632,\n",
              " 302.994812557,\n",
              " 295.941242071,\n",
              " 299.88646988799997,\n",
              " 299.433161001,\n",
              " 294.138016503,\n",
              " 292.449323638,\n",
              " 293.824173364,\n",
              " 288.917548598]"
            ]
          },
          "metadata": {},
          "execution_count": 156
        }
      ]
    },
    {
      "cell_type": "code",
      "source": [
        "assert len(x)==len(y)"
      ],
      "metadata": {
        "id": "FqpJcBTCcQIy"
      },
      "execution_count": null,
      "outputs": []
    },
    {
      "cell_type": "code",
      "source": [
        "len(x)"
      ],
      "metadata": {
        "id": "BeFTt4Olc27f",
        "colab": {
          "base_uri": "https://localhost:8080/"
        },
        "outputId": "0573999c-a80e-4ace-d308-c98ed900d09e"
      },
      "execution_count": null,
      "outputs": [
        {
          "output_type": "execute_result",
          "data": {
            "text/plain": [
              "1762"
            ]
          },
          "metadata": {},
          "execution_count": 158
        }
      ]
    },
    {
      "cell_type": "code",
      "source": [
        "plt.plot(x,y)\n",
        "plt.ylabel('Stock price (closing)')\n",
        "plt.xlabel('Days since 4 Jan 2010')"
      ],
      "metadata": {
        "id": "s6JF9UxMcVlr",
        "colab": {
          "base_uri": "https://localhost:8080/",
          "height": 297
        },
        "outputId": "7855938b-8d4e-4b5f-d37a-244ff43fd24f"
      },
      "execution_count": null,
      "outputs": [
        {
          "output_type": "execute_result",
          "data": {
            "text/plain": [
              "Text(0.5, 0, 'Days since 4 Jan 2010')"
            ]
          },
          "metadata": {},
          "execution_count": 159
        },
        {
          "output_type": "display_data",
          "data": {
            "image/png": "[encoded data removed]",
            "text/plain": [
              "<Figure size 432x288 with 1 Axes>"
            ]
          },
          "metadata": {
            "needs_background": "light"
          }
        }
      ]
    },
    {
      "cell_type": "markdown",
      "source": [
        "y=w.x + b\n",
        "\n",
        "y=ground truth/label/output\n",
        "\n",
        "w weight\n",
        "\n",
        "x feature\n",
        "\n",
        "b bias"
      ],
      "metadata": {
        "id": "ziDERMuIdT0E"
      }
    },
    {
      "cell_type": "code",
      "source": [
        "from sklearn.linear_model import LinearRegression\n",
        "modified_x = [[i] for i in x]\n",
        "modified_x[:10]"
      ],
      "metadata": {
        "id": "02YDVmyidTVl",
        "colab": {
          "base_uri": "https://localhost:8080/"
        },
        "outputId": "e005e011-2b23-491a-dc02-0343dabc915c"
      },
      "execution_count": null,
      "outputs": [
        {
          "output_type": "execute_result",
          "data": {
            "text/plain": [
              "[[0], [1], [2], [3], [4], [7], [8], [9], [10], [11]]"
            ]
          },
          "metadata": {},
          "execution_count": 160
        }
      ]
    },
    {
      "cell_type": "code",
      "source": [
        "reg=LinearRegression().fit(modified_x,y)"
      ],
      "metadata": {
        "id": "7VhIdkhQcwe9"
      },
      "execution_count": null,
      "outputs": []
    },
    {
      "cell_type": "code",
      "source": [
        "w,b = reg.coef_, reg.intercept_\n",
        "w,b"
      ],
      "metadata": {
        "id": "M1uGdHrDc7cm",
        "colab": {
          "base_uri": "https://localhost:8080/"
        },
        "outputId": "210b47a1-e775-4a33-b9e5-004b94250a3b"
      },
      "execution_count": null,
      "outputs": [
        {
          "output_type": "execute_result",
          "data": {
            "text/plain": [
              "(array([0.22513196]), 172.36461228620266)"
            ]
          },
          "metadata": {},
          "execution_count": 162
        }
      ]
    },
    {
      "cell_type": "code",
      "source": [
        "def lin_model(x): return x*w + b"
      ],
      "metadata": {
        "id": "7mgWLOORey7I"
      },
      "execution_count": null,
      "outputs": []
    },
    {
      "cell_type": "code",
      "source": [
        "plt.plot(x,y)\n",
        "plt.plot(x,[lin_model(o) for o in x])\n",
        "plt.ylabel('Stock price (closing)')\n",
        "plt.xlabel('Days since 4 Jan 2010')"
      ],
      "metadata": {
        "id": "bxCpWXwTfA8e",
        "colab": {
          "base_uri": "https://localhost:8080/",
          "height": 297
        },
        "outputId": "fbf9d7ca-ed65-4cad-fe72-ab0f35290432"
      },
      "execution_count": null,
      "outputs": [
        {
          "output_type": "execute_result",
          "data": {
            "text/plain": [
              "Text(0.5, 0, 'Days since 4 Jan 2010')"
            ]
          },
          "metadata": {},
          "execution_count": 164
        },
        {
          "output_type": "display_data",
          "data": {
            "image/png": "[encoded data removed]",
            "text/plain": [
              "<Figure size 432x288 with 1 Axes>"
            ]
          },
          "metadata": {
            "needs_background": "light"
          }
        }
      ]
    },
    {
      "cell_type": "code",
      "source": [
        "day = datetime(2018,12,31)\n",
        "days_elapsed = calculate_day_since(day)\n",
        "days_elapsed"
      ],
      "metadata": {
        "id": "9wtZq6ntfOFo",
        "colab": {
          "base_uri": "https://localhost:8080/"
        },
        "outputId": "fe07c02e-bac3-4988-b879-36788d302665"
      },
      "execution_count": null,
      "outputs": [
        {
          "output_type": "execute_result",
          "data": {
            "text/plain": [
              "3283"
            ]
          },
          "metadata": {},
          "execution_count": 165
        }
      ]
    },
    {
      "cell_type": "code",
      "source": [
        "lin_model(days_elapsed)"
      ],
      "metadata": {
        "id": "IbqNct6vfmcA",
        "colab": {
          "base_uri": "https://localhost:8080/"
        },
        "outputId": "ccbac3af-18a3-49fe-f219-35ef65f76c8f"
      },
      "execution_count": null,
      "outputs": [
        {
          "output_type": "execute_result",
          "data": {
            "text/plain": [
              "array([911.47284609])"
            ]
          },
          "metadata": {},
          "execution_count": 166
        }
      ]
    },
    {
      "cell_type": "markdown",
      "source": [
        "Gradient Descent"
      ],
      "metadata": {
        "id": "40QqX7Fpf4EF"
      }
    },
    {
      "cell_type": "code",
      "source": [
        "z=[-5]\n",
        "for i in range(1000): z= z+[z[-1]+0.01]\n",
        "len(z)"
      ],
      "metadata": {
        "id": "LPbXI5Csfqsu",
        "colab": {
          "base_uri": "https://localhost:8080/"
        },
        "outputId": "bc00e603-4c17-4897-bd8d-db2af20759a3"
      },
      "execution_count": null,
      "outputs": [
        {
          "output_type": "execute_result",
          "data": {
            "text/plain": [
              "1001"
            ]
          },
          "metadata": {},
          "execution_count": 167
        }
      ]
    },
    {
      "cell_type": "code",
      "source": [
        "def square(x): return x**2\n",
        "\n",
        "fig,ax= plt.subplots()\n",
        "ax.plot(z,[square(i) for i in z])\n",
        "\n",
        "\n",
        "input = 4\n",
        "point = ax.plot(input, square(input), color = 'red', marker='o', markersize=10)\n",
        "text = ax.text(input+0.5, square(input), f'{input:.1f}, {square(input):.1f}')"
      ],
      "metadata": {
        "id": "LW65ahU6gK8s",
        "colab": {
          "base_uri": "https://localhost:8080/",
          "height": 265
        },
        "outputId": "b9af914c-c06d-43b8-8833-abc66478aa61"
      },
      "execution_count": null,
      "outputs": [
        {
          "output_type": "display_data",
          "data": {
            "image/png": "[encoded data removed]",
            "text/plain": [
              "<Figure size 432x288 with 1 Axes>"
            ]
          },
          "metadata": {
            "needs_background": "light"
          }
        }
      ]
    },
    {
      "cell_type": "code",
      "source": [
        "def gradient_of_square(x): return 2*x\n",
        "\n",
        "point[0].remove()\n",
        "text.remove()\n",
        "\n",
        "input=input-0.3 if gradient_of_square(input)>0 else input+0.3 #gradient descent equation\n",
        "\n",
        "ax.plot(z,[square(i) for i in z])\n",
        "point = ax.plot(input, square(input), color = 'red', marker='o', markersize=10)\n",
        "text = ax.text(input+0.5, square(input), f'{input:.1f}, {square(input):.1f}')\n",
        "fig"
      ],
      "metadata": {
        "id": "xUTN5-Lkg3EL",
        "colab": {
          "base_uri": "https://localhost:8080/",
          "height": 265
        },
        "outputId": "0166de8f-8dee-4d3c-cdd6-5e83fbb02e70"
      },
      "execution_count": null,
      "outputs": [
        {
          "output_type": "execute_result",
          "data": {
            "image/png": "[encoded data removed]",
            "text/plain": [
              "<Figure size 432x288 with 1 Axes>"
            ]
          },
          "metadata": {},
          "execution_count": 169
        }
      ]
    },
    {
      "cell_type": "code",
      "source": [
        "input=4"
      ],
      "metadata": {
        "id": "oyM2mnx5ijw3"
      },
      "execution_count": null,
      "outputs": []
    },
    {
      "cell_type": "code",
      "source": [
        "def gradient_of_square(x): return 2*x\n",
        "\n",
        "point[0].remove()\n",
        "text.remove()\n",
        "\n",
        "input=input-gradient_of_square(input)*0.1 # GRADIENT DESCENT EQUATION. lr (learning rate)\n",
        "\n",
        "ax.plot(z,[square(i) for i in z])\n",
        "point = ax.plot(input, square(input), color = 'red', marker='o', markersize=10)\n",
        "text = ax.text(input+0.5, square(input), f'{input:.1f}, {square(input):.1f}')\n",
        "fig"
      ],
      "metadata": {
        "id": "upSsvxo7h8Xs",
        "colab": {
          "base_uri": "https://localhost:8080/",
          "height": 265
        },
        "outputId": "1ab6553c-d2b4-49b7-d0d1-206ad2896b2d"
      },
      "execution_count": null,
      "outputs": [
        {
          "output_type": "execute_result",
          "data": {
            "image/png": "[encoded data removed]",
            "text/plain": [
              "<Figure size 432x288 with 1 Axes>"
            ]
          },
          "metadata": {},
          "execution_count": 171
        }
      ]
    },
    {
      "cell_type": "markdown",
      "source": [
        "Mean Square Error Loss (MSE Loss)\n",
        "\n",
        "\n",
        "$Minimize \\frac{1}{n} \\sum_1^n(pred - y)^2$\n"
      ],
      "metadata": {
        "id": "0fSzCqACj6Nt"
      }
    },
    {
      "cell_type": "markdown",
      "source": [
        "Step1: initialize w,b to some random values\n",
        "\n",
        "Step2: for each iteration:\n",
        "\n",
        "calculate\n",
        "\n",
        "calculate the gradient. WE DONT CALCULATE GRADIENTS ANYMORE\n",
        "\n",
        "go in the direction opposite to the gradient"
      ],
      "metadata": {
        "id": "YQpIRqTOk1pm"
      }
    },
    {
      "cell_type": "code",
      "source": [
        "import torch \n",
        "params = torch.randn(2).requires_grad_()\n",
        "w,b = params\n",
        "w,b"
      ],
      "metadata": {
        "id": "I7Ox-jkCk1Q8",
        "colab": {
          "base_uri": "https://localhost:8080/"
        },
        "outputId": "13d98770-9dca-4f88-f4b3-4a8841ed77e6"
      },
      "execution_count": null,
      "outputs": [
        {
          "output_type": "execute_result",
          "data": {
            "text/plain": [
              "(tensor(-0.8810, grad_fn=<UnbindBackward0>),\n",
              " tensor(0.2336, grad_fn=<UnbindBackward0>))"
            ]
          },
          "metadata": {},
          "execution_count": 172
        }
      ]
    },
    {
      "cell_type": "code",
      "source": [
        "plt.plot(x,y)\n",
        "plt.plot(x,[lin_model(o) for o in x])\n",
        "plt.ylabel('Stock price (closing)')\n",
        "plt.xlabel('Days since 4 Jan 2010')"
      ],
      "metadata": {
        "id": "qxeh4odciunQ",
        "colab": {
          "base_uri": "https://localhost:8080/",
          "height": 297
        },
        "outputId": "0cfde210-3f7f-4f1c-d49b-60f3b67269dd"
      },
      "execution_count": null,
      "outputs": [
        {
          "output_type": "execute_result",
          "data": {
            "text/plain": [
              "Text(0.5, 0, 'Days since 4 Jan 2010')"
            ]
          },
          "metadata": {},
          "execution_count": 173
        },
        {
          "output_type": "display_data",
          "data": {
            "image/png": "[encoded data removed]",
            "text/plain": [
              "<Figure size 432x288 with 1 Axes>"
            ]
          },
          "metadata": {
            "needs_background": "light"
          }
        }
      ]
    },
    {
      "cell_type": "code",
      "source": [
        "x_tensor, y_tensor = torch.tensor(x).float(), torch.tensor(y).float()\n",
        "x_tensor.divide_(1000)\n",
        "# x_tensor = torch.nn.functional.normalize(x_tensor,dim=0)\n",
        "# y_tensor = torch.nn.functional.normalize(y_tensor,dim=0)\n",
        "x_tensor.shape, y_tensor.shape"
      ],
      "metadata": {
        "id": "qqUGzCLXmVQu",
        "colab": {
          "base_uri": "https://localhost:8080/"
        },
        "outputId": "2134a15a-fb2b-4e46-fc57-906d8d118f0e"
      },
      "execution_count": null,
      "outputs": [
        {
          "output_type": "execute_result",
          "data": {
            "text/plain": [
              "(torch.Size([1762]), torch.Size([1762]))"
            ]
          },
          "metadata": {},
          "execution_count": 174
        }
      ]
    },
    {
      "cell_type": "code",
      "source": [
        "plt.plot(x_tensor,y_tensor)"
      ],
      "metadata": {
        "id": "QElQhb8rc2Ng",
        "colab": {
          "base_uri": "https://localhost:8080/",
          "height": 283
        },
        "outputId": "d02fd085-e8fe-436c-81bc-275e4f0219ba"
      },
      "execution_count": null,
      "outputs": [
        {
          "output_type": "execute_result",
          "data": {
            "text/plain": [
              "[<matplotlib.lines.Line2D at 0x7f776e69a3d0>]"
            ]
          },
          "metadata": {},
          "execution_count": 175
        },
        {
          "output_type": "display_data",
          "data": {
            "image/png": "[encoded data removed]",
            "text/plain": [
              "<Figure size 432x288 with 1 Axes>"
            ]
          },
          "metadata": {
            "needs_background": "light"
          }
        }
      ]
    },
    {
      "cell_type": "code",
      "source": [
        "def model(x,params=params):\n",
        "    w,b = params\n",
        "    return w*x + b"
      ],
      "metadata": {
        "id": "cnasoB1gm0FD"
      },
      "execution_count": null,
      "outputs": []
    },
    {
      "cell_type": "code",
      "source": [
        "preds = model(x_tensor)\n",
        "preds.shape"
      ],
      "metadata": {
        "id": "PycUl0Q8m9V7",
        "colab": {
          "base_uri": "https://localhost:8080/"
        },
        "outputId": "8c443dbe-fe28-413c-acb4-daee88e86f6a"
      },
      "execution_count": null,
      "outputs": [
        {
          "output_type": "execute_result",
          "data": {
            "text/plain": [
              "torch.Size([1762])"
            ]
          },
          "metadata": {},
          "execution_count": 177
        }
      ]
    },
    {
      "cell_type": "code",
      "source": [
        "preds[0]"
      ],
      "metadata": {
        "id": "T54ZGkahnDi_",
        "colab": {
          "base_uri": "https://localhost:8080/"
        },
        "outputId": "fb85eb5e-794a-4611-bb0a-5485506bd0fe"
      },
      "execution_count": null,
      "outputs": [
        {
          "output_type": "execute_result",
          "data": {
            "text/plain": [
              "tensor(0.2336, grad_fn=<SelectBackward0>)"
            ]
          },
          "metadata": {},
          "execution_count": 178
        }
      ]
    },
    {
      "cell_type": "code",
      "source": [
        "loss_fn = torch.nn.MSELoss()\n",
        "\n",
        "def loss_LinearRegression(pred,target):\n",
        "    assert len(pred)==len(target)\n",
        "    return loss_fn(pred,target)"
      ],
      "metadata": {
        "id": "UchxxEpRnRzs"
      },
      "execution_count": null,
      "outputs": []
    },
    {
      "cell_type": "markdown",
      "source": [
        "Exercise 1: Implement MSELoss from scratch"
      ],
      "metadata": {
        "id": "elwXP6yVn6yX"
      }
    },
    {
      "cell_type": "code",
      "source": [
        "loss = loss_LinearRegression(preds,y_tensor)\n",
        "loss"
      ],
      "metadata": {
        "id": "d6_mSdi2n3tw",
        "colab": {
          "base_uri": "https://localhost:8080/"
        },
        "outputId": "67dabfb3-b80b-447b-f417-3f02a0d4fa0b"
      },
      "execution_count": null,
      "outputs": [
        {
          "output_type": "execute_result",
          "data": {
            "text/plain": [
              "tensor(242524.3281, grad_fn=<MseLossBackward0>)"
            ]
          },
          "metadata": {},
          "execution_count": 180
        }
      ]
    },
    {
      "cell_type": "code",
      "source": [
        "loss.backward()"
      ],
      "metadata": {
        "id": "WjQxPCtfoDMT"
      },
      "execution_count": null,
      "outputs": []
    },
    {
      "cell_type": "code",
      "source": [
        "lr=1e-4\n",
        "params.data-=lr*params.grad\n",
        "params"
      ],
      "metadata": {
        "id": "sCFEcsvOobnL",
        "colab": {
          "base_uri": "https://localhost:8080/"
        },
        "outputId": "2157e5a8-557c-432b-f1b4-a8745bf01342"
      },
      "execution_count": null,
      "outputs": [
        {
          "output_type": "execute_result",
          "data": {
            "text/plain": [
              "tensor([-0.7388,  0.3257], requires_grad=True)"
            ]
          },
          "metadata": {},
          "execution_count": 182
        }
      ]
    },
    {
      "cell_type": "markdown",
      "source": [
        "one complete cycle"
      ],
      "metadata": {
        "id": "B1hbjEYao0oT"
      }
    },
    {
      "cell_type": "code",
      "source": [
        "params = torch.tensor([0.,0.]).requires_grad_()\n",
        "\n",
        "def train_one_iteration(params,lr=1e-4):\n",
        "    #step 1: calculate predictions\n",
        "    preds = model(x_tensor,params)\n",
        "    # calculate loss between preds and actual y's\n",
        "    loss= loss_LinearRegression(preds,y_tensor)\n",
        "    #calculate gradients\n",
        "    loss.backward()\n",
        "    #update variables through the gradient descent equation\n",
        "    print(params.grad.data, params.data)\n",
        "    params.data-=lr*params.grad.data\n",
        "    params.grad=None"
      ],
      "metadata": {
        "id": "ml5zDSx7ozow"
      },
      "execution_count": null,
      "outputs": []
    },
    {
      "cell_type": "code",
      "source": [
        "def plot_linreg_model(params):\n",
        "    plt.plot(x_tensor,y_tensor)\n",
        "    pred=model(x_tensor,params).detach() # .detach is very important\n",
        "    plt.plot(x_tensor,pred)\n",
        "    print('MSE Loss: ', loss_LinearRegression(pred,y_tensor).item())\n",
        "\n",
        "plot_linreg_model(params) "
      ],
      "metadata": {
        "id": "X2SQgUOppo4f",
        "colab": {
          "base_uri": "https://localhost:8080/",
          "height": 283
        },
        "outputId": "043e19c5-08e0-499e-e10c-e8ae651c901c"
      },
      "execution_count": null,
      "outputs": [
        {
          "output_type": "stream",
          "name": "stdout",
          "text": [
            "MSE Loss:  241488.25\n"
          ]
        },
        {
          "output_type": "display_data",
          "data": {
            "image/png": "[encoded data removed]",
            "text/plain": [
              "<Figure size 432x288 with 1 Axes>"
            ]
          },
          "metadata": {
            "needs_background": "light"
          }
        }
      ]
    },
    {
      "cell_type": "code",
      "source": [
        "params = torch.tensor([0.,0.]).requires_grad_()\n",
        "\n",
        "for _ in range(500): train_one_iteration(params,lr=2e-3)\n",
        "plot_linreg_model(params)"
      ],
      "metadata": {
        "id": "v5cPEGUeqivs",
        "colab": {
          "base_uri": "https://localhost:8080/",
          "height": 1000
        },
        "outputId": "b4984606-0e11-4541-d803-a7de7cdb53ff"
      },
      "execution_count": null,
      "outputs": [
        {
          "output_type": "stream",
          "name": "stdout",
          "text": [
            "tensor([-1418.3446,  -919.2349]) tensor([0., 0.])\n",
            "tensor([-1401.3241,  -908.3191]) tensor([2.8367, 1.8385])\n",
            "tensor([-1384.5070,  -897.5339]) tensor([5.6393, 3.6551])\n",
            "tensor([-1367.8912,  -886.8776]) tensor([8.4084, 5.4502])\n",
            "tensor([-1351.4742,  -876.3488]) tensor([11.1441,  7.2239])\n",
            "tensor([-1335.2538,  -865.9458]) tensor([13.8471,  8.9766])\n",
            "tensor([-1319.2274,  -855.6672]) tensor([16.5176, 10.7085])\n",
            "tensor([-1303.3927,  -845.5115]) tensor([19.1560, 12.4199])\n",
            "tensor([-1287.7476,  -835.4774]) tensor([21.7628, 14.1109])\n",
            "tensor([-1272.2896,  -825.5632]) tensor([24.3383, 15.7818])\n",
            "tensor([-1257.0166,  -815.7675]) tensor([26.8829, 17.4330])\n",
            "tensor([-1241.9265,  -806.0890]) tensor([29.3969, 19.0645])\n",
            "tensor([-1227.0167,  -796.5261]) tensor([31.8808, 20.6767])\n",
            "tensor([-1212.2855,  -787.0778]) tensor([34.3348, 22.2697])\n",
            "tensor([-1197.7305,  -777.7422]) tensor([36.7594, 23.8439])\n",
            "tensor([-1183.3497,  -768.5183]) tensor([39.1549, 25.3994])\n",
            "tensor([-1169.1410,  -759.4048]) tensor([41.5216, 26.9364])\n",
            "tensor([-1155.1023,  -750.4002]) tensor([43.8598, 28.4552])\n",
            "tensor([-1141.2316,  -741.5032]) tensor([46.1700, 29.9560])\n",
            "tensor([-1127.5269,  -732.7128]) tensor([48.4525, 31.4390])\n",
            "tensor([-1113.9861,  -724.0273]) tensor([50.7076, 32.9044])\n",
            "tensor([-1100.6073,  -715.4457]) tensor([52.9355, 34.3525])\n",
            "tensor([-1087.3888,  -706.9667]) tensor([55.1367, 35.7834])\n",
            "tensor([-1074.3284,  -698.5891]) tensor([57.3115, 37.1973])\n",
            "tensor([-1061.4243,  -690.3117]) tensor([59.4602, 38.5945])\n",
            "tensor([-1048.6746,  -682.1332]) tensor([61.5830, 39.9751])\n",
            "tensor([-1036.0774,  -674.0526]) tensor([63.6804, 41.3394])\n",
            "tensor([-1023.6310,  -666.0685]) tensor([65.7525, 42.6875])\n",
            "tensor([-1011.3336,  -658.1799]) tensor([67.7998, 44.0196])\n",
            "tensor([-999.1831, -650.3856]) tensor([69.8225, 45.3360])\n",
            "tensor([-987.1783, -642.6845]) tensor([71.8208, 46.6368])\n",
            "tensor([-975.3170, -635.0754]) tensor([73.7952, 47.9221])\n",
            "tensor([-963.5977, -627.5574]) tensor([75.7458, 49.1923])\n",
            "tensor([-952.0186, -620.1293]) tensor([77.6730, 50.4474])\n",
            "tensor([-940.5781, -612.7899]) tensor([79.5771, 51.6877])\n",
            "tensor([-929.2744, -605.5383]) tensor([81.4582, 52.9132])\n",
            "tensor([-918.1062, -598.3734]) tensor([83.3168, 54.1243])\n",
            "tensor([-907.0714, -591.2941]) tensor([85.1530, 55.3211])\n",
            "tensor([-896.1688, -584.2995]) tensor([86.9671, 56.5036])\n",
            "tensor([-885.3967, -577.3885]) tensor([88.7595, 57.6722])\n",
            "tensor([-874.7535, -570.5602]) tensor([90.5302, 58.8270])\n",
            "tensor([-864.2375, -563.8134]) tensor([92.2797, 59.9681])\n",
            "tensor([-853.8475, -557.1473]) tensor([94.0082, 61.0958])\n",
            "tensor([-843.5818, -550.5609]) tensor([95.7159, 62.2101])\n",
            "tensor([-833.4390, -544.0533]) tensor([97.4031, 63.3112])\n",
            "tensor([-823.4174, -537.6234]) tensor([99.0700, 64.3993])\n",
            "tensor([-813.5159, -531.2704]) tensor([100.7168,  65.4745])\n",
            "tensor([-803.7330, -524.9934]) tensor([102.3438,  66.5371])\n",
            "tensor([-794.0669, -518.7914]) tensor([103.9513,  67.5871])\n",
            "tensor([-784.5167, -512.6636]) tensor([105.5394,  68.6246])\n",
            "tensor([-775.0806, -506.6089]) tensor([107.1085,  69.6500])\n",
            "tensor([-765.7575, -500.6267]) tensor([108.6586,  70.6632])\n",
            "tensor([-756.5461, -494.7160]) tensor([110.1901,  71.6644])\n",
            "tensor([-747.4448, -488.8759]) tensor([111.7032,  72.6539])\n",
            "tensor([-738.4525, -483.1057]) tensor([113.1981,  73.6316])\n",
            "tensor([-729.5677, -477.4044]) tensor([114.6750,  74.5978])\n",
            "tensor([-720.7894, -471.7712]) tensor([116.1342,  75.5527])\n",
            "tensor([-712.1159, -466.2054]) tensor([117.5757,  76.4962])\n",
            "tensor([-703.5464, -460.7061]) tensor([119.0000,  77.4286])\n",
            "tensor([-695.0794, -455.2726]) tensor([120.4071,  78.3500])\n",
            "tensor([-686.7137, -449.9041]) tensor([121.7972,  79.2606])\n",
            "tensor([-678.4482, -444.5997]) tensor([123.1707,  80.1604])\n",
            "tensor([-670.2816, -439.3586]) tensor([124.5275,  81.0496])\n",
            "tensor([-662.2128, -434.1803]) tensor([125.8681,  81.9283])\n",
            "tensor([-654.2405, -429.0638]) tensor([127.1925,  82.7966])\n",
            "tensor([-646.3635, -424.0085]) tensor([128.5010,  83.6548])\n",
            "tensor([-638.5809, -419.0135]) tensor([129.7937,  84.5028])\n",
            "tensor([-630.8915, -414.0784]) tensor([131.0709,  85.3408])\n",
            "tensor([-623.2940, -409.2021]) tensor([132.3327,  86.1690])\n",
            "tensor([-615.7875, -404.3843]) tensor([133.5793,  86.9874])\n",
            "tensor([-608.3708, -399.6239]) tensor([134.8109,  87.7962])\n",
            "tensor([-601.0430, -394.9205]) tensor([136.0276,  88.5954])\n",
            "tensor([-593.8027, -390.2732]) tensor([137.2297,  89.3852])\n",
            "tensor([-586.6492, -385.6815]) tensor([138.4173,  90.1658])\n",
            "tensor([-579.5813, -381.1447]) tensor([139.5906,  90.9371])\n",
            "tensor([-572.5980, -376.6621]) tensor([140.7497,  91.6994])\n",
            "tensor([-565.6981, -372.2331]) tensor([141.8949,  92.4528])\n",
            "tensor([-558.8809, -367.8570]) tensor([143.0263,  93.1972])\n",
            "tensor([-552.1454, -363.5331]) tensor([144.1441,  93.9330])\n",
            "tensor([-545.4904, -359.2610]) tensor([145.2484,  94.6600])\n",
            "tensor([-538.9150, -355.0399]) tensor([146.3394,  95.3785])\n",
            "tensor([-532.4184, -350.8693]) tensor([147.4172,  96.0886])\n",
            "tensor([-525.9995, -346.7485]) tensor([148.4821,  96.7904])\n",
            "tensor([-519.6575, -342.6769]) tensor([149.5341,  97.4839])\n",
            "tensor([-513.3914, -338.6540]) tensor([150.5734,  98.1692])\n",
            "tensor([-507.2003, -334.6792]) tensor([151.6002,  98.8465])\n",
            "tensor([-501.0833, -330.7519]) tensor([152.6146,  99.5159])\n",
            "tensor([-495.0394, -326.8715]) tensor([153.6167, 100.1774])\n",
            "tensor([-489.0680, -323.0374]) tensor([154.6068, 100.8311])\n",
            "tensor([-483.1680, -319.2492]) tensor([155.5849, 101.4772])\n",
            "tensor([-477.3386, -315.5062]) tensor([156.5513, 102.1157])\n",
            "tensor([-471.5790, -311.8080]) tensor([157.5060, 102.7467])\n",
            "tensor([-465.8884, -308.1540]) tensor([158.4491, 103.3703])\n",
            "tensor([-460.2658, -304.5436]) tensor([159.3809, 103.9866])\n",
            "tensor([-454.7106, -300.9763]) tensor([160.3014, 104.5957])\n",
            "tensor([-449.2219, -297.4517]) tensor([161.2109, 105.1977])\n",
            "tensor([-443.7989, -293.9692]) tensor([162.1093, 105.7926])\n",
            "tensor([-438.4407, -290.5283]) tensor([162.9969, 106.3805])\n",
            "tensor([-433.1468, -287.1285]) tensor([163.8738, 106.9616])\n",
            "tensor([-427.9162, -283.7693]) tensor([164.7401, 107.5358])\n",
            "tensor([-422.7482, -280.4503]) tensor([165.5959, 108.1034])\n",
            "tensor([-417.6421, -277.1709]) tensor([166.4414, 108.6643])\n",
            "tensor([-412.5971, -273.9307]) tensor([167.2767, 109.2186])\n",
            "tensor([-407.6125, -270.7292]) tensor([168.1019, 109.7665])\n",
            "tensor([-402.6875, -267.5660]) tensor([168.9171, 110.3079])\n",
            "tensor([-397.8215, -264.4405]) tensor([169.7225, 110.8430])\n",
            "tensor([-393.0138, -261.3524]) tensor([170.5181, 111.3719])\n",
            "tensor([-388.2636, -258.3011]) tensor([171.3041, 111.8946])\n",
            "tensor([-383.5703, -255.2864]) tensor([172.0807, 112.4112])\n",
            "tensor([-378.9332, -252.3076]) tensor([172.8478, 112.9218])\n",
            "tensor([-374.3515, -249.3644]) tensor([173.6057, 113.4264])\n",
            "tensor([-369.8248, -246.4563]) tensor([174.3544, 113.9251])\n",
            "tensor([-365.3521, -243.5830]) tensor([175.0940, 114.4181])\n",
            "tensor([-360.9331, -240.7440]) tensor([175.8247, 114.9052])\n",
            "tensor([-356.5670, -237.9389]) tensor([176.5466, 115.3867])\n",
            "tensor([-352.2531, -235.1674]) tensor([177.2597, 115.8626])\n",
            "tensor([-347.9908, -232.4289]) tensor([177.9642, 116.3329])\n",
            "tensor([-343.7796, -229.7231]) tensor([178.6602, 116.7978])\n",
            "tensor([-339.6188, -227.0497]) tensor([179.3478, 117.2572])\n",
            "tensor([-335.5078, -224.4081]) tensor([180.0270, 117.7113])\n",
            "tensor([-331.4460, -221.7981]) tensor([180.6980, 118.1602])\n",
            "tensor([-327.4329, -219.2193]) tensor([181.3609, 118.6038])\n",
            "tensor([-323.4678, -216.6714]) tensor([182.0158, 119.0422])\n",
            "tensor([-319.5502, -214.1537]) tensor([182.6627, 119.4755])\n",
            "tensor([-315.6794, -211.6663]) tensor([183.3018, 119.9038])\n",
            "tensor([-311.8550, -209.2084]) tensor([183.9332, 120.3272])\n",
            "tensor([-308.0765, -206.7800]) tensor([184.5569, 120.7456])\n",
            "tensor([-304.3432, -204.3805]) tensor([185.1730, 121.1591])\n",
            "tensor([-300.6546, -202.0097]) tensor([185.7817, 121.5679])\n",
            "tensor([-297.0101, -199.6672]) tensor([186.3830, 121.9719])\n",
            "tensor([-293.4092, -197.3527]) tensor([186.9771, 122.3713])\n",
            "tensor([-289.8515, -195.0658]) tensor([187.5639, 122.7660])\n",
            "tensor([-286.3364, -192.8062]) tensor([188.1436, 123.1561])\n",
            "tensor([-282.8633, -190.5736]) tensor([188.7163, 123.5417])\n",
            "tensor([-279.4319, -188.3677]) tensor([189.2820, 123.9229])\n",
            "tensor([-276.0415, -186.1881]) tensor([189.8409, 124.2996])\n",
            "tensor([-272.6917, -184.0345]) tensor([190.3929, 124.6720])\n",
            "tensor([-269.3821, -181.9066]) tensor([190.9383, 125.0400])\n",
            "tensor([-266.1121, -179.8041]) tensor([191.4771, 125.4039])\n",
            "tensor([-262.8812, -177.7268]) tensor([192.0093, 125.7635])\n",
            "tensor([-259.6890, -175.6742]) tensor([192.5350, 126.1189])\n",
            "tensor([-256.5350, -173.6461]) tensor([193.0544, 126.4703])\n",
            "tensor([-253.4188, -171.6422]) tensor([193.5675, 126.8176])\n",
            "tensor([-250.3399, -169.6623]) tensor([194.0743, 127.1609])\n",
            "tensor([-247.2978, -167.7060]) tensor([194.5750, 127.5002])\n",
            "tensor([-244.2923, -165.7730]) tensor([195.0696, 127.8356])\n",
            "tensor([-241.3226, -163.8631]) tensor([195.5582, 128.1671])\n",
            "tensor([-238.3886, -161.9760]) tensor([196.0409, 128.4949])\n",
            "tensor([-235.4897, -160.1114]) tensor([196.5176, 128.8188])\n",
            "tensor([-232.6255, -158.2691]) tensor([196.9886, 129.1390])\n",
            "tensor([-229.7956, -156.4487]) tensor([197.4539, 129.4556])\n",
            "tensor([-226.9995, -154.6501]) tensor([197.9135, 129.7685])\n",
            "tensor([-224.2371, -152.8730]) tensor([198.3675, 130.0778])\n",
            "tensor([-221.5077, -151.1171]) tensor([198.8159, 130.3835])\n",
            "tensor([-218.8109, -149.3821]) tensor([199.2589, 130.6857])\n",
            "tensor([-216.1465, -147.6678]) tensor([199.6966, 130.9845])\n",
            "tensor([-213.5139, -145.9740]) tensor([200.1289, 131.2798])\n",
            "tensor([-210.9129, -144.3004]) tensor([200.5559, 131.5718])\n",
            "tensor([-208.3430, -142.6467]) tensor([200.9777, 131.8604])\n",
            "tensor([-205.8039, -141.0128]) tensor([201.3944, 132.1457])\n",
            "tensor([-203.2953, -139.3984]) tensor([201.8060, 132.4277])\n",
            "tensor([-200.8167, -137.8032]) tensor([202.2126, 132.7065])\n",
            "tensor([-198.3678, -136.2271]) tensor([202.6142, 132.9821])\n",
            "tensor([-195.9482, -134.6698]) tensor([203.0110, 133.2546])\n",
            "tensor([-193.5576, -133.1311]) tensor([203.4028, 133.5239])\n",
            "tensor([-191.1956, -131.6107]) tensor([203.7900, 133.7902])\n",
            "tensor([-188.8620, -130.1085]) tensor([204.1723, 134.0534])\n",
            "tensor([-186.5562, -128.6241]) tensor([204.5501, 134.3136])\n",
            "tensor([-184.2781, -127.1575]) tensor([204.9232, 134.5709])\n",
            "tensor([-182.0272, -125.7084]) tensor([205.2917, 134.8252])\n",
            "tensor([-179.8033, -124.2765]) tensor([205.6558, 135.0766])\n",
            "tensor([-177.6061, -122.8617]) tensor([206.0154, 135.3251])\n",
            "tensor([-175.4352, -121.4638]) tensor([206.3706, 135.5709])\n",
            "tensor([-173.2902, -120.0826]) tensor([206.7215, 135.8138])\n",
            "tensor([-171.1711, -118.7178]) tensor([207.0681, 136.0540])\n",
            "tensor([-169.0772, -117.3693]) tensor([207.4104, 136.2914])\n",
            "tensor([-167.0085, -116.0369]) tensor([207.7486, 136.5262])\n",
            "tensor([-164.9645, -114.7204]) tensor([208.0826, 136.7582])\n",
            "tensor([-162.9451, -113.4196]) tensor([208.4125, 136.9877])\n",
            "tensor([-160.9497, -112.1343]) tensor([208.7384, 137.2145])\n",
            "tensor([-158.9784, -110.8643]) tensor([209.0603, 137.4388])\n",
            "tensor([-157.0306, -109.6095]) tensor([209.3783, 137.6605])\n",
            "tensor([-155.1062, -108.3696]) tensor([209.6923, 137.8797])\n",
            "tensor([-153.2048, -107.1445]) tensor([210.0025, 138.0965])\n",
            "tensor([-151.3262, -105.9340]) tensor([210.3089, 138.3108])\n",
            "tensor([-149.4701, -104.7379]) tensor([210.6116, 138.5226])\n",
            "tensor([-147.6363, -103.5561]) tensor([210.9105, 138.7321])\n",
            "tensor([-145.8244, -102.3884]) tensor([211.2058, 138.9392])\n",
            "tensor([-144.0343, -101.2347]) tensor([211.4975, 139.1440])\n",
            "tensor([-142.2656, -100.0946]) tensor([211.7855, 139.3465])\n",
            "tensor([-140.5181,  -98.9681]) tensor([212.0701, 139.5466])\n",
            "tensor([-138.7915,  -97.8551]) tensor([212.3511, 139.7446])\n",
            "tensor([-137.0856,  -96.7553]) tensor([212.6287, 139.9403])\n",
            "tensor([-135.4001,  -95.6686]) tensor([212.9028, 140.1338])\n",
            "tensor([-133.7349,  -94.5949]) tensor([213.1736, 140.3251])\n",
            "tensor([-132.0896,  -93.5340]) tensor([213.4411, 140.5143])\n",
            "tensor([-130.4640,  -92.4857]) tensor([213.7053, 140.7014])\n",
            "tensor([-128.8580,  -91.4499]) tensor([213.9662, 140.8864])\n",
            "tensor([-127.2711,  -90.4264]) tensor([214.2239, 141.0693])\n",
            "tensor([-125.7032,  -89.4152]) tensor([214.4785, 141.2501])\n",
            "tensor([-124.1542,  -88.4160]) tensor([214.7299, 141.4290])\n",
            "tensor([-122.6237,  -87.4287]) tensor([214.9782, 141.6058])\n",
            "tensor([-121.1116,  -86.4531]) tensor([215.2234, 141.7806])\n",
            "tensor([-119.6176,  -85.4892]) tensor([215.4657, 141.9536])\n",
            "tensor([-118.1414,  -84.5367]) tensor([215.7049, 142.1245])\n",
            "tensor([-116.6831,  -83.5956]) tensor([215.9412, 142.2936])\n",
            "tensor([-115.2421,  -82.6657]) tensor([216.1746, 142.4608])\n",
            "tensor([-113.8185,  -81.7469]) tensor([216.4050, 142.6261])\n",
            "tensor([-112.4119,  -80.8390]) tensor([216.6327, 142.7896])\n",
            "tensor([-111.0221,  -79.9419]) tensor([216.8575, 142.9513])\n",
            "tensor([-109.6491,  -79.0555]) tensor([217.0795, 143.1112])\n",
            "tensor([-108.2924,  -78.1797]) tensor([217.2988, 143.2693])\n",
            "tensor([-106.9521,  -77.3143]) tensor([217.5154, 143.4256])\n",
            "tensor([-105.6278,  -76.4592]) tensor([217.7293, 143.5803])\n",
            "tensor([-104.3194,  -75.6142]) tensor([217.9406, 143.7332])\n",
            "tensor([-103.0267,  -74.7794]) tensor([218.1492, 143.8844])\n",
            "tensor([-101.7495,  -73.9544]) tensor([218.3553, 144.0340])\n",
            "tensor([-100.4875,  -73.1393]) tensor([218.5588, 144.1819])\n",
            "tensor([-99.2408, -72.3339]) tensor([218.7598, 144.3282])\n",
            "tensor([-98.0089, -71.5380]) tensor([218.9582, 144.4728])\n",
            "tensor([-96.7918, -70.7517]) tensor([219.1543, 144.6159])\n",
            "tensor([-95.5893, -69.9746]) tensor([219.3478, 144.7574])\n",
            "tensor([-94.4013, -69.2069]) tensor([219.5390, 144.8974])\n",
            "tensor([-93.2275, -68.4483]) tensor([219.7278, 145.0358])\n",
            "tensor([-92.0677, -67.6986]) tensor([219.9143, 145.1727])\n",
            "tensor([-90.9219, -66.9580]) tensor([220.0984, 145.3081])\n",
            "tensor([-89.7899, -66.2261]) tensor([220.2802, 145.4420])\n",
            "tensor([-88.6714, -65.5030]) tensor([220.4598, 145.5744])\n",
            "tensor([-87.5663, -64.7884]) tensor([220.6372, 145.7055])\n",
            "tensor([-86.4745, -64.0824]) tensor([220.8123, 145.8350])\n",
            "tensor([-85.3958, -63.3847]) tensor([220.9852, 145.9632])\n",
            "tensor([-84.3299, -62.6954]) tensor([221.1560, 146.0900])\n",
            "tensor([-83.2769, -62.0142]) tensor([221.3247, 146.2154])\n",
            "tensor([-82.2366, -61.3411]) tensor([221.4912, 146.3394])\n",
            "tensor([-81.2086, -60.6760]) tensor([221.6557, 146.4621])\n",
            "tensor([-80.1930, -60.0189]) tensor([221.8181, 146.5834])\n",
            "tensor([-79.1897, -59.3695]) tensor([221.9785, 146.7035])\n",
            "tensor([-78.1982, -58.7278]) tensor([222.1369, 146.8222])\n",
            "tensor([-77.2187, -58.0938]) tensor([222.2933, 146.9397])\n",
            "tensor([-76.2510, -57.4673]) tensor([222.4477, 147.0558])\n",
            "tensor([-75.2949, -56.8483]) tensor([222.6002, 147.1708])\n",
            "tensor([-74.3503, -56.2367]) tensor([222.7508, 147.2845])\n",
            "tensor([-73.4170, -55.6323]) tensor([222.8995, 147.3969])\n",
            "tensor([-72.4949, -55.0350]) tensor([223.0463, 147.5082])\n",
            "tensor([-71.5838, -54.4449]) tensor([223.1913, 147.6183])\n",
            "tensor([-70.6837, -53.8617]) tensor([223.3345, 147.7272])\n",
            "tensor([-69.7943, -53.2855]) tensor([223.4759, 147.8349])\n",
            "tensor([-68.9157, -52.7162]) tensor([223.6155, 147.9415])\n",
            "tensor([-68.0475, -52.1536]) tensor([223.7533, 148.0469])\n",
            "tensor([-67.1899, -51.5977]) tensor([223.8894, 148.1512])\n",
            "tensor([-66.3424, -51.0484]) tensor([224.0238, 148.2544])\n",
            "tensor([-65.5052, -50.5056]) tensor([224.1565, 148.3565])\n",
            "tensor([-64.6780, -49.9692]) tensor([224.2875, 148.4575])\n",
            "tensor([-63.8608, -49.4392]) tensor([224.4168, 148.5575])\n",
            "tensor([-63.0533, -48.9156]) tensor([224.5445, 148.6563])\n",
            "tensor([-62.2556, -48.3981]) tensor([224.6707, 148.7542])\n",
            "tensor([-61.4674, -47.8868]) tensor([224.7952, 148.8510])\n",
            "tensor([-60.6886, -47.3815]) tensor([224.9181, 148.9467])\n",
            "tensor([-59.9193, -46.8822]) tensor([225.0395, 149.0415])\n",
            "tensor([-59.1591, -46.3888]) tensor([225.1593, 149.1353])\n",
            "tensor([-58.4081, -45.9014]) tensor([225.2776, 149.2280])\n",
            "tensor([-57.6661, -45.4197]) tensor([225.3945, 149.3198])\n",
            "tensor([-56.9331, -44.9437]) tensor([225.5098, 149.4107])\n",
            "tensor([-56.2088, -44.4734]) tensor([225.6237, 149.5006])\n",
            "tensor([-55.4933, -44.0086]) tensor([225.7361, 149.5895])\n",
            "tensor([-54.7863, -43.5494]) tensor([225.8471, 149.6775])\n",
            "tensor([-54.0878, -43.0955]) tensor([225.9566, 149.7646])\n",
            "tensor([-53.3977, -42.6471]) tensor([226.0648, 149.8508])\n",
            "tensor([-52.7159, -42.2040]) tensor([226.1716, 149.9361])\n",
            "tensor([-52.0422, -41.7661]) tensor([226.2770, 150.0205])\n",
            "tensor([-51.3766, -41.3335]) tensor([226.3811, 150.1040])\n",
            "tensor([-50.7191, -40.9059]) tensor([226.4839, 150.1867])\n",
            "tensor([-50.0694, -40.4834]) tensor([226.5853, 150.2685])\n",
            "tensor([-49.4276, -40.0659]) tensor([226.6855, 150.3495])\n",
            "tensor([-48.7934, -39.6534]) tensor([226.7843, 150.4296])\n",
            "tensor([-48.1669, -39.2458]) tensor([226.8819, 150.5089])\n",
            "tensor([-47.5479, -38.8430]) tensor([226.9782, 150.5874])\n",
            "tensor([-46.9364, -38.4449]) tensor([227.0733, 150.6651])\n",
            "tensor([-46.3322, -38.0516]) tensor([227.1672, 150.7420])\n",
            "tensor([-45.7352, -37.6629]) tensor([227.2599, 150.8181])\n",
            "tensor([-45.1454, -37.2788]) tensor([227.3513, 150.8934])\n",
            "tensor([-44.5627, -36.8993]) tensor([227.4416, 150.9680])\n",
            "tensor([-43.9871, -36.5243]) tensor([227.5307, 151.0418])\n",
            "tensor([-43.4184, -36.1538]) tensor([227.6187, 151.1148])\n",
            "tensor([-42.8564, -35.7875]) tensor([227.7056, 151.1871])\n",
            "tensor([-42.3012, -35.4256]) tensor([227.7913, 151.2587])\n",
            "tensor([-41.7527, -35.0680]) tensor([227.8759, 151.3296])\n",
            "tensor([-41.2107, -34.7147]) tensor([227.9594, 151.3997])\n",
            "tensor([-40.6753, -34.3655]) tensor([228.0418, 151.4691])\n",
            "tensor([-40.1464, -34.0204]) tensor([228.1232, 151.5378])\n",
            "tensor([-39.6238, -33.6795]) tensor([228.2034, 151.6059])\n",
            "tensor([-39.1075, -33.3425]) tensor([228.2827, 151.6732])\n",
            "tensor([-38.5973, -33.0096]) tensor([228.3609, 151.7399])\n",
            "tensor([-38.0933, -32.6805]) tensor([228.4381, 151.8059])\n",
            "tensor([-37.5954, -32.3554]) tensor([228.5143, 151.8713])\n",
            "tensor([-37.1034, -32.0340]) tensor([228.5895, 151.9360])\n",
            "tensor([-36.6174, -31.7165]) tensor([228.6637, 152.0001])\n",
            "tensor([-36.1372, -31.4028]) tensor([228.7369, 152.0635])\n",
            "tensor([-35.6628, -31.0927]) tensor([228.8092, 152.1263])\n",
            "tensor([-35.1941, -30.7864]) tensor([228.8805, 152.1885])\n",
            "tensor([-34.7311, -30.4836]) tensor([228.9509, 152.2501])\n",
            "tensor([-34.2736, -30.1844]) tensor([229.0204, 152.3111])\n",
            "tensor([-33.8217, -29.8888]) tensor([229.0889, 152.3714])\n",
            "tensor([-33.3751, -29.5966]) tensor([229.1566, 152.4312])\n",
            "tensor([-32.9339, -29.3079]) tensor([229.2233, 152.4904])\n",
            "tensor([-32.4980, -29.0225]) tensor([229.2892, 152.5490])\n",
            "tensor([-32.0674, -28.7406]) tensor([229.3542, 152.6070])\n",
            "tensor([-31.6420, -28.4620]) tensor([229.4183, 152.6645])\n",
            "tensor([-31.2217, -28.1866]) tensor([229.4816, 152.7215])\n",
            "tensor([-30.8065, -27.9145]) tensor([229.5441, 152.7778])\n",
            "tensor([-30.3962, -27.6457]) tensor([229.6057, 152.8336])\n",
            "tensor([-29.9909, -27.3799]) tensor([229.6665, 152.8889])\n",
            "tensor([-29.5904, -27.1173]) tensor([229.7264, 152.9437])\n",
            "tensor([-29.1949, -26.8579]) tensor([229.7856, 152.9979])\n",
            "tensor([-28.8040, -26.6014]) tensor([229.8440, 153.0517])\n",
            "tensor([-28.4178, -26.3480]) tensor([229.9016, 153.1049])\n",
            "tensor([-28.0364, -26.0976]) tensor([229.9585, 153.1575])\n",
            "tensor([-27.6594, -25.8501]) tensor([230.0145, 153.2097])\n",
            "tensor([-27.2871, -25.6056]) tensor([230.0698, 153.2614])\n",
            "tensor([-26.9192, -25.3639]) tensor([230.1244, 153.3127])\n",
            "tensor([-26.5558, -25.1250]) tensor([230.1783, 153.3634])\n",
            "tensor([-26.1967, -24.8890]) tensor([230.2314, 153.4136])\n",
            "tensor([-25.8419, -24.6557]) tensor([230.2838, 153.4634])\n",
            "tensor([-25.4915, -24.4252]) tensor([230.3354, 153.5127])\n",
            "tensor([-25.1452, -24.1974]) tensor([230.3864, 153.5616])\n",
            "tensor([-24.8031, -23.9723]) tensor([230.4367, 153.6100])\n",
            "tensor([-24.4652, -23.7498]) tensor([230.4863, 153.6579])\n",
            "tensor([-24.1313, -23.5300]) tensor([230.5353, 153.7054])\n",
            "tensor([-23.8015, -23.3127]) tensor([230.5835, 153.7525])\n",
            "tensor([-23.4755, -23.0979]) tensor([230.6311, 153.7991])\n",
            "tensor([-23.1536, -22.8857]) tensor([230.6781, 153.8453])\n",
            "tensor([-22.8355, -22.6760]) tensor([230.7244, 153.8911])\n",
            "tensor([-22.5213, -22.4688]) tensor([230.7701, 153.9364])\n",
            "tensor([-22.2108, -22.2639]) tensor([230.8151, 153.9813])\n",
            "tensor([-21.9042, -22.0615]) tensor([230.8595, 154.0259])\n",
            "tensor([-21.6011, -21.8615]) tensor([230.9033, 154.0700])\n",
            "tensor([-21.3018, -21.6638]) tensor([230.9465, 154.1137])\n",
            "tensor([-21.0061, -21.4684]) tensor([230.9891, 154.1570])\n",
            "tensor([-20.7139, -21.2754]) tensor([231.0311, 154.2000])\n",
            "tensor([-20.4253, -21.0845]) tensor([231.0726, 154.2425])\n",
            "tensor([-20.1401, -20.8959]) tensor([231.1134, 154.2847])\n",
            "tensor([-19.8584, -20.7096]) tensor([231.1537, 154.3265])\n",
            "tensor([-19.5801, -20.5254]) tensor([231.1934, 154.3679])\n",
            "tensor([-19.3052, -20.3434]) tensor([231.2326, 154.4090])\n",
            "tensor([-19.0336, -20.1635]) tensor([231.2712, 154.4496])\n",
            "tensor([-18.7652, -19.9857]) tensor([231.3092, 154.4900])\n",
            "tensor([-18.5000, -19.8099]) tensor([231.3468, 154.5300])\n",
            "tensor([-18.2381, -19.6363]) tensor([231.3838, 154.5696])\n",
            "tensor([-17.9793, -19.4647]) tensor([231.4203, 154.6089])\n",
            "tensor([-17.7237, -19.2950]) tensor([231.4562, 154.6478])\n",
            "tensor([-17.4712, -19.1274]) tensor([231.4917, 154.6864])\n",
            "tensor([-17.2217, -18.9617]) tensor([231.5266, 154.7246])\n",
            "tensor([-16.9752, -18.7980]) tensor([231.5611, 154.7625])\n",
            "tensor([-16.7317, -18.6362]) tensor([231.5950, 154.8001])\n",
            "tensor([-16.4912, -18.4762]) tensor([231.6285, 154.8374])\n",
            "tensor([-16.2534, -18.3181]) tensor([231.6615, 154.8744])\n",
            "tensor([-16.0187, -18.1619]) tensor([231.6940, 154.9110])\n",
            "tensor([-15.7867, -18.0075]) tensor([231.7260, 154.9473])\n",
            "tensor([-15.5576, -17.8549]) tensor([231.7576, 154.9834])\n",
            "tensor([-15.3313, -17.7041]) tensor([231.7887, 155.0191])\n",
            "tensor([-15.1076, -17.5550]) tensor([231.8194, 155.0545])\n",
            "tensor([-14.8867, -17.4077]) tensor([231.8496, 155.0896])\n",
            "tensor([-14.6684, -17.2621]) tensor([231.8793, 155.1244])\n",
            "tensor([-14.4528, -17.1181]) tensor([231.9087, 155.1589])\n",
            "tensor([-14.2398, -16.9759]) tensor([231.9376, 155.1932])\n",
            "tensor([-14.0294, -16.8353]) tensor([231.9660, 155.2271])\n",
            "tensor([-13.8215, -16.6964]) tensor([231.9941, 155.2608])\n",
            "tensor([-13.6161, -16.5590]) tensor([232.0218, 155.2942])\n",
            "tensor([-13.4133, -16.4233]) tensor([232.0490, 155.3273])\n",
            "tensor([-13.2128, -16.2892]) tensor([232.0758, 155.3602])\n",
            "tensor([-13.0148, -16.1566]) tensor([232.1022, 155.3927])\n",
            "tensor([-12.8192, -16.0255]) tensor([232.1283, 155.4250])\n",
            "tensor([-12.6260, -15.8960]) tensor([232.1539, 155.4571])\n",
            "tensor([-12.4351, -15.7679]) tensor([232.1792, 155.4889])\n",
            "tensor([-12.2465, -15.6414]) tensor([232.2040, 155.5204])\n",
            "tensor([-12.0603, -15.5163]) tensor([232.2285, 155.5517])\n",
            "tensor([-11.8762, -15.3927]) tensor([232.2527, 155.5827])\n",
            "tensor([-11.6944, -15.2705]) tensor([232.2764, 155.6135])\n",
            "tensor([-11.5147, -15.1497]) tensor([232.2998, 155.6441])\n",
            "tensor([-11.3374, -15.0303]) tensor([232.3228, 155.6744])\n",
            "tensor([-11.1621, -14.9124]) tensor([232.3455, 155.7045])\n",
            "tensor([-10.9890, -14.7957]) tensor([232.3678, 155.7343])\n",
            "tensor([-10.8180, -14.6805]) tensor([232.3898, 155.7639])\n",
            "tensor([-10.6490, -14.5666]) tensor([232.4114, 155.7932])\n",
            "tensor([-10.4821, -14.4539]) tensor([232.4327, 155.8224])\n",
            "tensor([-10.3172, -14.3426]) tensor([232.4537, 155.8513])\n",
            "tensor([-10.1543, -14.2326]) tensor([232.4743, 155.8800])\n",
            "tensor([ -9.9934, -14.1238]) tensor([232.4946, 155.9084])\n",
            "tensor([ -9.8345, -14.0164]) tensor([232.5146, 155.9367])\n",
            "tensor([ -9.6774, -13.9101]) tensor([232.5343, 155.9647])\n",
            "tensor([ -9.5224, -13.8051]) tensor([232.5536, 155.9925])\n",
            "tensor([ -9.3692, -13.7013]) tensor([232.5727, 156.0201])\n",
            "tensor([ -9.2178, -13.5987]) tensor([232.5914, 156.0475])\n",
            "tensor([ -9.0683, -13.4972]) tensor([232.6099, 156.0747])\n",
            "tensor([ -8.9206, -13.3970]) tensor([232.6280, 156.1017])\n",
            "tensor([ -8.7747, -13.2979]) tensor([232.6458, 156.1285])\n",
            "tensor([ -8.6305, -13.1999]) tensor([232.6634, 156.1551])\n",
            "tensor([ -8.4881, -13.1030]) tensor([232.6806, 156.1815])\n",
            "tensor([ -8.3475, -13.0073]) tensor([232.6976, 156.2077])\n",
            "tensor([ -8.2085, -12.9127]) tensor([232.7143, 156.2337])\n",
            "tensor([ -8.0713, -12.8191]) tensor([232.7307, 156.2595])\n",
            "tensor([ -7.9357, -12.7267]) tensor([232.7469, 156.2852])\n",
            "tensor([ -7.8018, -12.6353]) tensor([232.7628, 156.3106])\n",
            "tensor([ -7.6695, -12.5449]) tensor([232.7784, 156.3359])\n",
            "tensor([ -7.5388, -12.4556]) tensor([232.7937, 156.3610])\n",
            "tensor([ -7.4097, -12.3673]) tensor([232.8088, 156.3859])\n",
            "tensor([ -7.2822, -12.2800]) tensor([232.8236, 156.4106])\n",
            "tensor([ -7.1562, -12.1937]) tensor([232.8382, 156.4352])\n",
            "tensor([ -7.0318, -12.1084]) tensor([232.8525, 156.4596])\n",
            "tensor([ -6.9088, -12.0241]) tensor([232.8665, 156.4838])\n",
            "tensor([ -6.7874, -11.9407]) tensor([232.8804, 156.5078])\n",
            "tensor([ -6.6674, -11.8583]) tensor([232.8939, 156.5317])\n",
            "tensor([ -6.5489, -11.7769]) tensor([232.9073, 156.5554])\n",
            "tensor([ -6.4319, -11.6963]) tensor([232.9204, 156.5790])\n",
            "tensor([ -6.3163, -11.6167]) tensor([232.9332, 156.6024])\n",
            "tensor([ -6.2021, -11.5380]) tensor([232.9459, 156.6256])\n",
            "tensor([ -6.0893, -11.4602]) tensor([232.9583, 156.6487])\n",
            "tensor([ -5.9779, -11.3833]) tensor([232.9704, 156.6716])\n",
            "tensor([ -5.8678, -11.3072]) tensor([232.9824, 156.6944])\n",
            "tensor([ -5.7591, -11.2321]) tensor([232.9941, 156.7170])\n",
            "tensor([ -5.6517, -11.1578]) tensor([233.0057, 156.7394])\n",
            "tensor([ -5.5456, -11.0843]) tensor([233.0170, 156.7617])\n",
            "tensor([ -5.4408, -11.0116]) tensor([233.0281, 156.7839])\n",
            "tensor([ -5.3374, -10.9398]) tensor([233.0389, 156.8059])\n",
            "tensor([ -5.2351, -10.8688]) tensor([233.0496, 156.8278])\n",
            "tensor([ -5.1341, -10.7986]) tensor([233.0601, 156.8496])\n",
            "tensor([ -5.0344, -10.7292]) tensor([233.0704, 156.8712])\n",
            "tensor([ -4.9359, -10.6606]) tensor([233.0804, 156.8926])\n",
            "tensor([ -4.8386, -10.5928]) tensor([233.0903, 156.9139])\n",
            "tensor([ -4.7425, -10.5257]) tensor([233.1000, 156.9351])\n",
            "tensor([ -4.6475, -10.4594]) tensor([233.1095, 156.9562])\n",
            "tensor([ -4.5537, -10.3939]) tensor([233.1188, 156.9771])\n",
            "tensor([ -4.4611, -10.3291]) tensor([233.1279, 156.9979])\n",
            "tensor([ -4.3696, -10.2650]) tensor([233.1368, 157.0185])\n",
            "tensor([ -4.2792, -10.2016]) tensor([233.1455, 157.0390])\n",
            "tensor([ -4.1899, -10.1389]) tensor([233.1541, 157.0594])\n",
            "tensor([ -4.1018, -10.0770]) tensor([233.1625, 157.0797])\n",
            "tensor([ -4.0147, -10.0158]) tensor([233.1707, 157.0999])\n",
            "tensor([-3.9287, -9.9552]) tensor([233.1787, 157.1199])\n",
            "tensor([-3.8437, -9.8953]) tensor([233.1866, 157.1398])\n",
            "tensor([-3.7598, -9.8361]) tensor([233.1943, 157.1596])\n",
            "tensor([-3.6769, -9.7776]) tensor([233.2018, 157.1793])\n",
            "tensor([-3.5950, -9.7197]) tensor([233.2091, 157.1989])\n",
            "tensor([-3.5141, -9.6625]) tensor([233.2163, 157.2183])\n",
            "tensor([-3.4343, -9.6059]) tensor([233.2234, 157.2376])\n",
            "tensor([-3.3554, -9.5499]) tensor([233.2302, 157.2568])\n",
            "tensor([-3.2775, -9.4946]) tensor([233.2369, 157.2759])\n",
            "tensor([-3.2005, -9.4399]) tensor([233.2435, 157.2949])\n",
            "tensor([-3.1246, -9.3858]) tensor([233.2499, 157.3138])\n",
            "tensor([-3.0495, -9.3323]) tensor([233.2561, 157.3326])\n",
            "tensor([-2.9753, -9.2794]) tensor([233.2623, 157.3512])\n",
            "tensor([-2.9021, -9.2271]) tensor([233.2682, 157.3698])\n",
            "tensor([-2.8298, -9.1754]) tensor([233.2740, 157.3882])\n",
            "tensor([-2.7584, -9.1243]) tensor([233.2797, 157.4066])\n",
            "tensor([-2.6878, -9.0737]) tensor([233.2852, 157.4248])\n",
            "tensor([-2.6182, -9.0237]) tensor([233.2906, 157.4430])\n",
            "tensor([-2.5494, -8.9742]) tensor([233.2958, 157.4610])\n",
            "tensor([-2.4814, -8.9253]) tensor([233.3009, 157.4790])\n",
            "tensor([-2.4143, -8.8770]) tensor([233.3058, 157.4968])\n",
            "tensor([-2.3480, -8.8292]) tensor([233.3107, 157.5146])\n",
            "tensor([-2.2826, -8.7819]) tensor([233.3154, 157.5322])\n",
            "tensor([-2.2179, -8.7351]) tensor([233.3199, 157.5498])\n",
            "tensor([-2.1540, -8.6888]) tensor([233.3244, 157.5673])\n",
            "tensor([-2.0910, -8.6431]) tensor([233.3287, 157.5846])\n",
            "tensor([-2.0287, -8.5978]) tensor([233.3329, 157.6019])\n",
            "tensor([-1.9671, -8.5531]) tensor([233.3369, 157.6191])\n",
            "tensor([-1.9064, -8.5088]) tensor([233.3409, 157.6362])\n",
            "tensor([-1.8464, -8.4651]) tensor([233.3447, 157.6532])\n",
            "tensor([-1.7871, -8.4218]) tensor([233.3484, 157.6702])\n",
            "tensor([-1.7286, -8.3790]) tensor([233.3519, 157.6870])\n",
            "tensor([-1.6708, -8.3366]) tensor([233.3554, 157.7038])\n",
            "tensor([-1.6137, -8.2947]) tensor([233.3587, 157.7205])\n",
            "tensor([-1.5573, -8.2533]) tensor([233.3620, 157.7370])\n",
            "tensor([-1.5017, -8.2123]) tensor([233.3651, 157.7536])\n",
            "tensor([-1.4467, -8.1718]) tensor([233.3681, 157.7700])\n",
            "tensor([-1.3924, -8.1317]) tensor([233.3710, 157.7863])\n",
            "tensor([-1.3388, -8.0921]) tensor([233.3738, 157.8026])\n",
            "tensor([-1.2858, -8.0529]) tensor([233.3764, 157.8188])\n",
            "tensor([-1.2335, -8.0141]) tensor([233.3790, 157.8349])\n",
            "tensor([-1.1819, -7.9757]) tensor([233.3815, 157.8509])\n",
            "tensor([-1.1309, -7.9378]) tensor([233.3839, 157.8669])\n",
            "tensor([-1.0806, -7.9003]) tensor([233.3861, 157.8827])\n",
            "tensor([-1.0309, -7.8632]) tensor([233.3883, 157.8985])\n",
            "tensor([-0.9818, -7.8264]) tensor([233.3904, 157.9143])\n",
            "tensor([-0.9332, -7.7901]) tensor([233.3923, 157.9299])\n",
            "tensor([-0.8854, -7.7542]) tensor([233.3942, 157.9455])\n",
            "tensor([-0.8382, -7.7187]) tensor([233.3960, 157.9610])\n",
            "tensor([-0.7914, -7.6835]) tensor([233.3976, 157.9764])\n",
            "tensor([-0.7453, -7.6487]) tensor([233.3992, 157.9918])\n",
            "tensor([-0.6998, -7.6143]) tensor([233.4007, 158.0071])\n",
            "tensor([-0.6548, -7.5803]) tensor([233.4021, 158.0223])\n",
            "tensor([-0.6104, -7.5466]) tensor([233.4034, 158.0375])\n",
            "tensor([-0.5666, -7.5133]) tensor([233.4046, 158.0526])\n",
            "tensor([-0.5233, -7.4803]) tensor([233.4058, 158.0676])\n",
            "tensor([-0.4806, -7.4477]) tensor([233.4068, 158.0826])\n",
            "tensor([-0.4384, -7.4155]) tensor([233.4078, 158.0975])\n",
            "tensor([-0.3968, -7.3836]) tensor([233.4087, 158.1123])\n",
            "tensor([-0.3557, -7.3521]) tensor([233.4095, 158.1271])\n",
            "tensor([-0.3150, -7.3208]) tensor([233.4102, 158.1418])\n",
            "tensor([-0.2749, -7.2899]) tensor([233.4108, 158.1564])\n",
            "MSE Loss:  2659.68701171875\n"
          ]
        },
        {
          "output_type": "display_data",
          "data": {
            "image/png": "[encoded data removed]",
            "text/plain": [
              "<Figure size 432x288 with 1 Axes>"
            ]
          },
          "metadata": {
            "needs_background": "light"
          }
        }
      ]
    },
    {
      "cell_type": "markdown",
      "source": [
        "Deployment"
      ],
      "metadata": {
        "id": "ClT436eWrKSJ"
      }
    },
    {
      "cell_type": "code",
      "source": [
        "!pip install gradio"
      ],
      "metadata": {
        "id": "oZWMQRV8qt5S",
        "colab": {
          "base_uri": "https://localhost:8080/"
        },
        "outputId": "d789b84f-1931-47b9-e3b9-bc5e69802e0c"
      },
      "execution_count": null,
      "outputs": [
        {
          "output_type": "stream",
          "name": "stdout",
          "text": [
            "Requirement already satisfied: gradio in /usr/local/lib/python3.7/dist-packages (2.7.5.2)\n",
            "Requirement already satisfied: python-multipart in /usr/local/lib/python3.7/dist-packages (from gradio) (0.0.5)\n",
            "Requirement already satisfied: matplotlib in /usr/local/lib/python3.7/dist-packages (from gradio) (3.2.2)\n",
            "Requirement already satisfied: numpy in /usr/local/lib/python3.7/dist-packages (from gradio) (1.19.5)\n",
            "Requirement already satisfied: uvicorn in /usr/local/lib/python3.7/dist-packages (from gradio) (0.17.1)\n",
            "Requirement already satisfied: ffmpy in /usr/local/lib/python3.7/dist-packages (from gradio) (0.3.0)\n",
            "Requirement already satisfied: aiohttp in /usr/local/lib/python3.7/dist-packages (from gradio) (3.8.1)\n",
            "Requirement already satisfied: fastapi in /usr/local/lib/python3.7/dist-packages (from gradio) (0.73.0)\n",
            "Requirement already satisfied: paramiko in /usr/local/lib/python3.7/dist-packages (from gradio) (2.9.2)\n",
            "Requirement already satisfied: analytics-python in /usr/local/lib/python3.7/dist-packages (from gradio) (1.4.0)\n",
            "Requirement already satisfied: pycryptodome in /usr/local/lib/python3.7/dist-packages (from gradio) (3.13.0)\n",
            "Requirement already satisfied: requests in /usr/local/lib/python3.7/dist-packages (from gradio) (2.23.0)\n",
            "Requirement already satisfied: pillow in /usr/local/lib/python3.7/dist-packages (from gradio) (7.1.2)\n",
            "Requirement already satisfied: pandas in /usr/local/lib/python3.7/dist-packages (from gradio) (1.1.5)\n",
            "Requirement already satisfied: markdown2 in /usr/local/lib/python3.7/dist-packages (from gradio) (2.4.2)\n",
            "Requirement already satisfied: pydub in /usr/local/lib/python3.7/dist-packages (from gradio) (0.25.1)\n",
            "Requirement already satisfied: attrs>=17.3.0 in /usr/local/lib/python3.7/dist-packages (from aiohttp->gradio) (21.4.0)\n",
            "Requirement already satisfied: aiosignal>=1.1.2 in /usr/local/lib/python3.7/dist-packages (from aiohttp->gradio) (1.2.0)\n",
            "Requirement already satisfied: typing-extensions>=3.7.4 in /usr/local/lib/python3.7/dist-packages (from aiohttp->gradio) (3.10.0.2)\n",
            "Requirement already satisfied: multidict<7.0,>=4.5 in /usr/local/lib/python3.7/dist-packages (from aiohttp->gradio) (6.0.2)\n",
            "Requirement already satisfied: asynctest==0.13.0 in /usr/local/lib/python3.7/dist-packages (from aiohttp->gradio) (0.13.0)\n",
            "Requirement already satisfied: frozenlist>=1.1.1 in /usr/local/lib/python3.7/dist-packages (from aiohttp->gradio) (1.3.0)\n",
            "Requirement already satisfied: yarl<2.0,>=1.0 in /usr/local/lib/python3.7/dist-packages (from aiohttp->gradio) (1.7.2)\n",
            "Requirement already satisfied: async-timeout<5.0,>=4.0.0a3 in /usr/local/lib/python3.7/dist-packages (from aiohttp->gradio) (4.0.2)\n",
            "Requirement already satisfied: charset-normalizer<3.0,>=2.0 in /usr/local/lib/python3.7/dist-packages (from aiohttp->gradio) (2.0.10)\n",
            "Requirement already satisfied: idna>=2.0 in /usr/local/lib/python3.7/dist-packages (from yarl<2.0,>=1.0->aiohttp->gradio) (2.10)\n",
            "Requirement already satisfied: monotonic>=1.5 in /usr/local/lib/python3.7/dist-packages (from analytics-python->gradio) (1.6)\n",
            "Requirement already satisfied: python-dateutil>2.1 in /usr/local/lib/python3.7/dist-packages (from analytics-python->gradio) (2.8.2)\n",
            "Requirement already satisfied: six>=1.5 in /usr/local/lib/python3.7/dist-packages (from analytics-python->gradio) (1.15.0)\n",
            "Requirement already satisfied: backoff==1.10.0 in /usr/local/lib/python3.7/dist-packages (from analytics-python->gradio) (1.10.0)\n",
            "Requirement already satisfied: certifi>=2017.4.17 in /usr/local/lib/python3.7/dist-packages (from requests->gradio) (2021.10.8)\n",
            "Requirement already satisfied: urllib3!=1.25.0,!=1.25.1,<1.26,>=1.21.1 in /usr/local/lib/python3.7/dist-packages (from requests->gradio) (1.24.3)\n",
            "Requirement already satisfied: chardet<4,>=3.0.2 in /usr/local/lib/python3.7/dist-packages (from requests->gradio) (3.0.4)\n",
            "Requirement already satisfied: pydantic!=1.7,!=1.7.1,!=1.7.2,!=1.7.3,!=1.8,!=1.8.1,<2.0.0,>=1.6.2 in /usr/local/lib/python3.7/dist-packages (from fastapi->gradio) (1.9.0)\n",
            "Requirement already satisfied: starlette==0.17.1 in /usr/local/lib/python3.7/dist-packages (from fastapi->gradio) (0.17.1)\n",
            "Requirement already satisfied: anyio<4,>=3.0.0 in /usr/local/lib/python3.7/dist-packages (from starlette==0.17.1->fastapi->gradio) (3.5.0)\n",
            "Requirement already satisfied: sniffio>=1.1 in /usr/local/lib/python3.7/dist-packages (from anyio<4,>=3.0.0->starlette==0.17.1->fastapi->gradio) (1.2.0)\n",
            "Requirement already satisfied: kiwisolver>=1.0.1 in /usr/local/lib/python3.7/dist-packages (from matplotlib->gradio) (1.3.2)\n",
            "Requirement already satisfied: cycler>=0.10 in /usr/local/lib/python3.7/dist-packages (from matplotlib->gradio) (0.11.0)\n",
            "Requirement already satisfied: pyparsing!=2.0.4,!=2.1.2,!=2.1.6,>=2.0.1 in /usr/local/lib/python3.7/dist-packages (from matplotlib->gradio) (3.0.7)\n",
            "Requirement already satisfied: pytz>=2017.2 in /usr/local/lib/python3.7/dist-packages (from pandas->gradio) (2018.9)\n",
            "Requirement already satisfied: pynacl>=1.0.1 in /usr/local/lib/python3.7/dist-packages (from paramiko->gradio) (1.5.0)\n",
            "Requirement already satisfied: cryptography>=2.5 in /usr/local/lib/python3.7/dist-packages (from paramiko->gradio) (36.0.1)\n",
            "Requirement already satisfied: bcrypt>=3.1.3 in /usr/local/lib/python3.7/dist-packages (from paramiko->gradio) (3.2.0)\n",
            "Requirement already satisfied: cffi>=1.1 in /usr/local/lib/python3.7/dist-packages (from bcrypt>=3.1.3->paramiko->gradio) (1.15.0)\n",
            "Requirement already satisfied: pycparser in /usr/local/lib/python3.7/dist-packages (from cffi>=1.1->bcrypt>=3.1.3->paramiko->gradio) (2.21)\n",
            "Requirement already satisfied: click>=7.0 in /usr/local/lib/python3.7/dist-packages (from uvicorn->gradio) (7.1.2)\n",
            "Requirement already satisfied: h11>=0.8 in /usr/local/lib/python3.7/dist-packages (from uvicorn->gradio) (0.13.0)\n",
            "Requirement already satisfied: asgiref>=3.4.0 in /usr/local/lib/python3.7/dist-packages (from uvicorn->gradio) (3.5.0)\n"
          ]
        }
      ]
    },
    {
      "cell_type": "code",
      "source": [
        "import gradio as gr\n"
      ],
      "metadata": {
        "id": "MKVjqIdWrXma"
      },
      "execution_count": null,
      "outputs": []
    },
    {
      "cell_type": "code",
      "source": [
        "def predict(days_elapsed):\n",
        "    return model(days_elapsed).item()\n",
        "\n",
        "iface = gr.Interface(fn=predict, inputs=\"number\", outputs=\"number\").launch()"
      ],
      "metadata": {
        "id": "pkq_NT7wrfYs",
        "colab": {
          "base_uri": "https://localhost:8080/",
          "height": 591
        },
        "outputId": "67272449-a637-448c-8921-180af5df469d"
      },
      "execution_count": null,
      "outputs": [
        {
          "output_type": "stream",
          "name": "stdout",
          "text": [
            "Colab notebook detected. To show errors in colab notebook, set `debug=True` in `launch()`\n",
            "Running on public URL: https://46179.gradio.app\n",
            "\n",
            "This share link expires in 72 hours. For free permanent hosting, check out Spaces (https://huggingface.co/spaces)\n"
          ]
        },
        {
          "output_type": "display_data",
          "data": {
            "text/html": [
              "\n",
              "        <iframe\n",
              "            width=\"900\"\n",
              "            height=\"500\"\n",
              "            src=\"https://46179.gradio.app\"\n",
              "            frameborder=\"0\"\n",
              "            allowfullscreen\n",
              "        ></iframe>\n",
              "        "
            ],
            "text/plain": [
              "<IPython.lib.display.IFrame at 0x7f776cc1c4d0>"
            ]
          },
          "metadata": {}
        }
      ]
    },
    {
      "cell_type": "code",
      "source": [
        "model(4431)"
      ],
      "metadata": {
        "id": "WqXQYuKhsvdF",
        "colab": {
          "base_uri": "https://localhost:8080/"
        },
        "outputId": "3b684e94-da4c-4771-f3d2-589f6e50c811"
      },
      "execution_count": null,
      "outputs": [
        {
          "output_type": "execute_result",
          "data": {
            "text/plain": [
              "tensor(-3273.4702, grad_fn=<AddBackward0>)"
            ]
          },
          "metadata": {},
          "execution_count": 189
        }
      ]
    },
    {
      "cell_type": "code",
      "source": [
        ""
      ],
      "metadata": {
        "id": "CcvxOGuctdD0"
      },
      "execution_count": null,
      "outputs": []
    },
    {
      "cell_type": "markdown",
      "source": [
        "## Logistic Regression\n",
        "\n",
        "Classification, not really regression"
      ],
      "metadata": {
        "id": "hMsWeQO7XRDf"
      }
    },
    {
      "cell_type": "markdown",
      "source": [
        "Titanic problem\n",
        "\n",
        "https://www.kaggle.com/c/titanic\n"
      ],
      "metadata": {
        "id": "Tz-ETsdyXq1P"
      }
    },
    {
      "cell_type": "code",
      "source": [
        "# from google.colab import files\n",
        "# uploaded=files.upload()"
      ],
      "metadata": {
        "id": "et27CT3rXcot",
        "colab": {
          "resources": {
            "http://localhost:8080/nbextensions/google.colab/files.js": {
              "data": "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",
              "ok": true,
              "headers": [
                [
                  "content-type",
                  "application/javascript"
                ]
              ],
              "status": 200,
              "status_text": ""
            }
          },
          "base_uri": "https://localhost:8080/",
          "height": 56
        },
        "outputId": "a07069a8-6c6f-49e6-e365-b89df8381261"
      },
      "execution_count": null,
      "outputs": [
        {
          "output_type": "display_data",
          "data": {
            "text/html": [
              "\n",
              "     <input type=\"file\" id=\"files-50bdb4a1-0686-4e5b-9d9f-f09c5aa826a0\" name=\"files[]\" multiple disabled\n",
              "        style=\"border:none\" />\n",
              "     <output id=\"result-50bdb4a1-0686-4e5b-9d9f-f09c5aa826a0\">\n",
              "      Upload widget is only available when the cell has been executed in the\n",
              "      current browser session. Please rerun this cell to enable.\n",
              "      </output>\n",
              "      <script src=\"/nbextensions/google.colab/files.js\"></script> "
            ],
            "text/plain": [
              "<IPython.core.display.HTML object>"
            ]
          },
          "metadata": {}
        },
        {
          "output_type": "stream",
          "name": "stdout",
          "text": [
            "Saving kaggle.json to kaggle.json\n"
          ]
        }
      ]
    },
    {
      "cell_type": "code",
      "source": [
        "!mkdir -p ~/.kaggle && mv kaggle.json ~/.kaggle/"
      ],
      "metadata": {
        "id": "mdnbferbYW2P"
      },
      "execution_count": null,
      "outputs": []
    },
    {
      "cell_type": "code",
      "source": [
        "!mkdir titanic\n",
        "%cd titanic\n",
        "!kaggle competitions download -c titanic"
      ],
      "metadata": {
        "id": "D3_geXJLYeOQ",
        "colab": {
          "base_uri": "https://localhost:8080/"
        },
        "outputId": "c837f285-6401-4b05-9c66-ea610f4da69f"
      },
      "execution_count": null,
      "outputs": [
        {
          "output_type": "stream",
          "name": "stdout",
          "text": [
            "/content/titanic/titanic/titanic\n",
            "Warning: Your Kaggle API key is readable by other users on this system! To fix this, you can run 'chmod 600 /root/.kaggle/kaggle.json'\n",
            "Warning: Looks like you're using an outdated API Version, please consider updating (server 1.5.12 / client 1.5.4)\n",
            "Downloading train.csv to /content/titanic/titanic/titanic\n",
            "  0% 0.00/59.8k [00:00<?, ?B/s]\n",
            "100% 59.8k/59.8k [00:00<00:00, 38.3MB/s]\n",
            "Downloading gender_submission.csv to /content/titanic/titanic/titanic\n",
            "  0% 0.00/3.18k [00:00<?, ?B/s]\n",
            "100% 3.18k/3.18k [00:00<00:00, 5.57MB/s]\n",
            "Downloading test.csv to /content/titanic/titanic/titanic\n",
            "  0% 0.00/28.0k [00:00<?, ?B/s]\n",
            "100% 28.0k/28.0k [00:00<00:00, 16.3MB/s]\n"
          ]
        }
      ]
    },
    {
      "cell_type": "code",
      "source": [
        "!ls"
      ],
      "metadata": {
        "id": "W06XhqF8Yu8C",
        "colab": {
          "base_uri": "https://localhost:8080/"
        },
        "outputId": "938e7637-e179-4e24-f9e0-93f2a7e26789"
      },
      "execution_count": null,
      "outputs": [
        {
          "output_type": "stream",
          "name": "stdout",
          "text": [
            "gender_submission.csv  test.csv  train.csv\n"
          ]
        }
      ]
    },
    {
      "cell_type": "code",
      "source": [
        "import pandas as pd\n",
        "dataframe = pd.read_csv('train.csv')\n",
        "dataframe.head()"
      ],
      "metadata": {
        "id": "qV3OumBsYw8k",
        "colab": {
          "base_uri": "https://localhost:8080/",
          "height": 250
        },
        "outputId": "6def3183-8ecc-40a3-ab26-070b20d8671e"
      },
      "execution_count": null,
      "outputs": [
        {
          "output_type": "execute_result",
          "data": {
            "text/html": [
              "\n",
              "  <div id=\"df-158b42a9-b860-4244-b15d-c5b47af608ac\">\n",
              "    <div class=\"colab-df-container\">\n",
              "      <div>\n",
              "<style scoped>\n",
              "    .dataframe tbody tr th:only-of-type {\n",
              "        vertical-align: middle;\n",
              "    }\n",
              "\n",
              "    .dataframe tbody tr th {\n",
              "        vertical-align: top;\n",
              "    }\n",
              "\n",
              "    .dataframe thead th {\n",
              "        text-align: right;\n",
              "    }\n",
              "</style>\n",
              "<table border=\"1\" class=\"dataframe\">\n",
              "  <thead>\n",
              "    <tr style=\"text-align: right;\">\n",
              "      <th></th>\n",
              "      <th>PassengerId</th>\n",
              "      <th>Survived</th>\n",
              "      <th>Pclass</th>\n",
              "      <th>Name</th>\n",
              "      <th>Sex</th>\n",
              "      <th>Age</th>\n",
              "      <th>SibSp</th>\n",
              "      <th>Parch</th>\n",
              "      <th>Ticket</th>\n",
              "      <th>Fare</th>\n",
              "      <th>Cabin</th>\n",
              "      <th>Embarked</th>\n",
              "    </tr>\n",
              "  </thead>\n",
              "  <tbody>\n",
              "    <tr>\n",
              "      <th>0</th>\n",
              "      <td>1</td>\n",
              "      <td>0</td>\n",
              "      <td>3</td>\n",
              "      <td>Braund, Mr. Owen Harris</td>\n",
              "      <td>male</td>\n",
              "      <td>22.0</td>\n",
              "      <td>1</td>\n",
              "      <td>0</td>\n",
              "      <td>A/5 21171</td>\n",
              "      <td>7.2500</td>\n",
              "      <td>NaN</td>\n",
              "      <td>S</td>\n",
              "    </tr>\n",
              "    <tr>\n",
              "      <th>1</th>\n",
              "      <td>2</td>\n",
              "      <td>1</td>\n",
              "      <td>1</td>\n",
              "      <td>Cumings, Mrs. John Bradley (Florence Briggs Th...</td>\n",
              "      <td>female</td>\n",
              "      <td>38.0</td>\n",
              "      <td>1</td>\n",
              "      <td>0</td>\n",
              "      <td>PC 17599</td>\n",
              "      <td>71.2833</td>\n",
              "      <td>C85</td>\n",
              "      <td>C</td>\n",
              "    </tr>\n",
              "    <tr>\n",
              "      <th>2</th>\n",
              "      <td>3</td>\n",
              "      <td>1</td>\n",
              "      <td>3</td>\n",
              "      <td>Heikkinen, Miss. Laina</td>\n",
              "      <td>female</td>\n",
              "      <td>26.0</td>\n",
              "      <td>0</td>\n",
              "      <td>0</td>\n",
              "      <td>STON/O2. 3101282</td>\n",
              "      <td>7.9250</td>\n",
              "      <td>NaN</td>\n",
              "      <td>S</td>\n",
              "    </tr>\n",
              "    <tr>\n",
              "      <th>3</th>\n",
              "      <td>4</td>\n",
              "      <td>1</td>\n",
              "      <td>1</td>\n",
              "      <td>Futrelle, Mrs. Jacques Heath (Lily May Peel)</td>\n",
              "      <td>female</td>\n",
              "      <td>35.0</td>\n",
              "      <td>1</td>\n",
              "      <td>0</td>\n",
              "      <td>113803</td>\n",
              "      <td>53.1000</td>\n",
              "      <td>C123</td>\n",
              "      <td>S</td>\n",
              "    </tr>\n",
              "    <tr>\n",
              "      <th>4</th>\n",
              "      <td>5</td>\n",
              "      <td>0</td>\n",
              "      <td>3</td>\n",
              "      <td>Allen, Mr. William Henry</td>\n",
              "      <td>male</td>\n",
              "      <td>35.0</td>\n",
              "      <td>0</td>\n",
              "      <td>0</td>\n",
              "      <td>373450</td>\n",
              "      <td>8.0500</td>\n",
              "      <td>NaN</td>\n",
              "      <td>S</td>\n",
              "    </tr>\n",
              "  </tbody>\n",
              "</table>\n",
              "</div>\n",
              "      <button class=\"colab-df-convert\" onclick=\"convertToInteractive('df-158b42a9-b860-4244-b15d-c5b47af608ac')\"\n",
              "              title=\"Convert this dataframe to an interactive table.\"\n",
              "              style=\"display:none;\">\n",
              "        \n",
              "  <svg xmlns=\"http://www.w3.org/2000/svg\" height=\"24px\"viewBox=\"0 0 24 24\"\n",
              "       width=\"24px\">\n",
              "    <path d=\"M0 0h24v24H0V0z\" fill=\"none\"/>\n",
              "    <path d=\"M18.56 5.44l.94 2.06.94-2.06 2.06-.94-2.06-.94-.94-2.06-.94 2.06-2.06.94zm-11 1L8.5 8.5l.94-2.06 2.06-.94-2.06-.94L8.5 2.5l-.94 2.06-2.06.94zm10 10l.94 2.06.94-2.06 2.06-.94-2.06-.94-.94-2.06-.94 2.06-2.06.94z\"/><path d=\"M17.41 7.96l-1.37-1.37c-.4-.4-.92-.59-1.43-.59-.52 0-1.04.2-1.43.59L10.3 9.45l-7.72 7.72c-.78.78-.78 2.05 0 2.83L4 21.41c.39.39.9.59 1.41.59.51 0 1.02-.2 1.41-.59l7.78-7.78 2.81-2.81c.8-.78.8-2.07 0-2.86zM5.41 20L4 18.59l7.72-7.72 1.47 1.35L5.41 20z\"/>\n",
              "  </svg>\n",
              "      </button>\n",
              "      \n",
              "  <style>\n",
              "    .colab-df-container {\n",
              "      display:flex;\n",
              "      flex-wrap:wrap;\n",
              "      gap: 12px;\n",
              "    }\n",
              "\n",
              "    .colab-df-convert {\n",
              "      background-color: #E8F0FE;\n",
              "      border: none;\n",
              "      border-radius: 50%;\n",
              "      cursor: pointer;\n",
              "      display: none;\n",
              "      fill: #1967D2;\n",
              "      height: 32px;\n",
              "      padding: 0 0 0 0;\n",
              "      width: 32px;\n",
              "    }\n",
              "\n",
              "    .colab-df-convert:hover {\n",
              "      background-color: #E2EBFA;\n",
              "      box-shadow: 0px 1px 2px rgba(60, 64, 67, 0.3), 0px 1px 3px 1px rgba(60, 64, 67, 0.15);\n",
              "      fill: #174EA6;\n",
              "    }\n",
              "\n",
              "    [theme=dark] .colab-df-convert {\n",
              "      background-color: #3B4455;\n",
              "      fill: #D2E3FC;\n",
              "    }\n",
              "\n",
              "    [theme=dark] .colab-df-convert:hover {\n",
              "      background-color: #434B5C;\n",
              "      box-shadow: 0px 1px 3px 1px rgba(0, 0, 0, 0.15);\n",
              "      filter: drop-shadow(0px 1px 2px rgba(0, 0, 0, 0.3));\n",
              "      fill: #FFFFFF;\n",
              "    }\n",
              "  </style>\n",
              "\n",
              "      <script>\n",
              "        const buttonEl =\n",
              "          document.querySelector('#df-158b42a9-b860-4244-b15d-c5b47af608ac button.colab-df-convert');\n",
              "        buttonEl.style.display =\n",
              "          google.colab.kernel.accessAllowed ? 'block' : 'none';\n",
              "\n",
              "        async function convertToInteractive(key) {\n",
              "          const element = document.querySelector('#df-158b42a9-b860-4244-b15d-c5b47af608ac');\n",
              "          const dataTable =\n",
              "            await google.colab.kernel.invokeFunction('convertToInteractive',\n",
              "                                                     [key], {});\n",
              "          if (!dataTable) return;\n",
              "\n",
              "          const docLinkHtml = 'Like what you see? Visit the ' +\n",
              "            '<a target=\"_blank\" href=https://colab.research.google.com/notebooks/data_table.ipynb>data table notebook</a>'\n",
              "            + ' to learn more about interactive tables.';\n",
              "          element.innerHTML = '';\n",
              "          dataTable['output_type'] = 'display_data';\n",
              "          await google.colab.output.renderOutput(dataTable, element);\n",
              "          const docLink = document.createElement('div');\n",
              "          docLink.innerHTML = docLinkHtml;\n",
              "          element.appendChild(docLink);\n",
              "        }\n",
              "      </script>\n",
              "    </div>\n",
              "  </div>\n",
              "  "
            ],
            "text/plain": [
              "   PassengerId  Survived  Pclass  ...     Fare Cabin  Embarked\n",
              "0            1         0       3  ...   7.2500   NaN         S\n",
              "1            2         1       1  ...  71.2833   C85         C\n",
              "2            3         1       3  ...   7.9250   NaN         S\n",
              "3            4         1       1  ...  53.1000  C123         S\n",
              "4            5         0       3  ...   8.0500   NaN         S\n",
              "\n",
              "[5 rows x 12 columns]"
            ]
          },
          "metadata": {},
          "execution_count": 194
        }
      ]
    },
    {
      "cell_type": "code",
      "source": [
        "length = len(dataframe)\n",
        "train_df = dataframe.iloc[:int(length*0.8)]\n",
        "test_df = dataframe.iloc[int(length*0.8):]\n",
        "\n",
        "len(train_df), len(test_df)"
      ],
      "metadata": {
        "id": "p91xqRXhZcwY",
        "colab": {
          "base_uri": "https://localhost:8080/"
        },
        "outputId": "efb77b9d-466c-4139-9fa9-70777363c8db"
      },
      "execution_count": null,
      "outputs": [
        {
          "output_type": "execute_result",
          "data": {
            "text/plain": [
              "(712, 179)"
            ]
          },
          "metadata": {},
          "execution_count": 195
        }
      ]
    },
    {
      "cell_type": "markdown",
      "source": [
        "Preprocessing of data"
      ],
      "metadata": {
        "id": "4HEwZTlJalmm"
      }
    },
    {
      "cell_type": "code",
      "source": [
        "train_df['Sex'] = [1 if i is True else 0 for i in (train_df['Sex']=='male')]\n",
        "test_df['Sex']  = [1 if i is True else 0 for i in (test_df['Sex']=='male')]\n",
        "\n",
        "train_df.head()"
      ],
      "metadata": {
        "id": "VfCxhmbZZ_mN",
        "colab": {
          "base_uri": "https://localhost:8080/",
          "height": 415
        },
        "outputId": "69585c60-0930-4a2a-d126-53b2d2961f7d"
      },
      "execution_count": null,
      "outputs": [
        {
          "output_type": "stream",
          "name": "stderr",
          "text": [
            "/usr/local/lib/python3.7/dist-packages/ipykernel_launcher.py:1: SettingWithCopyWarning: \n",
            "A value is trying to be set on a copy of a slice from a DataFrame.\n",
            "Try using .loc[row_indexer,col_indexer] = value instead\n",
            "\n",
            "See the caveats in the documentation: https://pandas.pydata.org/pandas-docs/stable/user_guide/indexing.html#returning-a-view-versus-a-copy\n",
            "  \"\"\"Entry point for launching an IPython kernel.\n",
            "/usr/local/lib/python3.7/dist-packages/ipykernel_launcher.py:2: SettingWithCopyWarning: \n",
            "A value is trying to be set on a copy of a slice from a DataFrame.\n",
            "Try using .loc[row_indexer,col_indexer] = value instead\n",
            "\n",
            "See the caveats in the documentation: https://pandas.pydata.org/pandas-docs/stable/user_guide/indexing.html#returning-a-view-versus-a-copy\n",
            "  \n"
          ]
        },
        {
          "output_type": "execute_result",
          "data": {
            "text/html": [
              "\n",
              "  <div id=\"df-311c4a4d-127c-44a6-80cf-96322619a440\">\n",
              "    <div class=\"colab-df-container\">\n",
              "      <div>\n",
              "<style scoped>\n",
              "    .dataframe tbody tr th:only-of-type {\n",
              "        vertical-align: middle;\n",
              "    }\n",
              "\n",
              "    .dataframe tbody tr th {\n",
              "        vertical-align: top;\n",
              "    }\n",
              "\n",
              "    .dataframe thead th {\n",
              "        text-align: right;\n",
              "    }\n",
              "</style>\n",
              "<table border=\"1\" class=\"dataframe\">\n",
              "  <thead>\n",
              "    <tr style=\"text-align: right;\">\n",
              "      <th></th>\n",
              "      <th>PassengerId</th>\n",
              "      <th>Survived</th>\n",
              "      <th>Pclass</th>\n",
              "      <th>Name</th>\n",
              "      <th>Sex</th>\n",
              "      <th>Age</th>\n",
              "      <th>SibSp</th>\n",
              "      <th>Parch</th>\n",
              "      <th>Ticket</th>\n",
              "      <th>Fare</th>\n",
              "      <th>Cabin</th>\n",
              "      <th>Embarked</th>\n",
              "    </tr>\n",
              "  </thead>\n",
              "  <tbody>\n",
              "    <tr>\n",
              "      <th>0</th>\n",
              "      <td>1</td>\n",
              "      <td>0</td>\n",
              "      <td>3</td>\n",
              "      <td>Braund, Mr. Owen Harris</td>\n",
              "      <td>1</td>\n",
              "      <td>22.0</td>\n",
              "      <td>1</td>\n",
              "      <td>0</td>\n",
              "      <td>A/5 21171</td>\n",
              "      <td>7.2500</td>\n",
              "      <td>NaN</td>\n",
              "      <td>S</td>\n",
              "    </tr>\n",
              "    <tr>\n",
              "      <th>1</th>\n",
              "      <td>2</td>\n",
              "      <td>1</td>\n",
              "      <td>1</td>\n",
              "      <td>Cumings, Mrs. John Bradley (Florence Briggs Th...</td>\n",
              "      <td>0</td>\n",
              "      <td>38.0</td>\n",
              "      <td>1</td>\n",
              "      <td>0</td>\n",
              "      <td>PC 17599</td>\n",
              "      <td>71.2833</td>\n",
              "      <td>C85</td>\n",
              "      <td>C</td>\n",
              "    </tr>\n",
              "    <tr>\n",
              "      <th>2</th>\n",
              "      <td>3</td>\n",
              "      <td>1</td>\n",
              "      <td>3</td>\n",
              "      <td>Heikkinen, Miss. Laina</td>\n",
              "      <td>0</td>\n",
              "      <td>26.0</td>\n",
              "      <td>0</td>\n",
              "      <td>0</td>\n",
              "      <td>STON/O2. 3101282</td>\n",
              "      <td>7.9250</td>\n",
              "      <td>NaN</td>\n",
              "      <td>S</td>\n",
              "    </tr>\n",
              "    <tr>\n",
              "      <th>3</th>\n",
              "      <td>4</td>\n",
              "      <td>1</td>\n",
              "      <td>1</td>\n",
              "      <td>Futrelle, Mrs. Jacques Heath (Lily May Peel)</td>\n",
              "      <td>0</td>\n",
              "      <td>35.0</td>\n",
              "      <td>1</td>\n",
              "      <td>0</td>\n",
              "      <td>113803</td>\n",
              "      <td>53.1000</td>\n",
              "      <td>C123</td>\n",
              "      <td>S</td>\n",
              "    </tr>\n",
              "    <tr>\n",
              "      <th>4</th>\n",
              "      <td>5</td>\n",
              "      <td>0</td>\n",
              "      <td>3</td>\n",
              "      <td>Allen, Mr. William Henry</td>\n",
              "      <td>1</td>\n",
              "      <td>35.0</td>\n",
              "      <td>0</td>\n",
              "      <td>0</td>\n",
              "      <td>373450</td>\n",
              "      <td>8.0500</td>\n",
              "      <td>NaN</td>\n",
              "      <td>S</td>\n",
              "    </tr>\n",
              "  </tbody>\n",
              "</table>\n",
              "</div>\n",
              "      <button class=\"colab-df-convert\" onclick=\"convertToInteractive('df-311c4a4d-127c-44a6-80cf-96322619a440')\"\n",
              "              title=\"Convert this dataframe to an interactive table.\"\n",
              "              style=\"display:none;\">\n",
              "        \n",
              "  <svg xmlns=\"http://www.w3.org/2000/svg\" height=\"24px\"viewBox=\"0 0 24 24\"\n",
              "       width=\"24px\">\n",
              "    <path d=\"M0 0h24v24H0V0z\" fill=\"none\"/>\n",
              "    <path d=\"M18.56 5.44l.94 2.06.94-2.06 2.06-.94-2.06-.94-.94-2.06-.94 2.06-2.06.94zm-11 1L8.5 8.5l.94-2.06 2.06-.94-2.06-.94L8.5 2.5l-.94 2.06-2.06.94zm10 10l.94 2.06.94-2.06 2.06-.94-2.06-.94-.94-2.06-.94 2.06-2.06.94z\"/><path d=\"M17.41 7.96l-1.37-1.37c-.4-.4-.92-.59-1.43-.59-.52 0-1.04.2-1.43.59L10.3 9.45l-7.72 7.72c-.78.78-.78 2.05 0 2.83L4 21.41c.39.39.9.59 1.41.59.51 0 1.02-.2 1.41-.59l7.78-7.78 2.81-2.81c.8-.78.8-2.07 0-2.86zM5.41 20L4 18.59l7.72-7.72 1.47 1.35L5.41 20z\"/>\n",
              "  </svg>\n",
              "      </button>\n",
              "      \n",
              "  <style>\n",
              "    .colab-df-container {\n",
              "      display:flex;\n",
              "      flex-wrap:wrap;\n",
              "      gap: 12px;\n",
              "    }\n",
              "\n",
              "    .colab-df-convert {\n",
              "      background-color: #E8F0FE;\n",
              "      border: none;\n",
              "      border-radius: 50%;\n",
              "      cursor: pointer;\n",
              "      display: none;\n",
              "      fill: #1967D2;\n",
              "      height: 32px;\n",
              "      padding: 0 0 0 0;\n",
              "      width: 32px;\n",
              "    }\n",
              "\n",
              "    .colab-df-convert:hover {\n",
              "      background-color: #E2EBFA;\n",
              "      box-shadow: 0px 1px 2px rgba(60, 64, 67, 0.3), 0px 1px 3px 1px rgba(60, 64, 67, 0.15);\n",
              "      fill: #174EA6;\n",
              "    }\n",
              "\n",
              "    [theme=dark] .colab-df-convert {\n",
              "      background-color: #3B4455;\n",
              "      fill: #D2E3FC;\n",
              "    }\n",
              "\n",
              "    [theme=dark] .colab-df-convert:hover {\n",
              "      background-color: #434B5C;\n",
              "      box-shadow: 0px 1px 3px 1px rgba(0, 0, 0, 0.15);\n",
              "      filter: drop-shadow(0px 1px 2px rgba(0, 0, 0, 0.3));\n",
              "      fill: #FFFFFF;\n",
              "    }\n",
              "  </style>\n",
              "\n",
              "      <script>\n",
              "        const buttonEl =\n",
              "          document.querySelector('#df-311c4a4d-127c-44a6-80cf-96322619a440 button.colab-df-convert');\n",
              "        buttonEl.style.display =\n",
              "          google.colab.kernel.accessAllowed ? 'block' : 'none';\n",
              "\n",
              "        async function convertToInteractive(key) {\n",
              "          const element = document.querySelector('#df-311c4a4d-127c-44a6-80cf-96322619a440');\n",
              "          const dataTable =\n",
              "            await google.colab.kernel.invokeFunction('convertToInteractive',\n",
              "                                                     [key], {});\n",
              "          if (!dataTable) return;\n",
              "\n",
              "          const docLinkHtml = 'Like what you see? Visit the ' +\n",
              "            '<a target=\"_blank\" href=https://colab.research.google.com/notebooks/data_table.ipynb>data table notebook</a>'\n",
              "            + ' to learn more about interactive tables.';\n",
              "          element.innerHTML = '';\n",
              "          dataTable['output_type'] = 'display_data';\n",
              "          await google.colab.output.renderOutput(dataTable, element);\n",
              "          const docLink = document.createElement('div');\n",
              "          docLink.innerHTML = docLinkHtml;\n",
              "          element.appendChild(docLink);\n",
              "        }\n",
              "      </script>\n",
              "    </div>\n",
              "  </div>\n",
              "  "
            ],
            "text/plain": [
              "   PassengerId  Survived  Pclass  ...     Fare  Cabin  Embarked\n",
              "0            1         0       3  ...   7.2500    NaN         S\n",
              "1            2         1       1  ...  71.2833    C85         C\n",
              "2            3         1       3  ...   7.9250    NaN         S\n",
              "3            4         1       1  ...  53.1000   C123         S\n",
              "4            5         0       3  ...   8.0500    NaN         S\n",
              "\n",
              "[5 rows x 12 columns]"
            ]
          },
          "metadata": {},
          "execution_count": 196
        }
      ]
    },
    {
      "cell_type": "code",
      "source": [
        "train_df = train_df.dropna()\n",
        "test_df = test_df.dropna()\n",
        "\n",
        "len(train_df), len(test_df)"
      ],
      "metadata": {
        "id": "cIqXt6T2bGIz",
        "colab": {
          "base_uri": "https://localhost:8080/"
        },
        "outputId": "f0ac26a4-90b7-471e-81c6-d29ae9998f98"
      },
      "execution_count": null,
      "outputs": [
        {
          "output_type": "execute_result",
          "data": {
            "text/plain": [
              "(147, 36)"
            ]
          },
          "metadata": {},
          "execution_count": 197
        }
      ]
    },
    {
      "cell_type": "markdown",
      "source": [
        "Feature Selection"
      ],
      "metadata": {
        "id": "CnL5Fenvb04N"
      }
    },
    {
      "cell_type": "code",
      "source": [
        "features = ['Sex','Age', 'SibSp', 'Parch', 'Fare']\n",
        "target = 'Survived'\n",
        "normalize_list = ['Age', 'Fare']"
      ],
      "metadata": {
        "id": "WSvvF-kbblgn"
      },
      "execution_count": null,
      "outputs": []
    },
    {
      "cell_type": "code",
      "source": [
        "import torch"
      ],
      "metadata": {
        "id": "DgmllVahcnGY"
      },
      "execution_count": null,
      "outputs": []
    },
    {
      "cell_type": "code",
      "source": [
        "def normalize(x):\n",
        "    x = torch.tensor(x)\n",
        "    return (x-x.mean())/x.std()\n",
        "\n",
        "def get_tensors_from_dataframe(df,features, target, normalize_list):\n",
        "    x = []\n",
        "    for feature in features:\n",
        "        feature_values = list(df[feature])\n",
        "        if feature in normalize_list: feature_values = normalize(feature_values)\n",
        "\n",
        "        x.append(torch.tensor(feature_values))\n",
        "    #x is now a list of all features (in tensor form)\n",
        "\n",
        "\n",
        "    y = torch.tensor(df[target].values)\n",
        "    return torch.stack(x).permute(1,0), y\n",
        "\n",
        "\n",
        "x_train, y_train = get_tensors_from_dataframe(train_df,features, target, normalize_list)\n",
        "x_test, y_test = get_tensors_from_dataframe(test_df,features, target, normalize_list)\n",
        "\n",
        "\n",
        "x_train.shape, y_train.shape"
      ],
      "metadata": {
        "id": "nET60TRUcpR3",
        "colab": {
          "base_uri": "https://localhost:8080/"
        },
        "outputId": "70ca60b7-ee2b-4ea1-fed8-257eec40f87d"
      },
      "execution_count": null,
      "outputs": [
        {
          "output_type": "stream",
          "name": "stderr",
          "text": [
            "/usr/local/lib/python3.7/dist-packages/ipykernel_launcher.py:11: UserWarning: To copy construct from a tensor, it is recommended to use sourceTensor.clone().detach() or sourceTensor.clone().detach().requires_grad_(True), rather than torch.tensor(sourceTensor).\n",
            "  # This is added back by InteractiveShellApp.init_path()\n"
          ]
        },
        {
          "output_type": "execute_result",
          "data": {
            "text/plain": [
              "(torch.Size([147, 5]), torch.Size([147]))"
            ]
          },
          "metadata": {},
          "execution_count": 200
        }
      ]
    },
    {
      "cell_type": "code",
      "source": [
        "train_dset = list(zip(x_train,y_train))\n",
        "test_dset =  list(zip(x_test,y_test))"
      ],
      "metadata": {
        "id": "WdV5bdf8eMFd"
      },
      "execution_count": null,
      "outputs": []
    },
    {
      "cell_type": "code",
      "source": [
        "train_dset"
      ],
      "metadata": {
        "id": "QQlGQxaAe_kt",
        "colab": {
          "base_uri": "https://localhost:8080/"
        },
        "outputId": "87722b1d-b0b6-4db7-a3ff-846d7abcd6f8"
      },
      "execution_count": null,
      "outputs": [
        {
          "output_type": "execute_result",
          "data": {
            "text/plain": [
              "[(tensor([ 0.0000,  0.1370,  1.0000,  0.0000, -0.0933]), tensor(1)),\n",
              " (tensor([ 0.0000, -0.0509,  1.0000,  0.0000, -0.3520]), tensor(1)),\n",
              " (tensor([ 1.0000,  1.1389,  0.0000,  0.0000, -0.3696]), tensor(0)),\n",
              " (tensor([ 0.0000, -1.9921,  1.0000,  1.0000, -0.8697]), tensor(1)),\n",
              " (tensor([ 0.0000,  1.3894,  0.0000,  0.0000, -0.7296]), tensor(1)),\n",
              " (tensor([ 1.0000, -0.1135,  0.0000,  0.0000, -0.9224]), tensor(1)),\n",
              " (tensor([ 1.0000, -0.4892,  0.0000,  0.0000, -0.6023]), tensor(1)),\n",
              " (tensor([ 1.0000, -1.0528,  3.0000,  2.0000,  2.6338]), tensor(0)),\n",
              " (tensor([ 0.0000,  0.8258,  1.0000,  0.0000, -0.0158]), tensor(1)),\n",
              " (tensor([ 1.0000,  1.8278,  0.0000,  1.0000, -0.2257]), tensor(0)),\n",
              " (tensor([1.0000, 0.5753, 1.0000, 0.0000, 0.0801]), tensor(0)),\n",
              " (tensor([ 0.0000, -0.4266,  0.0000,  0.0000, -0.9579]), tensor(1)),\n",
              " (tensor([ 1.0000, -0.6771,  0.0000,  0.0000, -0.9985]), tensor(0)),\n",
              " (tensor([ 0.0000, -0.8023,  3.0000,  2.0000,  2.6338]), tensor(1)),\n",
              " (tensor([ 1.0000,  0.6380,  1.0000,  0.0000, -0.2371]), tensor(0)),\n",
              " (tensor([ 1.0000,  2.2035,  0.0000,  0.0000, -0.6143]), tensor(0)),\n",
              " (tensor([ 1.0000, -0.8023,  0.0000,  1.0000, -0.2060]), tensor(1)),\n",
              " (tensor([ 1.0000, -0.9276,  0.0000,  1.0000, -0.0079]), tensor(0)),\n",
              " (tensor([ 1.0000,  0.7006,  0.0000,  0.0000, -0.3676]), tensor(0)),\n",
              " (tensor([ 1.0000, -0.7397,  0.0000,  1.0000,  2.4136]), tensor(0)),\n",
              " (tensor([ 0.0000, -0.2074,  0.0000,  0.0000, -0.9224]), tensor(1)),\n",
              " (tensor([ 1.0000,  1.1389,  0.0000,  1.0000, -0.0079]), tensor(0)),\n",
              " (tensor([ 0.0000, -1.0528,  0.0000,  2.0000, -0.7334]), tensor(1)),\n",
              " (tensor([ 1.0000,  0.0744,  1.0000,  0.0000, -0.3520]), tensor(0)),\n",
              " (tensor([ 1.0000, -0.7397,  0.0000,  0.0000,  0.0193]), tensor(0)),\n",
              " (tensor([ 1.0000,  0.0431,  0.0000,  2.0000, -0.7375]), tensor(0)),\n",
              " (tensor([ 0.0000, -0.8650,  1.0000,  0.0000, -0.1599]), tensor(1)),\n",
              " (tensor([ 1.0000,  1.5773,  0.0000,  0.0000, -0.6308]), tensor(0)),\n",
              " (tensor([ 1.0000,  1.2642,  0.0000,  0.0000, -0.6707]), tensor(0)),\n",
              " (tensor([ 0.0000,  0.8884,  0.0000,  0.0000, -0.6989]), tensor(0)),\n",
              " (tensor([ 1.0000, -2.1800,  2.0000,  1.0000, -0.5525]), tensor(1)),\n",
              " (tensor([ 1.0000, -2.0548,  1.0000,  1.0000, -0.7375]), tensor(1)),\n",
              " (tensor([ 0.0000,  0.5127,  0.0000,  0.0000, -0.7130]), tensor(1)),\n",
              " (tensor([0.0000, 1.3894, 0.0000, 0.0000, 0.9769]), tensor(1)),\n",
              " (tensor([ 0.0000, -2.1174,  0.0000,  1.0000, -0.9585]), tensor(0)),\n",
              " (tensor([ 1.0000,  0.2622,  0.0000,  0.0000, -0.6663]), tensor(1)),\n",
              " (tensor([ 0.0000, -0.3014,  1.0000,  0.0000,  0.5040]), tensor(1)),\n",
              " (tensor([ 0.0000, -0.2387,  0.0000,  0.0000, -0.0221]), tensor(1)),\n",
              " (tensor([1.0000, 0.1370, 1.0000, 0.0000, 0.1729]), tensor(1)),\n",
              " (tensor([ 0.0000, -0.0509,  1.0000,  0.0000,  0.0801]), tensor(1)),\n",
              " (tensor([1.0000, 0.5127, 2.0000, 0.0000, 0.1729]), tensor(0)),\n",
              " (tensor([ 1.0000,  0.0744,  1.0000,  1.0000, -0.3597]), tensor(1)),\n",
              " (tensor([ 0.0000, -0.4266,  1.0000,  1.0000, -0.9585]), tensor(0)),\n",
              " (tensor([ 1.0000,  1.6399,  0.0000,  0.0000, -0.7296]), tensor(0)),\n",
              " (tensor([ 0.0000, -0.3640,  0.0000,  0.0000,  0.1231]), tensor(1)),\n",
              " (tensor([1.0000, 1.0137, 1.0000, 1.0000, 0.0257]), tensor(0)),\n",
              " (tensor([ 1.0000,  0.2622,  0.0000,  0.0000, -1.1073]), tensor(0)),\n",
              " (tensor([0.0000, 1.3894, 0.0000, 1.0000, 1.0757]), tensor(1)),\n",
              " (tensor([ 0.0000, -0.0509,  0.0000,  0.0000,  0.8221]), tensor(1)),\n",
              " (tensor([ 1.0000,  0.0744,  0.0000,  1.0000, -0.6848]), tensor(0)),\n",
              " (tensor([0.0000e+00, 1.7025e+00, 1.0000e+00, 0.0000e+00, 1.6418e-03]),\n",
              "  tensor(1)),\n",
              " (tensor([ 0.0000, -1.0528,  1.0000,  0.0000,  0.1883]), tensor(1)),\n",
              " (tensor([ 1.0000,  0.0117,  0.0000,  0.0000, -0.9242]), tensor(0)),\n",
              " (tensor([ 0.0000, -2.1174,  1.0000,  2.0000,  1.0485]), tensor(0)),\n",
              " (tensor([0.0000, 0.8884, 0.0000, 1.0000, 2.4136]), tensor(1)),\n",
              " (tensor([ 1.0000, -2.1850,  1.0000,  2.0000,  1.0485]), tensor(1)),\n",
              " (tensor([ 0.0000, -1.1781,  1.0000,  0.0000,  0.4418]), tensor(1)),\n",
              " (tensor([ 0.0000, -0.3640,  0.0000,  0.0000, -0.2975]), tensor(1)),\n",
              " (tensor([ 0.0000, -0.7397,  0.0000,  0.0000,  0.0756]), tensor(1)),\n",
              " (tensor([ 0.0000, -1.1154,  2.0000,  2.0000,  2.6249]), tensor(1)),\n",
              " (tensor([ 0.0000, -0.3014,  0.0000,  2.0000,  1.2379]), tensor(1)),\n",
              " (tensor([0.0000, 0.2622, 1.0000, 1.0000, 0.8059]), tensor(1)),\n",
              " (tensor([0.0000, 0.0117, 0.0000, 0.0000, 0.8221]), tensor(1)),\n",
              " (tensor([ 0.0000,  0.0117,  0.0000,  0.0000, -0.9224]), tensor(1)),\n",
              " (tensor([ 0.0000, -1.2407,  0.0000,  1.0000, -0.2826]), tensor(1)),\n",
              " (tensor([ 1.0000,  0.6067,  0.0000,  0.0000, -0.7019]), tensor(0)),\n",
              " (tensor([1.0000, 0.1370, 0.0000, 1.0000, 1.0757]), tensor(0)),\n",
              " (tensor([ 1.0000, -0.4266,  1.0000,  0.0000, -0.1599]), tensor(0)),\n",
              " (tensor([0.0000, 0.3249, 0.0000, 0.0000, 0.8059]), tensor(1)),\n",
              " (tensor([ 1.0000,  0.5753,  0.0000,  0.0000, -0.6023]), tensor(0)),\n",
              " (tensor([ 1.0000, -2.1174,  1.0000,  1.0000, -0.7375]), tensor(1)),\n",
              " (tensor([ 0.0000, -0.7397,  3.0000,  2.0000,  2.6338]), tensor(1)),\n",
              " (tensor([ 0.0000, -0.7397,  0.0000,  0.0000, -0.9224]), tensor(1)),\n",
              " (tensor([ 0.0000, -0.8650,  0.0000,  1.0000, -0.3249]), tensor(1)),\n",
              " (tensor([ 0.0000,  1.5147,  1.0000,  0.0000, -0.0369]), tensor(1)),\n",
              " (tensor([ 0.0000, -0.7397,  0.0000,  0.0000, -0.1215]), tensor(1)),\n",
              " (tensor([ 1.0000, -0.6771,  1.0000,  0.0000, -0.3187]), tensor(1)),\n",
              " (tensor([ 1.0000, -0.5518,  0.0000,  2.0000,  1.9012]), tensor(0)),\n",
              " (tensor([1.0000, 0.0117, 1.0000, 2.0000, 0.5997]), tensor(1)),\n",
              " (tensor([ 0.0000, -0.8023,  1.0000,  0.0000,  0.5040]), tensor(1)),\n",
              " (tensor([ 0.0000, -0.7397,  0.0000,  2.0000, -0.8697]), tensor(1)),\n",
              " (tensor([ 0.0000, -0.1761,  1.0000,  0.0000,  0.1729]), tensor(1)),\n",
              " (tensor([ 1.0000, -0.2387,  0.0000,  0.0000, -0.9928]), tensor(1)),\n",
              " (tensor([ 1.0000, -0.4892,  0.0000,  0.0000, -0.7296]), tensor(1)),\n",
              " (tensor([ 1.0000,  0.8884,  1.0000,  0.0000, -0.3121]), tensor(0)),\n",
              " (tensor([ 0.0000, -1.3659,  1.0000,  2.0000,  0.5997]), tensor(1)),\n",
              " (tensor([1.0000, 1.7651, 1.0000, 4.0000, 2.6338]), tensor(0)),\n",
              " (tensor([ 1.0000, -1.9921,  0.0000,  2.0000,  0.0571]), tensor(1)),\n",
              " (tensor([ 1.0000,  1.0137,  0.0000,  0.0000, -0.6734]), tensor(1)),\n",
              " (tensor([ 1.0000, -0.3640,  0.0000,  0.0000, -0.7126]), tensor(0)),\n",
              " (tensor([1.0000, 0.8258, 1.0000, 0.0000, 0.1602]), tensor(1)),\n",
              " (tensor([ 1.0000,  1.8278,  0.0000,  0.0000, -0.7296]), tensor(0)),\n",
              " (tensor([ 1.0000,  0.7632,  0.0000,  0.0000, -0.7296]), tensor(1)),\n",
              " (tensor([ 1.0000,  0.7006,  0.0000,  0.0000, -0.5596]), tensor(0)),\n",
              " (tensor([ 0.0000, -0.8023,  0.0000,  0.0000, -0.9111]), tensor(1)),\n",
              " (tensor([ 1.0000, -0.6771,  1.0000,  0.0000,  0.1883]), tensor(1)),\n",
              " (tensor([ 0.0000, -0.0509,  1.0000,  0.0000,  0.1729]), tensor(1)),\n",
              " (tensor([ 1.0000,  1.3894,  0.0000,  0.0000, -0.6848]), tensor(0)),\n",
              " (tensor([ 1.0000,  1.2016,  0.0000,  0.0000, -0.6734]), tensor(0)),\n",
              " (tensor([0.0000, 1.1389, 1.0000, 0.0000, 0.0060]), tensor(1)),\n",
              " (tensor([ 0.0000, -0.6771,  1.0000,  2.0000,  1.0485]), tensor(0)),\n",
              " (tensor([ 0.0000, -1.2407,  0.0000,  0.0000,  0.1231]), tensor(1)),\n",
              " (tensor([ 1.0000, -1.1154,  1.0000,  0.0000,  0.4418]), tensor(0)),\n",
              " (tensor([ 1.0000,  0.0117,  0.0000,  0.0000, -0.7334]), tensor(1)),\n",
              " (tensor([ 1.0000,  0.7006,  0.0000,  0.0000, -0.6234]), tensor(0)),\n",
              " (tensor([ 0.0000, -0.1135,  0.0000,  0.0000, -0.9579]), tensor(1)),\n",
              " (tensor([ 0.0000, -0.3640,  0.0000,  0.0000,  0.2227]), tensor(1)),\n",
              " (tensor([ 0.0000,  0.5127,  0.0000,  1.0000, -0.2826]), tensor(1)),\n",
              " (tensor([ 1.0000,  0.5753,  0.0000,  0.0000, -0.7296]), tensor(0)),\n",
              " (tensor([ 0.0000, -0.8650,  0.0000,  2.0000, -0.4032]), tensor(1)),\n",
              " (tensor([ 0.0000,  0.0117,  0.0000,  2.0000, -0.0973]), tensor(1)),\n",
              " (tensor([1.0000, 0.8884, 1.0000, 0.0000, 0.4066]), tensor(0)),\n",
              " (tensor([ 1.0000, -1.1781,  0.0000,  2.0000,  0.4700]), tensor(1)),\n",
              " (tensor([ 0.0000,  0.7632,  1.0000,  0.0000, -0.5440]), tensor(1)),\n",
              " (tensor([0.0000, 0.1996, 1.0000, 1.0000, 0.0257]), tensor(1)),\n",
              " (tensor([ 0.0000,  1.0763,  2.0000,  0.0000, -0.3750]), tensor(1)),\n",
              " (tensor([ 1.0000,  0.0117,  0.0000,  0.0000, -0.7319]), tensor(1)),\n",
              " (tensor([ 0.0000,  0.1996,  1.0000,  0.0000, -0.3121]), tensor(1)),\n",
              " (tensor([0.0000, 0.1996, 1.0000, 1.0000, 0.4700]), tensor(1)),\n",
              " (tensor([ 1.0000,  0.0117,  0.0000,  0.0000, -0.5365]), tensor(0)),\n",
              " (tensor([ 0.0000, -1.1154,  0.0000,  2.0000,  0.0257]), tensor(1)),\n",
              " (tensor([1.0000, 1.5147, 1.0000, 1.0000, 0.0193]), tensor(1)),\n",
              " (tensor([0.0000, 1.0137, 1.0000, 0.0000, 0.0060]), tensor(1)),\n",
              " (tensor([ 1.0000,  0.8258,  1.0000,  0.0000, -0.2975]), tensor(1)),\n",
              " (tensor([0.0000, 0.2622, 0.0000, 0.0000, 1.0757]), tensor(1)),\n",
              " (tensor([ 0.0000, -1.9921,  2.0000,  1.0000, -0.5525]), tensor(1)),\n",
              " (tensor([ 1.0000,  0.3875,  1.0000,  0.0000, -0.3597]), tensor(1)),\n",
              " (tensor([ 1.0000,  1.5773,  0.0000,  0.0000, -0.6475]), tensor(0)),\n",
              " (tensor([ 0.0000, -0.9276,  0.0000,  0.0000,  0.0016]), tensor(1)),\n",
              " (tensor([ 1.0000,  2.7671,  0.0000,  0.0000, -0.6806]), tensor(1)),\n",
              " (tensor([ 1.0000, -0.2387,  0.0000,  0.0000, -0.6734]), tensor(1)),\n",
              " (tensor([ 0.0000, -0.7397,  0.0000,  0.0000, -0.1215]), tensor(1)),\n",
              " (tensor([ 1.0000,  0.7632,  1.0000,  0.0000, -0.0158]), tensor(1)),\n",
              " (tensor([ 1.0000,  1.2642,  0.0000,  0.0000, -0.6023]), tensor(1)),\n",
              " (tensor([1.0000, 1.3894, 0.0000, 2.0000, 0.5040]), tensor(0)),\n",
              " (tensor([ 1.0000,  0.7006,  0.0000,  0.0000, -0.7433]), tensor(0)),\n",
              " (tensor([ 1.0000, -0.3014,  1.0000,  0.0000, -0.3676]), tensor(0)),\n",
              " (tensor([1.0000, 0.0117, 0.0000, 1.0000, 6.1804]), tensor(1)),\n",
              " (tensor([ 1.0000, -0.5518,  0.0000,  0.0000, -0.0158]), tensor(1)),\n",
              " (tensor([ 0.0000, -1.3033,  0.0000,  1.0000,  1.8989]), tensor(1)),\n",
              " (tensor([ 1.0000, -0.3014,  1.0000,  0.0000, -0.2965]), tensor(1)),\n",
              " (tensor([1.0000, 0.8258, 1.0000, 1.0000, 0.4700]), tensor(0)),\n",
              " (tensor([ 1.0000,  0.3875,  0.0000,  0.0000, -0.9985]), tensor(0)),\n",
              " (tensor([ 0.0000, -1.1154,  1.0000,  0.0000,  2.1292]), tensor(1)),\n",
              " (tensor([ 1.0000, -0.0509,  0.0000,  0.0000, -0.7334]), tensor(1)),\n",
              " (tensor([ 1.0000,  0.3875,  0.0000,  0.0000, -0.7334]), tensor(1)),\n",
              " (tensor([ 0.0000, -0.7397,  0.0000,  0.0000, -0.4031]), tensor(1))]"
            ]
          },
          "metadata": {},
          "execution_count": 202
        }
      ]
    },
    {
      "cell_type": "markdown",
      "source": [
        "DataLoader"
      ],
      "metadata": {
        "id": "nknVbBPgfWIg"
      }
    },
    {
      "cell_type": "code",
      "source": [
        "from torch.utils.data import DataLoader\n",
        "\n",
        "train_dl = DataLoader(train_dset, batch_size = 16)\n",
        "test_dl = DataLoader(test_dset, batch_size = 16)"
      ],
      "metadata": {
        "id": "jAX0AzK6fA9S"
      },
      "execution_count": null,
      "outputs": []
    },
    {
      "cell_type": "code",
      "source": [
        "for x,y in train_dl: print(x.shape,y.shape)"
      ],
      "metadata": {
        "id": "JQgP98wbhGWp",
        "colab": {
          "base_uri": "https://localhost:8080/"
        },
        "outputId": "e062c239-98cc-4db8-aa0e-5288d14e2ccb"
      },
      "execution_count": null,
      "outputs": [
        {
          "output_type": "stream",
          "name": "stdout",
          "text": [
            "torch.Size([16, 5]) torch.Size([16])\n",
            "torch.Size([16, 5]) torch.Size([16])\n",
            "torch.Size([16, 5]) torch.Size([16])\n",
            "torch.Size([16, 5]) torch.Size([16])\n",
            "torch.Size([16, 5]) torch.Size([16])\n",
            "torch.Size([16, 5]) torch.Size([16])\n",
            "torch.Size([16, 5]) torch.Size([16])\n",
            "torch.Size([16, 5]) torch.Size([16])\n",
            "torch.Size([16, 5]) torch.Size([16])\n",
            "torch.Size([3, 5]) torch.Size([3])\n"
          ]
        }
      ]
    },
    {
      "cell_type": "code",
      "source": [
        "# ??DataLoader"
      ],
      "metadata": {
        "id": "i7TYpDpLgMMr"
      },
      "execution_count": null,
      "outputs": []
    },
    {
      "cell_type": "code",
      "source": [
        "# def train_one_iteration(params,lr=1e-4):\n",
        "#     #step 1: calculate predictions\n",
        "#     preds = model(x_tensor,params)\n",
        "#     # calculate loss between preds and actual y's\n",
        "#     loss= loss_LinearRegression(preds,y_tensor)\n",
        "#     #calculate gradients\n",
        "#     loss.backward()\n",
        "#     #update variables through the gradient descent equation\n",
        "#     print(params.grad.data, params.data)\n",
        "#     params.data-=lr*params.grad.data\n",
        "#     params.grad=None\n",
        "def logistic_regression_model(x):\n",
        "    return torch.sigmoid(x@weights + bias) # f(x) = 1/(1+e^-x) \n",
        "\n",
        "def calc_grad(x,y,model):\n",
        "    pred = model(x)\n",
        "    loss = loss_fn(pred,y)\n",
        "    loss.backward()\n",
        "\n",
        "def train_epoch(model,lr,params):\n",
        "    for x,y in train_dl:\n",
        "        calc_grad(x,y,model)\n",
        "        for p in params:\n",
        "            p.data-=lr*p.grad\n",
        "            p.grad.zero_()\n",
        "\n",
        "def accuracy(pred,y): #metric\n",
        "    return ((pred>0.5)==y).float().mean()\n",
        "\n",
        "def validate_epoch(model):\n",
        "    accuracy_ = [accuracy(model(x),y) for x,y in test_dl]\n",
        "    return torch.stack(accuracy_).float().mean()\n"
      ],
      "metadata": {
        "id": "EhSAdsOagQJf"
      },
      "execution_count": null,
      "outputs": []
    },
    {
      "cell_type": "code",
      "source": [
        "# x = 1,5\n",
        "# w = 1,5\n",
        "\n",
        "\n",
        "# x.w = 1,5\n",
        "# x.wT = 1,5 x 5,1 = 1,1\n",
        "# x1w1 + x2w2 + x3"
      ],
      "metadata": {
        "id": "GOMm2iVSiZiW"
      },
      "execution_count": null,
      "outputs": []
    },
    {
      "cell_type": "markdown",
      "source": [
        "y = w1x1 + w2x2 + w3x3 + w4x4+ w5x5 + b"
      ],
      "metadata": {
        "id": "uEOrF2Gvlt6M"
      }
    },
    {
      "cell_type": "code",
      "source": [
        "def init_params(size): return torch.randn(size).requires_grad_()\n",
        "\n",
        "weights = init_params(5)\n",
        "bias = init_params(1)\n",
        "\n",
        "params = (weights,bias)\n",
        "params"
      ],
      "metadata": {
        "colab": {
          "base_uri": "https://localhost:8080/"
        },
        "id": "2Uep3WmqlnPD",
        "outputId": "e48b23f9-3c85-497f-fe70-74efb77e7f9e"
      },
      "execution_count": null,
      "outputs": [
        {
          "output_type": "execute_result",
          "data": {
            "text/plain": [
              "(tensor([ 0.8598, -2.2614,  2.0812, -2.1377, -1.7168], requires_grad=True),\n",
              " tensor([-0.0191], requires_grad=True))"
            ]
          },
          "metadata": {},
          "execution_count": 223
        }
      ]
    },
    {
      "cell_type": "markdown",
      "source": [
        "Loss Function"
      ],
      "metadata": {
        "id": "iQ-J-rCpmiiT"
      }
    },
    {
      "cell_type": "code",
      "source": [
        "def binary_classification_loss(y_pred,target):\n",
        "    assert len(y_pred) == len(target)\n",
        "    #whenever target = 1, loss = 1-y_pred, \n",
        "    #whenever target = 0, loss = y_pred\n",
        "    return torch.where(target==1, 1-y_pred, y_pred).mean()\n",
        "\n",
        "\n",
        "\n",
        "x,y = next(iter(train_dl))\n",
        "pred= logistic_regression_model(x)\n",
        "binary_classification_loss(pred,y)"
      ],
      "metadata": {
        "colab": {
          "base_uri": "https://localhost:8080/"
        },
        "id": "Z4io6iL_mAZV",
        "outputId": "c5165161-098c-4288-9d13-159832045150"
      },
      "execution_count": null,
      "outputs": [
        {
          "output_type": "execute_result",
          "data": {
            "text/plain": [
              "tensor(0.4325, grad_fn=<MeanBackward0>)"
            ]
          },
          "metadata": {},
          "execution_count": 219
        }
      ]
    },
    {
      "cell_type": "code",
      "source": [
        "loss_fn = binary_classification_loss\n",
        "\n",
        "\n",
        "#overshooting the minima\n",
        "for _ in range(1000):\n",
        "    train_epoch(logistic_regression_model, 1e-1, params)\n",
        "    print('validation accuracy:', validate_epoch(logistic_regression_model))"
      ],
      "metadata": {
        "colab": {
          "base_uri": "https://localhost:8080/"
        },
        "id": "zDkf2dn2nOBl",
        "outputId": "5e1e1ad3-9568-4d89-af78-494912d1c4ac"
      },
      "execution_count": null,
      "outputs": [
        {
          "output_type": "stream",
          "name": "stdout",
          "text": [
            "validation loss: tensor(0.5833)\n",
            "validation loss: tensor(0.5833)\n",
            "validation loss: tensor(0.5833)\n",
            "validation loss: tensor(0.5833)\n",
            "validation loss: tensor(0.5833)\n",
            "validation loss: tensor(0.5833)\n",
            "validation loss: tensor(0.5833)\n",
            "validation loss: tensor(0.5833)\n",
            "validation loss: tensor(0.5833)\n",
            "validation loss: tensor(0.5833)\n",
            "validation loss: tensor(0.5833)\n",
            "validation loss: tensor(0.5833)\n",
            "validation loss: tensor(0.5833)\n",
            "validation loss: tensor(0.5833)\n",
            "validation loss: tensor(0.5833)\n",
            "validation loss: tensor(0.5833)\n",
            "validation loss: tensor(0.5833)\n",
            "validation loss: tensor(0.5833)\n",
            "validation loss: tensor(0.5833)\n",
            "validation loss: tensor(0.5833)\n",
            "validation loss: tensor(0.5833)\n",
            "validation loss: tensor(0.5833)\n",
            "validation loss: tensor(0.5833)\n",
            "validation loss: tensor(0.5833)\n",
            "validation loss: tensor(0.5833)\n",
            "validation loss: tensor(0.5833)\n",
            "validation loss: tensor(0.5833)\n",
            "validation loss: tensor(0.5833)\n",
            "validation loss: tensor(0.5833)\n",
            "validation loss: tensor(0.5833)\n",
            "validation loss: tensor(0.5833)\n",
            "validation loss: tensor(0.5833)\n",
            "validation loss: tensor(0.5833)\n",
            "validation loss: tensor(0.5833)\n",
            "validation loss: tensor(0.5833)\n",
            "validation loss: tensor(0.5833)\n",
            "validation loss: tensor(0.5833)\n",
            "validation loss: tensor(0.5833)\n",
            "validation loss: tensor(0.5833)\n",
            "validation loss: tensor(0.5833)\n",
            "validation loss: tensor(0.5833)\n",
            "validation loss: tensor(0.5833)\n",
            "validation loss: tensor(0.5833)\n",
            "validation loss: tensor(0.6042)\n",
            "validation loss: tensor(0.6042)\n",
            "validation loss: tensor(0.6042)\n",
            "validation loss: tensor(0.6042)\n",
            "validation loss: tensor(0.6042)\n",
            "validation loss: tensor(0.6250)\n",
            "validation loss: tensor(0.6250)\n",
            "validation loss: tensor(0.6250)\n",
            "validation loss: tensor(0.6250)\n",
            "validation loss: tensor(0.6250)\n",
            "validation loss: tensor(0.6250)\n",
            "validation loss: tensor(0.6250)\n",
            "validation loss: tensor(0.6250)\n",
            "validation loss: tensor(0.6250)\n",
            "validation loss: tensor(0.6250)\n",
            "validation loss: tensor(0.6250)\n",
            "validation loss: tensor(0.6250)\n",
            "validation loss: tensor(0.6250)\n",
            "validation loss: tensor(0.6250)\n",
            "validation loss: tensor(0.6250)\n",
            "validation loss: tensor(0.6250)\n",
            "validation loss: tensor(0.6250)\n",
            "validation loss: tensor(0.6250)\n",
            "validation loss: tensor(0.6250)\n",
            "validation loss: tensor(0.6250)\n",
            "validation loss: tensor(0.6250)\n",
            "validation loss: tensor(0.6250)\n",
            "validation loss: tensor(0.6250)\n",
            "validation loss: tensor(0.6250)\n",
            "validation loss: tensor(0.6250)\n",
            "validation loss: tensor(0.6250)\n",
            "validation loss: tensor(0.6250)\n",
            "validation loss: tensor(0.6250)\n",
            "validation loss: tensor(0.6250)\n",
            "validation loss: tensor(0.6250)\n",
            "validation loss: tensor(0.6250)\n",
            "validation loss: tensor(0.6250)\n",
            "validation loss: tensor(0.6458)\n",
            "validation loss: tensor(0.6458)\n",
            "validation loss: tensor(0.6458)\n",
            "validation loss: tensor(0.6458)\n",
            "validation loss: tensor(0.6458)\n",
            "validation loss: tensor(0.6458)\n",
            "validation loss: tensor(0.6458)\n",
            "validation loss: tensor(0.6458)\n",
            "validation loss: tensor(0.6458)\n",
            "validation loss: tensor(0.6458)\n",
            "validation loss: tensor(0.6458)\n",
            "validation loss: tensor(0.6458)\n",
            "validation loss: tensor(0.6458)\n",
            "validation loss: tensor(0.6458)\n",
            "validation loss: tensor(0.6458)\n",
            "validation loss: tensor(0.6458)\n",
            "validation loss: tensor(0.6458)\n",
            "validation loss: tensor(0.6458)\n",
            "validation loss: tensor(0.6458)\n",
            "validation loss: tensor(0.6458)\n",
            "validation loss: tensor(0.6458)\n",
            "validation loss: tensor(0.6458)\n",
            "validation loss: tensor(0.6458)\n",
            "validation loss: tensor(0.6458)\n",
            "validation loss: tensor(0.6458)\n",
            "validation loss: tensor(0.6458)\n",
            "validation loss: tensor(0.6458)\n",
            "validation loss: tensor(0.6458)\n",
            "validation loss: tensor(0.6458)\n",
            "validation loss: tensor(0.6458)\n",
            "validation loss: tensor(0.6458)\n",
            "validation loss: tensor(0.6458)\n",
            "validation loss: tensor(0.6458)\n",
            "validation loss: tensor(0.6458)\n",
            "validation loss: tensor(0.6458)\n",
            "validation loss: tensor(0.6458)\n",
            "validation loss: tensor(0.6458)\n",
            "validation loss: tensor(0.6458)\n",
            "validation loss: tensor(0.6458)\n",
            "validation loss: tensor(0.6458)\n",
            "validation loss: tensor(0.6458)\n",
            "validation loss: tensor(0.6458)\n",
            "validation loss: tensor(0.6458)\n",
            "validation loss: tensor(0.6458)\n",
            "validation loss: tensor(0.6458)\n",
            "validation loss: tensor(0.6458)\n",
            "validation loss: tensor(0.6458)\n",
            "validation loss: tensor(0.6458)\n",
            "validation loss: tensor(0.6458)\n",
            "validation loss: tensor(0.6458)\n",
            "validation loss: tensor(0.6458)\n",
            "validation loss: tensor(0.6458)\n",
            "validation loss: tensor(0.6458)\n",
            "validation loss: tensor(0.6458)\n",
            "validation loss: tensor(0.6458)\n",
            "validation loss: tensor(0.6458)\n",
            "validation loss: tensor(0.6458)\n",
            "validation loss: tensor(0.6458)\n",
            "validation loss: tensor(0.6458)\n",
            "validation loss: tensor(0.6458)\n",
            "validation loss: tensor(0.6458)\n",
            "validation loss: tensor(0.6458)\n",
            "validation loss: tensor(0.6458)\n",
            "validation loss: tensor(0.6458)\n",
            "validation loss: tensor(0.6458)\n",
            "validation loss: tensor(0.6458)\n",
            "validation loss: tensor(0.6458)\n",
            "validation loss: tensor(0.6458)\n",
            "validation loss: tensor(0.6458)\n",
            "validation loss: tensor(0.6458)\n",
            "validation loss: tensor(0.6458)\n",
            "validation loss: tensor(0.6458)\n",
            "validation loss: tensor(0.6458)\n",
            "validation loss: tensor(0.6458)\n",
            "validation loss: tensor(0.6458)\n",
            "validation loss: tensor(0.6458)\n",
            "validation loss: tensor(0.6458)\n",
            "validation loss: tensor(0.6458)\n",
            "validation loss: tensor(0.6458)\n",
            "validation loss: tensor(0.6458)\n",
            "validation loss: tensor(0.6458)\n",
            "validation loss: tensor(0.6458)\n",
            "validation loss: tensor(0.6458)\n",
            "validation loss: tensor(0.6458)\n",
            "validation loss: tensor(0.6458)\n",
            "validation loss: tensor(0.6458)\n",
            "validation loss: tensor(0.6458)\n",
            "validation loss: tensor(0.6458)\n",
            "validation loss: tensor(0.6458)\n",
            "validation loss: tensor(0.6458)\n",
            "validation loss: tensor(0.6458)\n",
            "validation loss: tensor(0.6458)\n",
            "validation loss: tensor(0.6458)\n",
            "validation loss: tensor(0.6458)\n",
            "validation loss: tensor(0.6458)\n",
            "validation loss: tensor(0.6458)\n",
            "validation loss: tensor(0.6458)\n",
            "validation loss: tensor(0.6458)\n",
            "validation loss: tensor(0.6458)\n",
            "validation loss: tensor(0.6458)\n",
            "validation loss: tensor(0.6458)\n",
            "validation loss: tensor(0.6458)\n",
            "validation loss: tensor(0.6458)\n",
            "validation loss: tensor(0.6458)\n",
            "validation loss: tensor(0.6458)\n",
            "validation loss: tensor(0.6458)\n",
            "validation loss: tensor(0.6458)\n",
            "validation loss: tensor(0.6458)\n",
            "validation loss: tensor(0.6458)\n",
            "validation loss: tensor(0.6458)\n",
            "validation loss: tensor(0.6458)\n",
            "validation loss: tensor(0.6458)\n",
            "validation loss: tensor(0.6458)\n",
            "validation loss: tensor(0.6458)\n",
            "validation loss: tensor(0.6458)\n",
            "validation loss: tensor(0.6458)\n",
            "validation loss: tensor(0.6458)\n",
            "validation loss: tensor(0.6458)\n",
            "validation loss: tensor(0.6458)\n",
            "validation loss: tensor(0.6458)\n",
            "validation loss: tensor(0.6458)\n",
            "validation loss: tensor(0.6458)\n",
            "validation loss: tensor(0.6458)\n",
            "validation loss: tensor(0.6458)\n",
            "validation loss: tensor(0.6458)\n",
            "validation loss: tensor(0.6458)\n",
            "validation loss: tensor(0.6458)\n",
            "validation loss: tensor(0.6458)\n",
            "validation loss: tensor(0.6458)\n",
            "validation loss: tensor(0.6458)\n",
            "validation loss: tensor(0.6458)\n",
            "validation loss: tensor(0.6458)\n",
            "validation loss: tensor(0.6458)\n",
            "validation loss: tensor(0.6458)\n",
            "validation loss: tensor(0.6458)\n",
            "validation loss: tensor(0.6458)\n",
            "validation loss: tensor(0.6458)\n",
            "validation loss: tensor(0.6458)\n",
            "validation loss: tensor(0.6458)\n",
            "validation loss: tensor(0.6458)\n",
            "validation loss: tensor(0.6458)\n",
            "validation loss: tensor(0.6458)\n",
            "validation loss: tensor(0.6458)\n",
            "validation loss: tensor(0.6458)\n",
            "validation loss: tensor(0.6458)\n",
            "validation loss: tensor(0.6458)\n",
            "validation loss: tensor(0.6458)\n",
            "validation loss: tensor(0.6458)\n",
            "validation loss: tensor(0.6458)\n",
            "validation loss: tensor(0.6458)\n",
            "validation loss: tensor(0.6458)\n",
            "validation loss: tensor(0.6458)\n",
            "validation loss: tensor(0.6458)\n",
            "validation loss: tensor(0.6458)\n",
            "validation loss: tensor(0.6458)\n",
            "validation loss: tensor(0.6458)\n",
            "validation loss: tensor(0.6458)\n",
            "validation loss: tensor(0.6458)\n",
            "validation loss: tensor(0.6458)\n",
            "validation loss: tensor(0.6458)\n",
            "validation loss: tensor(0.6458)\n",
            "validation loss: tensor(0.6458)\n",
            "validation loss: tensor(0.6458)\n",
            "validation loss: tensor(0.6458)\n",
            "validation loss: tensor(0.6458)\n",
            "validation loss: tensor(0.6458)\n",
            "validation loss: tensor(0.6458)\n",
            "validation loss: tensor(0.6458)\n",
            "validation loss: tensor(0.6458)\n",
            "validation loss: tensor(0.6458)\n",
            "validation loss: tensor(0.6458)\n",
            "validation loss: tensor(0.6458)\n",
            "validation loss: tensor(0.6458)\n",
            "validation loss: tensor(0.6458)\n",
            "validation loss: tensor(0.6458)\n",
            "validation loss: tensor(0.6458)\n",
            "validation loss: tensor(0.6458)\n",
            "validation loss: tensor(0.6458)\n",
            "validation loss: tensor(0.6458)\n",
            "validation loss: tensor(0.6458)\n",
            "validation loss: tensor(0.6458)\n",
            "validation loss: tensor(0.6458)\n",
            "validation loss: tensor(0.6458)\n",
            "validation loss: tensor(0.6458)\n",
            "validation loss: tensor(0.6458)\n",
            "validation loss: tensor(0.6458)\n",
            "validation loss: tensor(0.6458)\n",
            "validation loss: tensor(0.6458)\n",
            "validation loss: tensor(0.6458)\n",
            "validation loss: tensor(0.6458)\n",
            "validation loss: tensor(0.6458)\n",
            "validation loss: tensor(0.6458)\n",
            "validation loss: tensor(0.6458)\n",
            "validation loss: tensor(0.6458)\n",
            "validation loss: tensor(0.6458)\n",
            "validation loss: tensor(0.6458)\n",
            "validation loss: tensor(0.6458)\n",
            "validation loss: tensor(0.6458)\n",
            "validation loss: tensor(0.6458)\n",
            "validation loss: tensor(0.6458)\n",
            "validation loss: tensor(0.6458)\n",
            "validation loss: tensor(0.6458)\n",
            "validation loss: tensor(0.6458)\n",
            "validation loss: tensor(0.6458)\n",
            "validation loss: tensor(0.6458)\n",
            "validation loss: tensor(0.6458)\n",
            "validation loss: tensor(0.6458)\n",
            "validation loss: tensor(0.6458)\n",
            "validation loss: tensor(0.6458)\n",
            "validation loss: tensor(0.6458)\n",
            "validation loss: tensor(0.6458)\n",
            "validation loss: tensor(0.6458)\n",
            "validation loss: tensor(0.6458)\n",
            "validation loss: tensor(0.6458)\n",
            "validation loss: tensor(0.6458)\n",
            "validation loss: tensor(0.6458)\n",
            "validation loss: tensor(0.6458)\n",
            "validation loss: tensor(0.6458)\n",
            "validation loss: tensor(0.6458)\n",
            "validation loss: tensor(0.6458)\n",
            "validation loss: tensor(0.6458)\n",
            "validation loss: tensor(0.6458)\n",
            "validation loss: tensor(0.6458)\n",
            "validation loss: tensor(0.6458)\n",
            "validation loss: tensor(0.6458)\n",
            "validation loss: tensor(0.6458)\n",
            "validation loss: tensor(0.6458)\n",
            "validation loss: tensor(0.6458)\n",
            "validation loss: tensor(0.6458)\n",
            "validation loss: tensor(0.6458)\n",
            "validation loss: tensor(0.6458)\n",
            "validation loss: tensor(0.6458)\n",
            "validation loss: tensor(0.6458)\n",
            "validation loss: tensor(0.6458)\n",
            "validation loss: tensor(0.6458)\n",
            "validation loss: tensor(0.6458)\n",
            "validation loss: tensor(0.6458)\n",
            "validation loss: tensor(0.6458)\n",
            "validation loss: tensor(0.6458)\n",
            "validation loss: tensor(0.6458)\n",
            "validation loss: tensor(0.6458)\n",
            "validation loss: tensor(0.6458)\n",
            "validation loss: tensor(0.6458)\n",
            "validation loss: tensor(0.6458)\n",
            "validation loss: tensor(0.6458)\n",
            "validation loss: tensor(0.6458)\n",
            "validation loss: tensor(0.6458)\n",
            "validation loss: tensor(0.6458)\n",
            "validation loss: tensor(0.6458)\n",
            "validation loss: tensor(0.6458)\n",
            "validation loss: tensor(0.6458)\n",
            "validation loss: tensor(0.6458)\n",
            "validation loss: tensor(0.6458)\n",
            "validation loss: tensor(0.6458)\n",
            "validation loss: tensor(0.6458)\n",
            "validation loss: tensor(0.6458)\n",
            "validation loss: tensor(0.6458)\n",
            "validation loss: tensor(0.6458)\n",
            "validation loss: tensor(0.6458)\n",
            "validation loss: tensor(0.6458)\n",
            "validation loss: tensor(0.6458)\n",
            "validation loss: tensor(0.6458)\n",
            "validation loss: tensor(0.6458)\n",
            "validation loss: tensor(0.6458)\n",
            "validation loss: tensor(0.6458)\n",
            "validation loss: tensor(0.6458)\n",
            "validation loss: tensor(0.6458)\n",
            "validation loss: tensor(0.6458)\n",
            "validation loss: tensor(0.6458)\n",
            "validation loss: tensor(0.6458)\n",
            "validation loss: tensor(0.6458)\n",
            "validation loss: tensor(0.6458)\n",
            "validation loss: tensor(0.6458)\n",
            "validation loss: tensor(0.6458)\n",
            "validation loss: tensor(0.6458)\n",
            "validation loss: tensor(0.6458)\n",
            "validation loss: tensor(0.6458)\n",
            "validation loss: tensor(0.6458)\n",
            "validation loss: tensor(0.6458)\n",
            "validation loss: tensor(0.6458)\n",
            "validation loss: tensor(0.6458)\n",
            "validation loss: tensor(0.6458)\n",
            "validation loss: tensor(0.6458)\n",
            "validation loss: tensor(0.6458)\n",
            "validation loss: tensor(0.6458)\n",
            "validation loss: tensor(0.6458)\n",
            "validation loss: tensor(0.6458)\n",
            "validation loss: tensor(0.6458)\n",
            "validation loss: tensor(0.6458)\n",
            "validation loss: tensor(0.6458)\n",
            "validation loss: tensor(0.6458)\n",
            "validation loss: tensor(0.6458)\n",
            "validation loss: tensor(0.6458)\n",
            "validation loss: tensor(0.6458)\n",
            "validation loss: tensor(0.6458)\n",
            "validation loss: tensor(0.6458)\n",
            "validation loss: tensor(0.6458)\n",
            "validation loss: tensor(0.6458)\n",
            "validation loss: tensor(0.6458)\n",
            "validation loss: tensor(0.6458)\n",
            "validation loss: tensor(0.6458)\n",
            "validation loss: tensor(0.6458)\n",
            "validation loss: tensor(0.6458)\n",
            "validation loss: tensor(0.6458)\n",
            "validation loss: tensor(0.6458)\n",
            "validation loss: tensor(0.6458)\n",
            "validation loss: tensor(0.6458)\n",
            "validation loss: tensor(0.6458)\n",
            "validation loss: tensor(0.6458)\n",
            "validation loss: tensor(0.6458)\n",
            "validation loss: tensor(0.6458)\n",
            "validation loss: tensor(0.6458)\n",
            "validation loss: tensor(0.6458)\n",
            "validation loss: tensor(0.6458)\n",
            "validation loss: tensor(0.6458)\n",
            "validation loss: tensor(0.6458)\n",
            "validation loss: tensor(0.6458)\n",
            "validation loss: tensor(0.6458)\n",
            "validation loss: tensor(0.6458)\n",
            "validation loss: tensor(0.6458)\n",
            "validation loss: tensor(0.6458)\n",
            "validation loss: tensor(0.6458)\n",
            "validation loss: tensor(0.6458)\n",
            "validation loss: tensor(0.6458)\n",
            "validation loss: tensor(0.6458)\n",
            "validation loss: tensor(0.6458)\n",
            "validation loss: tensor(0.6458)\n",
            "validation loss: tensor(0.6458)\n",
            "validation loss: tensor(0.6458)\n",
            "validation loss: tensor(0.6458)\n",
            "validation loss: tensor(0.6458)\n",
            "validation loss: tensor(0.6458)\n",
            "validation loss: tensor(0.6458)\n",
            "validation loss: tensor(0.6458)\n",
            "validation loss: tensor(0.6458)\n",
            "validation loss: tensor(0.6458)\n",
            "validation loss: tensor(0.6458)\n",
            "validation loss: tensor(0.6458)\n",
            "validation loss: tensor(0.6458)\n",
            "validation loss: tensor(0.6458)\n",
            "validation loss: tensor(0.6458)\n",
            "validation loss: tensor(0.6458)\n",
            "validation loss: tensor(0.6458)\n",
            "validation loss: tensor(0.6458)\n",
            "validation loss: tensor(0.6458)\n",
            "validation loss: tensor(0.6458)\n",
            "validation loss: tensor(0.6458)\n",
            "validation loss: tensor(0.6458)\n",
            "validation loss: tensor(0.6458)\n",
            "validation loss: tensor(0.6458)\n",
            "validation loss: tensor(0.6458)\n",
            "validation loss: tensor(0.6458)\n",
            "validation loss: tensor(0.6458)\n",
            "validation loss: tensor(0.6458)\n",
            "validation loss: tensor(0.6458)\n",
            "validation loss: tensor(0.6458)\n",
            "validation loss: tensor(0.6458)\n",
            "validation loss: tensor(0.6458)\n",
            "validation loss: tensor(0.6458)\n",
            "validation loss: tensor(0.6458)\n",
            "validation loss: tensor(0.6458)\n",
            "validation loss: tensor(0.6458)\n",
            "validation loss: tensor(0.6458)\n",
            "validation loss: tensor(0.6458)\n",
            "validation loss: tensor(0.6458)\n",
            "validation loss: tensor(0.6458)\n",
            "validation loss: tensor(0.6458)\n",
            "validation loss: tensor(0.6458)\n",
            "validation loss: tensor(0.6458)\n",
            "validation loss: tensor(0.6458)\n",
            "validation loss: tensor(0.6458)\n",
            "validation loss: tensor(0.6458)\n",
            "validation loss: tensor(0.6458)\n",
            "validation loss: tensor(0.6458)\n",
            "validation loss: tensor(0.6458)\n",
            "validation loss: tensor(0.6458)\n",
            "validation loss: tensor(0.6458)\n",
            "validation loss: tensor(0.6458)\n",
            "validation loss: tensor(0.6458)\n",
            "validation loss: tensor(0.6458)\n",
            "validation loss: tensor(0.6458)\n",
            "validation loss: tensor(0.6458)\n",
            "validation loss: tensor(0.6458)\n",
            "validation loss: tensor(0.6458)\n",
            "validation loss: tensor(0.6458)\n",
            "validation loss: tensor(0.6458)\n",
            "validation loss: tensor(0.6458)\n",
            "validation loss: tensor(0.6458)\n",
            "validation loss: tensor(0.6458)\n",
            "validation loss: tensor(0.6458)\n",
            "validation loss: tensor(0.6458)\n",
            "validation loss: tensor(0.6458)\n",
            "validation loss: tensor(0.6458)\n",
            "validation loss: tensor(0.6458)\n",
            "validation loss: tensor(0.6458)\n",
            "validation loss: tensor(0.6458)\n",
            "validation loss: tensor(0.6458)\n",
            "validation loss: tensor(0.6458)\n",
            "validation loss: tensor(0.6458)\n",
            "validation loss: tensor(0.6458)\n",
            "validation loss: tensor(0.6458)\n",
            "validation loss: tensor(0.6458)\n",
            "validation loss: tensor(0.6458)\n",
            "validation loss: tensor(0.6458)\n",
            "validation loss: tensor(0.6458)\n",
            "validation loss: tensor(0.6458)\n",
            "validation loss: tensor(0.6458)\n",
            "validation loss: tensor(0.6458)\n",
            "validation loss: tensor(0.6458)\n",
            "validation loss: tensor(0.6458)\n",
            "validation loss: tensor(0.6458)\n",
            "validation loss: tensor(0.6458)\n",
            "validation loss: tensor(0.6458)\n",
            "validation loss: tensor(0.6458)\n",
            "validation loss: tensor(0.6458)\n",
            "validation loss: tensor(0.6458)\n",
            "validation loss: tensor(0.6458)\n",
            "validation loss: tensor(0.6458)\n",
            "validation loss: tensor(0.6458)\n",
            "validation loss: tensor(0.6458)\n",
            "validation loss: tensor(0.6458)\n",
            "validation loss: tensor(0.6458)\n",
            "validation loss: tensor(0.6458)\n",
            "validation loss: tensor(0.6458)\n",
            "validation loss: tensor(0.6458)\n",
            "validation loss: tensor(0.6458)\n",
            "validation loss: tensor(0.6458)\n",
            "validation loss: tensor(0.6458)\n",
            "validation loss: tensor(0.6458)\n",
            "validation loss: tensor(0.6458)\n",
            "validation loss: tensor(0.6458)\n",
            "validation loss: tensor(0.6458)\n",
            "validation loss: tensor(0.6458)\n",
            "validation loss: tensor(0.6458)\n",
            "validation loss: tensor(0.6458)\n",
            "validation loss: tensor(0.6458)\n",
            "validation loss: tensor(0.6458)\n",
            "validation loss: tensor(0.6458)\n",
            "validation loss: tensor(0.6458)\n",
            "validation loss: tensor(0.6458)\n",
            "validation loss: tensor(0.6458)\n",
            "validation loss: tensor(0.6458)\n",
            "validation loss: tensor(0.6458)\n",
            "validation loss: tensor(0.6458)\n",
            "validation loss: tensor(0.6250)\n",
            "validation loss: tensor(0.6250)\n",
            "validation loss: tensor(0.6250)\n",
            "validation loss: tensor(0.6250)\n",
            "validation loss: tensor(0.6250)\n",
            "validation loss: tensor(0.6250)\n",
            "validation loss: tensor(0.6250)\n",
            "validation loss: tensor(0.6250)\n",
            "validation loss: tensor(0.6250)\n",
            "validation loss: tensor(0.6250)\n",
            "validation loss: tensor(0.6250)\n",
            "validation loss: tensor(0.6250)\n",
            "validation loss: tensor(0.6250)\n",
            "validation loss: tensor(0.6250)\n",
            "validation loss: tensor(0.6250)\n",
            "validation loss: tensor(0.6250)\n",
            "validation loss: tensor(0.6250)\n",
            "validation loss: tensor(0.6250)\n",
            "validation loss: tensor(0.6250)\n",
            "validation loss: tensor(0.6250)\n",
            "validation loss: tensor(0.6250)\n",
            "validation loss: tensor(0.6250)\n",
            "validation loss: tensor(0.6250)\n",
            "validation loss: tensor(0.6250)\n",
            "validation loss: tensor(0.6250)\n",
            "validation loss: tensor(0.6250)\n",
            "validation loss: tensor(0.6250)\n",
            "validation loss: tensor(0.6250)\n",
            "validation loss: tensor(0.6250)\n",
            "validation loss: tensor(0.6250)\n",
            "validation loss: tensor(0.6250)\n",
            "validation loss: tensor(0.6250)\n",
            "validation loss: tensor(0.6250)\n",
            "validation loss: tensor(0.6250)\n",
            "validation loss: tensor(0.6250)\n",
            "validation loss: tensor(0.6250)\n",
            "validation loss: tensor(0.6250)\n",
            "validation loss: tensor(0.6250)\n",
            "validation loss: tensor(0.6250)\n",
            "validation loss: tensor(0.6250)\n",
            "validation loss: tensor(0.6250)\n",
            "validation loss: tensor(0.6250)\n",
            "validation loss: tensor(0.6250)\n",
            "validation loss: tensor(0.6250)\n",
            "validation loss: tensor(0.6250)\n",
            "validation loss: tensor(0.6250)\n",
            "validation loss: tensor(0.6250)\n",
            "validation loss: tensor(0.6250)\n",
            "validation loss: tensor(0.6250)\n",
            "validation loss: tensor(0.6250)\n",
            "validation loss: tensor(0.6250)\n",
            "validation loss: tensor(0.6250)\n",
            "validation loss: tensor(0.6250)\n",
            "validation loss: tensor(0.6250)\n",
            "validation loss: tensor(0.6250)\n",
            "validation loss: tensor(0.6250)\n",
            "validation loss: tensor(0.6250)\n",
            "validation loss: tensor(0.6250)\n",
            "validation loss: tensor(0.6250)\n",
            "validation loss: tensor(0.6250)\n",
            "validation loss: tensor(0.6250)\n",
            "validation loss: tensor(0.6250)\n",
            "validation loss: tensor(0.6250)\n",
            "validation loss: tensor(0.6250)\n",
            "validation loss: tensor(0.6250)\n",
            "validation loss: tensor(0.6250)\n",
            "validation loss: tensor(0.6250)\n",
            "validation loss: tensor(0.6250)\n",
            "validation loss: tensor(0.6250)\n",
            "validation loss: tensor(0.6250)\n",
            "validation loss: tensor(0.6250)\n",
            "validation loss: tensor(0.6250)\n",
            "validation loss: tensor(0.6250)\n",
            "validation loss: tensor(0.6250)\n",
            "validation loss: tensor(0.6250)\n",
            "validation loss: tensor(0.6250)\n",
            "validation loss: tensor(0.6250)\n",
            "validation loss: tensor(0.6250)\n",
            "validation loss: tensor(0.6250)\n",
            "validation loss: tensor(0.6250)\n",
            "validation loss: tensor(0.6250)\n",
            "validation loss: tensor(0.6250)\n",
            "validation loss: tensor(0.6250)\n",
            "validation loss: tensor(0.6250)\n",
            "validation loss: tensor(0.6250)\n",
            "validation loss: tensor(0.6250)\n",
            "validation loss: tensor(0.6250)\n",
            "validation loss: tensor(0.6250)\n",
            "validation loss: tensor(0.6250)\n",
            "validation loss: tensor(0.6250)\n",
            "validation loss: tensor(0.6250)\n",
            "validation loss: tensor(0.6250)\n",
            "validation loss: tensor(0.6250)\n",
            "validation loss: tensor(0.6250)\n",
            "validation loss: tensor(0.6250)\n",
            "validation loss: tensor(0.6250)\n",
            "validation loss: tensor(0.6250)\n",
            "validation loss: tensor(0.6250)\n",
            "validation loss: tensor(0.6250)\n",
            "validation loss: tensor(0.6250)\n",
            "validation loss: tensor(0.6250)\n",
            "validation loss: tensor(0.6250)\n",
            "validation loss: tensor(0.6250)\n",
            "validation loss: tensor(0.6250)\n",
            "validation loss: tensor(0.6250)\n",
            "validation loss: tensor(0.6250)\n",
            "validation loss: tensor(0.6250)\n",
            "validation loss: tensor(0.6250)\n",
            "validation loss: tensor(0.6250)\n",
            "validation loss: tensor(0.6250)\n",
            "validation loss: tensor(0.6250)\n",
            "validation loss: tensor(0.6250)\n",
            "validation loss: tensor(0.6250)\n",
            "validation loss: tensor(0.6250)\n",
            "validation loss: tensor(0.6250)\n",
            "validation loss: tensor(0.6250)\n",
            "validation loss: tensor(0.6250)\n",
            "validation loss: tensor(0.6250)\n",
            "validation loss: tensor(0.6250)\n",
            "validation loss: tensor(0.6250)\n",
            "validation loss: tensor(0.6250)\n",
            "validation loss: tensor(0.6250)\n",
            "validation loss: tensor(0.6250)\n",
            "validation loss: tensor(0.6250)\n",
            "validation loss: tensor(0.6250)\n",
            "validation loss: tensor(0.6250)\n",
            "validation loss: tensor(0.6250)\n",
            "validation loss: tensor(0.6250)\n",
            "validation loss: tensor(0.6250)\n",
            "validation loss: tensor(0.6250)\n",
            "validation loss: tensor(0.6250)\n",
            "validation loss: tensor(0.6250)\n",
            "validation loss: tensor(0.6250)\n",
            "validation loss: tensor(0.6250)\n",
            "validation loss: tensor(0.6250)\n",
            "validation loss: tensor(0.6250)\n",
            "validation loss: tensor(0.6250)\n",
            "validation loss: tensor(0.6250)\n",
            "validation loss: tensor(0.6250)\n",
            "validation loss: tensor(0.6250)\n",
            "validation loss: tensor(0.6250)\n",
            "validation loss: tensor(0.6250)\n",
            "validation loss: tensor(0.6250)\n",
            "validation loss: tensor(0.6250)\n",
            "validation loss: tensor(0.6250)\n",
            "validation loss: tensor(0.6250)\n",
            "validation loss: tensor(0.6250)\n",
            "validation loss: tensor(0.6250)\n",
            "validation loss: tensor(0.6250)\n",
            "validation loss: tensor(0.6250)\n",
            "validation loss: tensor(0.6250)\n",
            "validation loss: tensor(0.6250)\n",
            "validation loss: tensor(0.6250)\n",
            "validation loss: tensor(0.6250)\n",
            "validation loss: tensor(0.6250)\n",
            "validation loss: tensor(0.6250)\n",
            "validation loss: tensor(0.6250)\n",
            "validation loss: tensor(0.6250)\n",
            "validation loss: tensor(0.6250)\n",
            "validation loss: tensor(0.6250)\n",
            "validation loss: tensor(0.6250)\n",
            "validation loss: tensor(0.6250)\n",
            "validation loss: tensor(0.6250)\n",
            "validation loss: tensor(0.6250)\n",
            "validation loss: tensor(0.6250)\n",
            "validation loss: tensor(0.6250)\n",
            "validation loss: tensor(0.6250)\n",
            "validation loss: tensor(0.6250)\n",
            "validation loss: tensor(0.6250)\n",
            "validation loss: tensor(0.6250)\n",
            "validation loss: tensor(0.6250)\n",
            "validation loss: tensor(0.6250)\n",
            "validation loss: tensor(0.6250)\n",
            "validation loss: tensor(0.6250)\n",
            "validation loss: tensor(0.6250)\n",
            "validation loss: tensor(0.6250)\n",
            "validation loss: tensor(0.6250)\n",
            "validation loss: tensor(0.6250)\n",
            "validation loss: tensor(0.6250)\n",
            "validation loss: tensor(0.6250)\n",
            "validation loss: tensor(0.6250)\n",
            "validation loss: tensor(0.6250)\n",
            "validation loss: tensor(0.6250)\n",
            "validation loss: tensor(0.6250)\n",
            "validation loss: tensor(0.6250)\n",
            "validation loss: tensor(0.6250)\n",
            "validation loss: tensor(0.6250)\n",
            "validation loss: tensor(0.6250)\n",
            "validation loss: tensor(0.6250)\n",
            "validation loss: tensor(0.6250)\n",
            "validation loss: tensor(0.6250)\n",
            "validation loss: tensor(0.6250)\n",
            "validation loss: tensor(0.6250)\n",
            "validation loss: tensor(0.6250)\n",
            "validation loss: tensor(0.6250)\n",
            "validation loss: tensor(0.6250)\n",
            "validation loss: tensor(0.6250)\n",
            "validation loss: tensor(0.6250)\n",
            "validation loss: tensor(0.6250)\n",
            "validation loss: tensor(0.6250)\n",
            "validation loss: tensor(0.6250)\n",
            "validation loss: tensor(0.6250)\n",
            "validation loss: tensor(0.6250)\n",
            "validation loss: tensor(0.6250)\n",
            "validation loss: tensor(0.6250)\n",
            "validation loss: tensor(0.6250)\n",
            "validation loss: tensor(0.6250)\n",
            "validation loss: tensor(0.6250)\n",
            "validation loss: tensor(0.6250)\n",
            "validation loss: tensor(0.6250)\n",
            "validation loss: tensor(0.6250)\n",
            "validation loss: tensor(0.6250)\n",
            "validation loss: tensor(0.6250)\n",
            "validation loss: tensor(0.6250)\n",
            "validation loss: tensor(0.6250)\n",
            "validation loss: tensor(0.6250)\n",
            "validation loss: tensor(0.6250)\n",
            "validation loss: tensor(0.6250)\n",
            "validation loss: tensor(0.6250)\n",
            "validation loss: tensor(0.6250)\n",
            "validation loss: tensor(0.6250)\n",
            "validation loss: tensor(0.6250)\n",
            "validation loss: tensor(0.6250)\n",
            "validation loss: tensor(0.6250)\n",
            "validation loss: tensor(0.6250)\n",
            "validation loss: tensor(0.6250)\n",
            "validation loss: tensor(0.6250)\n",
            "validation loss: tensor(0.6250)\n",
            "validation loss: tensor(0.6250)\n",
            "validation loss: tensor(0.6250)\n",
            "validation loss: tensor(0.6250)\n",
            "validation loss: tensor(0.6250)\n",
            "validation loss: tensor(0.6250)\n",
            "validation loss: tensor(0.6250)\n",
            "validation loss: tensor(0.6250)\n",
            "validation loss: tensor(0.6250)\n",
            "validation loss: tensor(0.6250)\n",
            "validation loss: tensor(0.6250)\n",
            "validation loss: tensor(0.6250)\n",
            "validation loss: tensor(0.6250)\n",
            "validation loss: tensor(0.6250)\n",
            "validation loss: tensor(0.6250)\n",
            "validation loss: tensor(0.6250)\n",
            "validation loss: tensor(0.6250)\n",
            "validation loss: tensor(0.6250)\n",
            "validation loss: tensor(0.6250)\n",
            "validation loss: tensor(0.6250)\n",
            "validation loss: tensor(0.6250)\n",
            "validation loss: tensor(0.6250)\n",
            "validation loss: tensor(0.6250)\n",
            "validation loss: tensor(0.6250)\n",
            "validation loss: tensor(0.6250)\n",
            "validation loss: tensor(0.6250)\n",
            "validation loss: tensor(0.6250)\n",
            "validation loss: tensor(0.6250)\n",
            "validation loss: tensor(0.6250)\n",
            "validation loss: tensor(0.6250)\n",
            "validation loss: tensor(0.6250)\n",
            "validation loss: tensor(0.6250)\n",
            "validation loss: tensor(0.6250)\n",
            "validation loss: tensor(0.6250)\n",
            "validation loss: tensor(0.6250)\n",
            "validation loss: tensor(0.6250)\n",
            "validation loss: tensor(0.6250)\n",
            "validation loss: tensor(0.6250)\n",
            "validation loss: tensor(0.6250)\n",
            "validation loss: tensor(0.6250)\n",
            "validation loss: tensor(0.6250)\n",
            "validation loss: tensor(0.6250)\n",
            "validation loss: tensor(0.6250)\n",
            "validation loss: tensor(0.6250)\n",
            "validation loss: tensor(0.6250)\n",
            "validation loss: tensor(0.6250)\n",
            "validation loss: tensor(0.6250)\n",
            "validation loss: tensor(0.6250)\n",
            "validation loss: tensor(0.6250)\n",
            "validation loss: tensor(0.6250)\n",
            "validation loss: tensor(0.6250)\n",
            "validation loss: tensor(0.6250)\n",
            "validation loss: tensor(0.6250)\n",
            "validation loss: tensor(0.6250)\n",
            "validation loss: tensor(0.6250)\n",
            "validation loss: tensor(0.6250)\n",
            "validation loss: tensor(0.6250)\n",
            "validation loss: tensor(0.6250)\n",
            "validation loss: tensor(0.6250)\n",
            "validation loss: tensor(0.6250)\n",
            "validation loss: tensor(0.6250)\n",
            "validation loss: tensor(0.6250)\n",
            "validation loss: tensor(0.6250)\n",
            "validation loss: tensor(0.6250)\n",
            "validation loss: tensor(0.6250)\n",
            "validation loss: tensor(0.6250)\n",
            "validation loss: tensor(0.6250)\n",
            "validation loss: tensor(0.6250)\n",
            "validation loss: tensor(0.6250)\n",
            "validation loss: tensor(0.6250)\n",
            "validation loss: tensor(0.6250)\n",
            "validation loss: tensor(0.6250)\n",
            "validation loss: tensor(0.6250)\n",
            "validation loss: tensor(0.6250)\n",
            "validation loss: tensor(0.6250)\n",
            "validation loss: tensor(0.6250)\n",
            "validation loss: tensor(0.6250)\n",
            "validation loss: tensor(0.6250)\n",
            "validation loss: tensor(0.6250)\n",
            "validation loss: tensor(0.6250)\n",
            "validation loss: tensor(0.6250)\n",
            "validation loss: tensor(0.6250)\n",
            "validation loss: tensor(0.6250)\n",
            "validation loss: tensor(0.6250)\n",
            "validation loss: tensor(0.6250)\n",
            "validation loss: tensor(0.6250)\n",
            "validation loss: tensor(0.6250)\n",
            "validation loss: tensor(0.6250)\n",
            "validation loss: tensor(0.6250)\n",
            "validation loss: tensor(0.6250)\n",
            "validation loss: tensor(0.6250)\n",
            "validation loss: tensor(0.6250)\n",
            "validation loss: tensor(0.6250)\n",
            "validation loss: tensor(0.6250)\n",
            "validation loss: tensor(0.6250)\n",
            "validation loss: tensor(0.6250)\n",
            "validation loss: tensor(0.6250)\n",
            "validation loss: tensor(0.6250)\n",
            "validation loss: tensor(0.6250)\n",
            "validation loss: tensor(0.6250)\n",
            "validation loss: tensor(0.6250)\n",
            "validation loss: tensor(0.6250)\n",
            "validation loss: tensor(0.6250)\n",
            "validation loss: tensor(0.6250)\n",
            "validation loss: tensor(0.6250)\n",
            "validation loss: tensor(0.6250)\n",
            "validation loss: tensor(0.6250)\n",
            "validation loss: tensor(0.6250)\n",
            "validation loss: tensor(0.6250)\n",
            "validation loss: tensor(0.6250)\n",
            "validation loss: tensor(0.6250)\n",
            "validation loss: tensor(0.6250)\n",
            "validation loss: tensor(0.6250)\n",
            "validation loss: tensor(0.6250)\n",
            "validation loss: tensor(0.6250)\n",
            "validation loss: tensor(0.6250)\n",
            "validation loss: tensor(0.6250)\n",
            "validation loss: tensor(0.6250)\n",
            "validation loss: tensor(0.6250)\n",
            "validation loss: tensor(0.6250)\n",
            "validation loss: tensor(0.6250)\n",
            "validation loss: tensor(0.6250)\n",
            "validation loss: tensor(0.6250)\n",
            "validation loss: tensor(0.6250)\n",
            "validation loss: tensor(0.6250)\n",
            "validation loss: tensor(0.6250)\n",
            "validation loss: tensor(0.6250)\n",
            "validation loss: tensor(0.6250)\n",
            "validation loss: tensor(0.6250)\n",
            "validation loss: tensor(0.6250)\n",
            "validation loss: tensor(0.6250)\n",
            "validation loss: tensor(0.6250)\n",
            "validation loss: tensor(0.6250)\n",
            "validation loss: tensor(0.6250)\n",
            "validation loss: tensor(0.6250)\n",
            "validation loss: tensor(0.6250)\n",
            "validation loss: tensor(0.6250)\n",
            "validation loss: tensor(0.6250)\n",
            "validation loss: tensor(0.6250)\n",
            "validation loss: tensor(0.6250)\n",
            "validation loss: tensor(0.6250)\n",
            "validation loss: tensor(0.6250)\n",
            "validation loss: tensor(0.6250)\n",
            "validation loss: tensor(0.6250)\n",
            "validation loss: tensor(0.6250)\n",
            "validation loss: tensor(0.6250)\n",
            "validation loss: tensor(0.6250)\n",
            "validation loss: tensor(0.6250)\n",
            "validation loss: tensor(0.6250)\n",
            "validation loss: tensor(0.6250)\n",
            "validation loss: tensor(0.6250)\n",
            "validation loss: tensor(0.6250)\n",
            "validation loss: tensor(0.6250)\n",
            "validation loss: tensor(0.6250)\n",
            "validation loss: tensor(0.6250)\n",
            "validation loss: tensor(0.6250)\n",
            "validation loss: tensor(0.6250)\n",
            "validation loss: tensor(0.6250)\n",
            "validation loss: tensor(0.6250)\n",
            "validation loss: tensor(0.6250)\n",
            "validation loss: tensor(0.6250)\n",
            "validation loss: tensor(0.6250)\n",
            "validation loss: tensor(0.6250)\n",
            "validation loss: tensor(0.6250)\n",
            "validation loss: tensor(0.6250)\n",
            "validation loss: tensor(0.6250)\n",
            "validation loss: tensor(0.6250)\n",
            "validation loss: tensor(0.6250)\n",
            "validation loss: tensor(0.6250)\n",
            "validation loss: tensor(0.6250)\n",
            "validation loss: tensor(0.6250)\n",
            "validation loss: tensor(0.6250)\n",
            "validation loss: tensor(0.6250)\n",
            "validation loss: tensor(0.6250)\n",
            "validation loss: tensor(0.6250)\n",
            "validation loss: tensor(0.6250)\n",
            "validation loss: tensor(0.6250)\n",
            "validation loss: tensor(0.6250)\n",
            "validation loss: tensor(0.6250)\n",
            "validation loss: tensor(0.6250)\n",
            "validation loss: tensor(0.6250)\n",
            "validation loss: tensor(0.6250)\n",
            "validation loss: tensor(0.6250)\n",
            "validation loss: tensor(0.6250)\n",
            "validation loss: tensor(0.6250)\n",
            "validation loss: tensor(0.6250)\n",
            "validation loss: tensor(0.6250)\n",
            "validation loss: tensor(0.6250)\n",
            "validation loss: tensor(0.6250)\n",
            "validation loss: tensor(0.6250)\n",
            "validation loss: tensor(0.6250)\n",
            "validation loss: tensor(0.6250)\n",
            "validation loss: tensor(0.6250)\n",
            "validation loss: tensor(0.6250)\n",
            "validation loss: tensor(0.6250)\n",
            "validation loss: tensor(0.6250)\n",
            "validation loss: tensor(0.6250)\n",
            "validation loss: tensor(0.6250)\n",
            "validation loss: tensor(0.6250)\n",
            "validation loss: tensor(0.6250)\n",
            "validation loss: tensor(0.6250)\n",
            "validation loss: tensor(0.6250)\n",
            "validation loss: tensor(0.6250)\n",
            "validation loss: tensor(0.6250)\n",
            "validation loss: tensor(0.6250)\n",
            "validation loss: tensor(0.6250)\n",
            "validation loss: tensor(0.6250)\n",
            "validation loss: tensor(0.6250)\n",
            "validation loss: tensor(0.6250)\n",
            "validation loss: tensor(0.6250)\n",
            "validation loss: tensor(0.6250)\n",
            "validation loss: tensor(0.6250)\n",
            "validation loss: tensor(0.6250)\n",
            "validation loss: tensor(0.6250)\n",
            "validation loss: tensor(0.6250)\n",
            "validation loss: tensor(0.6250)\n",
            "validation loss: tensor(0.6250)\n",
            "validation loss: tensor(0.6250)\n",
            "validation loss: tensor(0.6250)\n",
            "validation loss: tensor(0.6250)\n",
            "validation loss: tensor(0.6250)\n",
            "validation loss: tensor(0.6250)\n",
            "validation loss: tensor(0.6250)\n",
            "validation loss: tensor(0.6250)\n",
            "validation loss: tensor(0.6250)\n",
            "validation loss: tensor(0.6250)\n",
            "validation loss: tensor(0.6250)\n",
            "validation loss: tensor(0.6250)\n",
            "validation loss: tensor(0.6250)\n",
            "validation loss: tensor(0.6250)\n",
            "validation loss: tensor(0.6250)\n",
            "validation loss: tensor(0.6250)\n",
            "validation loss: tensor(0.6250)\n",
            "validation loss: tensor(0.6250)\n",
            "validation loss: tensor(0.6250)\n",
            "validation loss: tensor(0.6250)\n",
            "validation loss: tensor(0.6250)\n",
            "validation loss: tensor(0.6250)\n",
            "validation loss: tensor(0.6250)\n",
            "validation loss: tensor(0.6250)\n",
            "validation loss: tensor(0.6250)\n",
            "validation loss: tensor(0.6250)\n",
            "validation loss: tensor(0.6250)\n",
            "validation loss: tensor(0.6250)\n",
            "validation loss: tensor(0.6250)\n",
            "validation loss: tensor(0.6250)\n",
            "validation loss: tensor(0.6250)\n",
            "validation loss: tensor(0.6250)\n",
            "validation loss: tensor(0.6250)\n"
          ]
        }
      ]
    },
    {
      "cell_type": "code",
      "source": [
        ""
      ],
      "metadata": {
        "id": "J0mepYTcnPIs"
      },
      "execution_count": null,
      "outputs": []
    }
  ]
}